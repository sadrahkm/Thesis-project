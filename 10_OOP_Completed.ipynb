{
  "cells": [
    {
      "cell_type": "markdown",
      "metadata": {
        "id": "nppECuW-jWVH"
      },
      "source": [
        "# Initializer"
      ]
    },
    {
      "cell_type": "code",
      "source": [
        "import os\n",
        "from google.colab import drive"
      ],
      "metadata": {
        "id": "GMB-J_XidYMj"
      },
      "execution_count": null,
      "outputs": []
    },
    {
      "cell_type": "markdown",
      "source": [
        "## Initializer class"
      ],
      "metadata": {
        "id": "eGB7fGS11qIV"
      }
    },
    {
      "cell_type": "code",
      "source": [
        "class Initializer:\n",
        "  spark = None\n",
        "\n",
        "  @classmethod\n",
        "  def init_spark(self):\n",
        "    !pip install -q findspark\n",
        "    !apt-get install openjdk-8-jdk-headless -qq > /dev/null\n",
        "    !pip install pyspark\n",
        "    !wget -q https://dlcdn.apache.org/spark/spark-3.3.0/spark-3.3.0-bin-hadoop3.tgz\n",
        "    !tar xf spark-3.3.0-bin-hadoop3.tgz\n",
        "    os.environ[\"JAVA_HOME\"] = \"/usr/lib/jvm/java-8-openjdk-amd64\"\n",
        "    os.environ[\"SPARK_HOME\"] = \"/content/spark-3.3.0-bin-hadoop3\"\n",
        "    import findspark\n",
        "    from pyspark.sql import SparkSession\n",
        "    findspark.init()\n",
        "    self.spark = SparkSession.builder.master(\"local[*]\").getOrCreate()\n",
        "\n",
        "\n",
        "  @classmethod\n",
        "  def download_dataset(self):\n",
        "    !pip install kaggle\n",
        "    !mkdir .kaggle\n",
        "    !mv kaggle.json .kaggle\n",
        "    !mv .kaggle /root/\n",
        "    !chmod 600 /root/.kaggle/kaggle.json\n",
        "\n",
        "    !kaggle datasets download -d yelp-dataset/yelp-dataset\n",
        "    !unzip yelp-dataset\n",
        "  \n",
        "  @classmethod\n",
        "  def mount_google():\n",
        "    from google.colab import drive\n",
        "    drive.mount('/content/drive')"
      ],
      "metadata": {
        "id": "iSmiC53o6Z2f"
      },
      "execution_count": null,
      "outputs": []
    },
    {
      "cell_type": "markdown",
      "source": [
        "## Initializer Facade"
      ],
      "metadata": {
        "id": "Ptrz6Bez1tFE"
      }
    },
    {
      "cell_type": "code",
      "source": [
        "class InitializerFacade:\n",
        "  def __init__(self):\n",
        "    self.initializer = Initializer\n",
        "\n",
        "  def run(self):\n",
        "    self.initializer.init_spark()\n",
        "    self.initializer.download_dataset()"
      ],
      "metadata": {
        "id": "nk1KxleBcBAE"
      },
      "execution_count": null,
      "outputs": []
    },
    {
      "cell_type": "markdown",
      "metadata": {
        "id": "LgZMSBbujcj9"
      },
      "source": [
        "# Dataset"
      ]
    },
    {
      "cell_type": "code",
      "source": [
        "class YelpDataset:\n",
        "  review_file = \"/content/yelp_academic_dataset_review.json\"\n",
        "  business_file = \"/content/yelp_academic_dataset_business.json\"\n",
        "\n",
        "  @classmethod\n",
        "  def loading_businesses(self):\n",
        "    businesss_json = spark.read.json(self.business_file)\n",
        "    businesss_json.createOrReplaceTempView(\"businesses\")\n",
        "\n",
        "  @classmethod\n",
        "  def loading_reviews(self):\n",
        "    review_json = spark.read.json(self.review_file)\n",
        "    review_json.createOrReplaceTempView(\"reviews\")\n",
        "\n",
        "  @classmethod\n",
        "  def get_city_df(self, city):\n",
        "    query = \"SELECT reviews.text, reviews.stars, reviews.user_id, reviews.business_id FROM reviews INNER JOIN businesses ON businesses.business_id=reviews.business_id where state='{}';\".format(city)\n",
        "    review_list = spark.sql(query)\n",
        "    return review_list.toPandas()\n",
        "\n",
        "  @classmethod\n",
        "  def get_city_items_df(self, city):\n",
        "    query = \"SELECT * FROM businesses WHERE state='{}'\".format(city)\n",
        "    city_list = spark.sql(query)\n",
        "    return city_list.toPandas()\n",
        "\n",
        "\n",
        "  @classmethod\n",
        "  def no_businesses_by_state(self):\n",
        "    return spark.sql(\"select state, count(business_id) as no_businesses from businesses group by state order by no_businesses desc\")\n",
        "\n",
        "  @classmethod\n",
        "  def no_reviews_by_state(self):\n",
        "    return spark.sql(\"select state, sum(review_count) as totalReview from businesses group by state order by totalReview desc\")\n",
        "\n"
      ],
      "metadata": {
        "id": "u5b3qXWgeQ9y"
      },
      "execution_count": null,
      "outputs": []
    },
    {
      "cell_type": "markdown",
      "metadata": {
        "id": "H9jh3kEq8Ea_"
      },
      "source": [
        "# Main"
      ]
    },
    {
      "cell_type": "code",
      "source": [
        "InitializerFacade().run()\n",
        "spark = Initializer.spark"
      ],
      "metadata": {
        "id": "cZ3dKRw22DAt",
        "colab": {
          "base_uri": "https://localhost:8080/"
        },
        "outputId": "dea92a9d-d485-4708-9cd2-0f5e750c3e59"
      },
      "execution_count": null,
      "outputs": [
        {
          "output_type": "stream",
          "name": "stdout",
          "text": [
            "Looking in indexes: https://pypi.org/simple, https://us-python.pkg.dev/colab-wheels/public/simple/\n",
            "Collecting pyspark\n",
            "  Downloading pyspark-3.3.0.tar.gz (281.3 MB)\n",
            "\u001b[K     |████████████████████████████████| 281.3 MB 55 kB/s \n",
            "\u001b[?25hCollecting py4j==0.10.9.5\n",
            "  Downloading py4j-0.10.9.5-py2.py3-none-any.whl (199 kB)\n",
            "\u001b[K     |████████████████████████████████| 199 kB 66.6 MB/s \n",
            "\u001b[?25hBuilding wheels for collected packages: pyspark\n",
            "  Building wheel for pyspark (setup.py) ... \u001b[?25l\u001b[?25hdone\n",
            "  Created wheel for pyspark: filename=pyspark-3.3.0-py2.py3-none-any.whl size=281764026 sha256=93ff6b9254602c95ff3696da828baa7972b2bc282eac072db54c4b02655ec59d\n",
            "  Stored in directory: /root/.cache/pip/wheels/7a/8e/1b/f73a52650d2e5f337708d9f6a1750d451a7349a867f928b885\n",
            "Successfully built pyspark\n",
            "Installing collected packages: py4j, pyspark\n",
            "Successfully installed py4j-0.10.9.5 pyspark-3.3.0\n",
            "Looking in indexes: https://pypi.org/simple, https://us-python.pkg.dev/colab-wheels/public/simple/\n",
            "Requirement already satisfied: kaggle in /usr/local/lib/python3.7/dist-packages (1.5.12)\n",
            "Requirement already satisfied: python-dateutil in /usr/local/lib/python3.7/dist-packages (from kaggle) (2.8.2)\n",
            "Requirement already satisfied: urllib3 in /usr/local/lib/python3.7/dist-packages (from kaggle) (1.24.3)\n",
            "Requirement already satisfied: six>=1.10 in /usr/local/lib/python3.7/dist-packages (from kaggle) (1.15.0)\n",
            "Requirement already satisfied: certifi in /usr/local/lib/python3.7/dist-packages (from kaggle) (2022.6.15)\n",
            "Requirement already satisfied: requests in /usr/local/lib/python3.7/dist-packages (from kaggle) (2.23.0)\n",
            "Requirement already satisfied: python-slugify in /usr/local/lib/python3.7/dist-packages (from kaggle) (6.1.2)\n",
            "Requirement already satisfied: tqdm in /usr/local/lib/python3.7/dist-packages (from kaggle) (4.64.0)\n",
            "Requirement already satisfied: text-unidecode>=1.3 in /usr/local/lib/python3.7/dist-packages (from python-slugify->kaggle) (1.3)\n",
            "Requirement already satisfied: chardet<4,>=3.0.2 in /usr/local/lib/python3.7/dist-packages (from requests->kaggle) (3.0.4)\n",
            "Requirement already satisfied: idna<3,>=2.5 in /usr/local/lib/python3.7/dist-packages (from requests->kaggle) (2.10)\n",
            "Downloading yelp-dataset.zip to /content\n",
            "100% 4.07G/4.07G [01:55<00:00, 51.3MB/s]\n",
            "100% 4.07G/4.07G [01:55<00:00, 37.9MB/s]\n",
            "Archive:  yelp-dataset.zip\n",
            "  inflating: Dataset_User_Agreement.pdf  \n",
            "  inflating: yelp_academic_dataset_business.json  \n",
            "  inflating: yelp_academic_dataset_checkin.json  \n",
            "  inflating: yelp_academic_dataset_review.json  \n",
            "  inflating: yelp_academic_dataset_tip.json  \n",
            "  inflating: yelp_academic_dataset_user.json  \n"
          ]
        }
      ]
    },
    {
      "cell_type": "code",
      "execution_count": null,
      "metadata": {
        "id": "yPTNkEWq55TD",
        "colab": {
          "base_uri": "https://localhost:8080/"
        },
        "outputId": "4ae0b455-8211-4500-8782-ac9aedd1e0d9"
      },
      "outputs": [
        {
          "output_type": "stream",
          "name": "stdout",
          "text": [
            "(260897, 4) (348856, 4)\n"
          ]
        }
      ],
      "source": [
        "YelpDataset.loading_businesses()\n",
        "YelpDataset.loading_reviews()\n",
        "review_first_df = YelpDataset.get_city_df('CA')\n",
        "review_second_df = YelpDataset.get_city_df('NJ')\n",
        "print(review_second_df.shape, review_first_df.shape)"
      ]
    },
    {
      "cell_type": "code",
      "source": [
        "review_second_df_org = review_first_df\n",
        "review_second_df_org = review_second_df "
      ],
      "metadata": {
        "id": "1BEpxkh9IAc6"
      },
      "execution_count": null,
      "outputs": []
    },
    {
      "cell_type": "code",
      "source": [
        "TEST_SIZE = 50000\n",
        "TRAIN_SIZE = 50000\n",
        "NNH_TRAIN_SIZE = 50000\n",
        "SENTIMENT_DATAFRAME_SIZE = 50000\n",
        "TOP_N_RECOMMENDATION = 10"
      ],
      "metadata": {
        "id": "TPyNJ69l3vtb"
      },
      "execution_count": null,
      "outputs": []
    },
    {
      "cell_type": "code",
      "source": [
        "review_limited_first_df = review_first_df[:TEST_SIZE]\n",
        "review_limited_second_df = review_second_df[:SENTIMENT_DATAFRAME_SIZE]"
      ],
      "metadata": {
        "id": "PGM2Vzvq2TX-"
      },
      "execution_count": null,
      "outputs": []
    },
    {
      "cell_type": "code",
      "source": [
        "review_first_df = review_first_df[:TRAIN_SIZE]\n",
        "review_second_df = review_second_df[:TRAIN_SIZE]"
      ],
      "metadata": {
        "id": "uY_-Lr2iIFmm"
      },
      "execution_count": null,
      "outputs": []
    },
    {
      "cell_type": "code",
      "source": [
        "review_limitedNNH_second_df = review_second_df[:NNH_TRAIN_SIZE]"
      ],
      "metadata": {
        "id": "o-UyUdwIZIpZ"
      },
      "execution_count": null,
      "outputs": []
    },
    {
      "cell_type": "code",
      "source": [
        "review_limited_second_df"
      ],
      "metadata": {
        "colab": {
          "base_uri": "https://localhost:8080/",
          "height": 424
        },
        "id": "X8a7ORLLMGWK",
        "outputId": "aeadfb3c-deb3-4e49-8f14-2939137d189e"
      },
      "execution_count": null,
      "outputs": [
        {
          "output_type": "execute_result",
          "data": {
            "text/plain": [
              "                                                     text  stars  \\\n",
              "0       Excellent service! Great diner food and breakf...    4.0   \n",
              "1       Really good burger. I had the Bourbon Black an...    3.0   \n",
              "2       Eat here at least 2 times a week. Servers are ...    5.0   \n",
              "3       Steve & his partner are the best! Love that he...    5.0   \n",
              "4       It's no different than any other Chinese place...    3.0   \n",
              "...                                                   ...    ...   \n",
              "149995  Stopped in for some vegetable samosas. Perfect...    5.0   \n",
              "149996  First time here.  Just finished a delicious ch...    4.0   \n",
              "149997  COFFEE STOP REVIEW:\\n\\nWhen the sign on the do...    3.0   \n",
              "149998  So I'm not the type to complain about restaura...    1.0   \n",
              "149999  We're Red Robin regulars. We went out of town,...    5.0   \n",
              "\n",
              "                       user_id             business_id  \n",
              "0       GtqEcbHF-WTfKlms9250ZQ  7wQEzj-0yOpLiANNLuUflQ  \n",
              "1       n6rI5T6klu0KCz0q2tS9Ng  c5QMFe_yhgksThaR2a6rtg  \n",
              "2       ubOMW9s0Bhi_GGPeG8Uq7g  hy5GpGXAna-5qrb3zNub6g  \n",
              "3       dCOonQ7Md1ooief37g1SHw  rrD5LY3nkyKMg1CYKKZomQ  \n",
              "4       lbDYppQgGowSJIeD3xS4eA  W2mcChlYqeVirWSWSLgoDA  \n",
              "...                        ...                     ...  \n",
              "149995  DDItoaNRmJJYrhJGz4ZJ3w  Jyh16p7IGKs3z62IJR4MPw  \n",
              "149996  nG13UnOYqLuroGCr9gTeGQ  kg8N1PNJM5cJmSkafUZ0Ug  \n",
              "149997  -G7Zkl1wIWBBmD0KRy_sCw  82gbDck145sIpkPH3wuc4A  \n",
              "149998  ajkp62yLB7NJTI00vgLM-A  C4alYKA7QUKmP7diWP1M2A  \n",
              "149999  Ga6gaiE_gAYrfFEcM0JtyQ  HdYyrc45219Hg1YneqOyvg  \n",
              "\n",
              "[150000 rows x 4 columns]"
            ],
            "text/html": [
              "\n",
              "  <div id=\"df-986265d5-6a02-4ddd-a76f-4919b2c1756d\">\n",
              "    <div class=\"colab-df-container\">\n",
              "      <div>\n",
              "<style scoped>\n",
              "    .dataframe tbody tr th:only-of-type {\n",
              "        vertical-align: middle;\n",
              "    }\n",
              "\n",
              "    .dataframe tbody tr th {\n",
              "        vertical-align: top;\n",
              "    }\n",
              "\n",
              "    .dataframe thead th {\n",
              "        text-align: right;\n",
              "    }\n",
              "</style>\n",
              "<table border=\"1\" class=\"dataframe\">\n",
              "  <thead>\n",
              "    <tr style=\"text-align: right;\">\n",
              "      <th></th>\n",
              "      <th>text</th>\n",
              "      <th>stars</th>\n",
              "      <th>user_id</th>\n",
              "      <th>business_id</th>\n",
              "    </tr>\n",
              "  </thead>\n",
              "  <tbody>\n",
              "    <tr>\n",
              "      <th>0</th>\n",
              "      <td>Excellent service! Great diner food and breakf...</td>\n",
              "      <td>4.0</td>\n",
              "      <td>GtqEcbHF-WTfKlms9250ZQ</td>\n",
              "      <td>7wQEzj-0yOpLiANNLuUflQ</td>\n",
              "    </tr>\n",
              "    <tr>\n",
              "      <th>1</th>\n",
              "      <td>Really good burger. I had the Bourbon Black an...</td>\n",
              "      <td>3.0</td>\n",
              "      <td>n6rI5T6klu0KCz0q2tS9Ng</td>\n",
              "      <td>c5QMFe_yhgksThaR2a6rtg</td>\n",
              "    </tr>\n",
              "    <tr>\n",
              "      <th>2</th>\n",
              "      <td>Eat here at least 2 times a week. Servers are ...</td>\n",
              "      <td>5.0</td>\n",
              "      <td>ubOMW9s0Bhi_GGPeG8Uq7g</td>\n",
              "      <td>hy5GpGXAna-5qrb3zNub6g</td>\n",
              "    </tr>\n",
              "    <tr>\n",
              "      <th>3</th>\n",
              "      <td>Steve &amp; his partner are the best! Love that he...</td>\n",
              "      <td>5.0</td>\n",
              "      <td>dCOonQ7Md1ooief37g1SHw</td>\n",
              "      <td>rrD5LY3nkyKMg1CYKKZomQ</td>\n",
              "    </tr>\n",
              "    <tr>\n",
              "      <th>4</th>\n",
              "      <td>It's no different than any other Chinese place...</td>\n",
              "      <td>3.0</td>\n",
              "      <td>lbDYppQgGowSJIeD3xS4eA</td>\n",
              "      <td>W2mcChlYqeVirWSWSLgoDA</td>\n",
              "    </tr>\n",
              "    <tr>\n",
              "      <th>...</th>\n",
              "      <td>...</td>\n",
              "      <td>...</td>\n",
              "      <td>...</td>\n",
              "      <td>...</td>\n",
              "    </tr>\n",
              "    <tr>\n",
              "      <th>149995</th>\n",
              "      <td>Stopped in for some vegetable samosas. Perfect...</td>\n",
              "      <td>5.0</td>\n",
              "      <td>DDItoaNRmJJYrhJGz4ZJ3w</td>\n",
              "      <td>Jyh16p7IGKs3z62IJR4MPw</td>\n",
              "    </tr>\n",
              "    <tr>\n",
              "      <th>149996</th>\n",
              "      <td>First time here.  Just finished a delicious ch...</td>\n",
              "      <td>4.0</td>\n",
              "      <td>nG13UnOYqLuroGCr9gTeGQ</td>\n",
              "      <td>kg8N1PNJM5cJmSkafUZ0Ug</td>\n",
              "    </tr>\n",
              "    <tr>\n",
              "      <th>149997</th>\n",
              "      <td>COFFEE STOP REVIEW:\\n\\nWhen the sign on the do...</td>\n",
              "      <td>3.0</td>\n",
              "      <td>-G7Zkl1wIWBBmD0KRy_sCw</td>\n",
              "      <td>82gbDck145sIpkPH3wuc4A</td>\n",
              "    </tr>\n",
              "    <tr>\n",
              "      <th>149998</th>\n",
              "      <td>So I'm not the type to complain about restaura...</td>\n",
              "      <td>1.0</td>\n",
              "      <td>ajkp62yLB7NJTI00vgLM-A</td>\n",
              "      <td>C4alYKA7QUKmP7diWP1M2A</td>\n",
              "    </tr>\n",
              "    <tr>\n",
              "      <th>149999</th>\n",
              "      <td>We're Red Robin regulars. We went out of town,...</td>\n",
              "      <td>5.0</td>\n",
              "      <td>Ga6gaiE_gAYrfFEcM0JtyQ</td>\n",
              "      <td>HdYyrc45219Hg1YneqOyvg</td>\n",
              "    </tr>\n",
              "  </tbody>\n",
              "</table>\n",
              "<p>150000 rows × 4 columns</p>\n",
              "</div>\n",
              "      <button class=\"colab-df-convert\" onclick=\"convertToInteractive('df-986265d5-6a02-4ddd-a76f-4919b2c1756d')\"\n",
              "              title=\"Convert this dataframe to an interactive table.\"\n",
              "              style=\"display:none;\">\n",
              "        \n",
              "  <svg xmlns=\"http://www.w3.org/2000/svg\" height=\"24px\"viewBox=\"0 0 24 24\"\n",
              "       width=\"24px\">\n",
              "    <path d=\"M0 0h24v24H0V0z\" fill=\"none\"/>\n",
              "    <path d=\"M18.56 5.44l.94 2.06.94-2.06 2.06-.94-2.06-.94-.94-2.06-.94 2.06-2.06.94zm-11 1L8.5 8.5l.94-2.06 2.06-.94-2.06-.94L8.5 2.5l-.94 2.06-2.06.94zm10 10l.94 2.06.94-2.06 2.06-.94-2.06-.94-.94-2.06-.94 2.06-2.06.94z\"/><path d=\"M17.41 7.96l-1.37-1.37c-.4-.4-.92-.59-1.43-.59-.52 0-1.04.2-1.43.59L10.3 9.45l-7.72 7.72c-.78.78-.78 2.05 0 2.83L4 21.41c.39.39.9.59 1.41.59.51 0 1.02-.2 1.41-.59l7.78-7.78 2.81-2.81c.8-.78.8-2.07 0-2.86zM5.41 20L4 18.59l7.72-7.72 1.47 1.35L5.41 20z\"/>\n",
              "  </svg>\n",
              "      </button>\n",
              "      \n",
              "  <style>\n",
              "    .colab-df-container {\n",
              "      display:flex;\n",
              "      flex-wrap:wrap;\n",
              "      gap: 12px;\n",
              "    }\n",
              "\n",
              "    .colab-df-convert {\n",
              "      background-color: #E8F0FE;\n",
              "      border: none;\n",
              "      border-radius: 50%;\n",
              "      cursor: pointer;\n",
              "      display: none;\n",
              "      fill: #1967D2;\n",
              "      height: 32px;\n",
              "      padding: 0 0 0 0;\n",
              "      width: 32px;\n",
              "    }\n",
              "\n",
              "    .colab-df-convert:hover {\n",
              "      background-color: #E2EBFA;\n",
              "      box-shadow: 0px 1px 2px rgba(60, 64, 67, 0.3), 0px 1px 3px 1px rgba(60, 64, 67, 0.15);\n",
              "      fill: #174EA6;\n",
              "    }\n",
              "\n",
              "    [theme=dark] .colab-df-convert {\n",
              "      background-color: #3B4455;\n",
              "      fill: #D2E3FC;\n",
              "    }\n",
              "\n",
              "    [theme=dark] .colab-df-convert:hover {\n",
              "      background-color: #434B5C;\n",
              "      box-shadow: 0px 1px 3px 1px rgba(0, 0, 0, 0.15);\n",
              "      filter: drop-shadow(0px 1px 2px rgba(0, 0, 0, 0.3));\n",
              "      fill: #FFFFFF;\n",
              "    }\n",
              "  </style>\n",
              "\n",
              "      <script>\n",
              "        const buttonEl =\n",
              "          document.querySelector('#df-986265d5-6a02-4ddd-a76f-4919b2c1756d button.colab-df-convert');\n",
              "        buttonEl.style.display =\n",
              "          google.colab.kernel.accessAllowed ? 'block' : 'none';\n",
              "\n",
              "        async function convertToInteractive(key) {\n",
              "          const element = document.querySelector('#df-986265d5-6a02-4ddd-a76f-4919b2c1756d');\n",
              "          const dataTable =\n",
              "            await google.colab.kernel.invokeFunction('convertToInteractive',\n",
              "                                                     [key], {});\n",
              "          if (!dataTable) return;\n",
              "\n",
              "          const docLinkHtml = 'Like what you see? Visit the ' +\n",
              "            '<a target=\"_blank\" href=https://colab.research.google.com/notebooks/data_table.ipynb>data table notebook</a>'\n",
              "            + ' to learn more about interactive tables.';\n",
              "          element.innerHTML = '';\n",
              "          dataTable['output_type'] = 'display_data';\n",
              "          await google.colab.output.renderOutput(dataTable, element);\n",
              "          const docLink = document.createElement('div');\n",
              "          docLink.innerHTML = docLinkHtml;\n",
              "          element.appendChild(docLink);\n",
              "        }\n",
              "      </script>\n",
              "    </div>\n",
              "  </div>\n",
              "  "
            ]
          },
          "metadata": {},
          "execution_count": 13
        }
      ]
    },
    {
      "cell_type": "markdown",
      "metadata": {
        "id": "vXidIR7pO2ZQ"
      },
      "source": [
        "# Statisticts of data"
      ]
    },
    {
      "cell_type": "markdown",
      "metadata": {
        "id": "K771ULLQPJs4"
      },
      "source": [
        "Number of businesses in each state"
      ]
    },
    {
      "cell_type": "code",
      "execution_count": null,
      "metadata": {
        "id": "49qQajhgO8Ja",
        "colab": {
          "base_uri": "https://localhost:8080/"
        },
        "outputId": "63cda29f-2ca1-46d3-87d0-371564701e5a"
      },
      "outputs": [
        {
          "output_type": "stream",
          "name": "stdout",
          "text": [
            "+-----+-------------+\n",
            "|state|no_businesses|\n",
            "+-----+-------------+\n",
            "|   PA|        34039|\n",
            "|   FL|        26330|\n",
            "|   TN|        12056|\n",
            "|   IN|        11247|\n",
            "|   MO|        10913|\n",
            "|   LA|         9924|\n",
            "|   AZ|         9912|\n",
            "|   NJ|         8536|\n",
            "|   NV|         7715|\n",
            "|   AB|         5573|\n",
            "|   CA|         5203|\n",
            "|   ID|         4467|\n",
            "|   DE|         2265|\n",
            "|   IL|         2145|\n",
            "|   TX|            4|\n",
            "|   CO|            3|\n",
            "|   MA|            2|\n",
            "|   WA|            2|\n",
            "|   HI|            2|\n",
            "|   MI|            1|\n",
            "+-----+-------------+\n",
            "only showing top 20 rows\n",
            "\n"
          ]
        }
      ],
      "source": [
        "totalBusinessesByState = YelpDataset.no_businesses_by_state()\n",
        "totalBusinessesByState.show()"
      ]
    },
    {
      "cell_type": "markdown",
      "metadata": {
        "id": "CM5qNndePXd-"
      },
      "source": [
        "Number of reviews in each state"
      ]
    },
    {
      "cell_type": "code",
      "execution_count": null,
      "metadata": {
        "id": "DZpXOEadPIAE",
        "colab": {
          "base_uri": "https://localhost:8080/"
        },
        "outputId": "fdad9c44-7232-4d71-911f-9a510fd31e8d"
      },
      "outputs": [
        {
          "output_type": "stream",
          "name": "stdout",
          "text": [
            "+-----+-----------+\n",
            "|state|totalReview|\n",
            "+-----+-----------+\n",
            "|   PA|    1540790|\n",
            "|   FL|    1119926|\n",
            "|   LA|     743176|\n",
            "|   TN|     598195|\n",
            "|   MO|     483897|\n",
            "|   IN|     472565|\n",
            "|   AZ|     412639|\n",
            "|   NV|     409950|\n",
            "|   CA|     339637|\n",
            "|   NJ|     249837|\n",
            "|   ID|     152086|\n",
            "|   AB|     105477|\n",
            "|   DE|      67370|\n",
            "|   IL|      49676|\n",
            "|   MA|         43|\n",
            "|   SD|         42|\n",
            "|   TX|         33|\n",
            "|   HI|         32|\n",
            "|   CO|         30|\n",
            "|   NC|         29|\n",
            "+-----+-----------+\n",
            "only showing top 20 rows\n",
            "\n"
          ]
        }
      ],
      "source": [
        "totalReviewByState = YelpDataset.no_reviews_by_state()\n",
        "totalReviewByState.show()"
      ]
    },
    {
      "cell_type": "markdown",
      "metadata": {
        "id": "nO69nusR6olE"
      },
      "source": [
        "\n",
        "# Sentiment with BERT"
      ]
    },
    {
      "cell_type": "markdown",
      "metadata": {
        "id": "uTh-fTIqi9Pg"
      },
      "source": [
        "## Packages"
      ]
    },
    {
      "cell_type": "code",
      "execution_count": null,
      "metadata": {
        "id": "6UoJnKiao7MY",
        "colab": {
          "base_uri": "https://localhost:8080/"
        },
        "outputId": "aa382f03-7f57-493b-c25c-6f415ac27eb7"
      },
      "outputs": [
        {
          "output_type": "stream",
          "name": "stdout",
          "text": [
            "Looking in indexes: https://pypi.org/simple, https://us-python.pkg.dev/colab-wheels/public/simple/\n",
            "Collecting transformers\n",
            "  Downloading transformers-4.21.3-py3-none-any.whl (4.7 MB)\n",
            "\u001b[K     |████████████████████████████████| 4.7 MB 29.7 MB/s \n",
            "\u001b[?25hRequirement already satisfied: packaging>=20.0 in /usr/local/lib/python3.7/dist-packages (from transformers) (21.3)\n",
            "Requirement already satisfied: numpy>=1.17 in /usr/local/lib/python3.7/dist-packages (from transformers) (1.21.6)\n",
            "Requirement already satisfied: filelock in /usr/local/lib/python3.7/dist-packages (from transformers) (3.8.0)\n",
            "Requirement already satisfied: importlib-metadata in /usr/local/lib/python3.7/dist-packages (from transformers) (4.12.0)\n",
            "Requirement already satisfied: regex!=2019.12.17 in /usr/local/lib/python3.7/dist-packages (from transformers) (2022.6.2)\n",
            "Requirement already satisfied: tqdm>=4.27 in /usr/local/lib/python3.7/dist-packages (from transformers) (4.64.0)\n",
            "Requirement already satisfied: requests in /usr/local/lib/python3.7/dist-packages (from transformers) (2.23.0)\n",
            "Collecting huggingface-hub<1.0,>=0.1.0\n",
            "  Downloading huggingface_hub-0.9.1-py3-none-any.whl (120 kB)\n",
            "\u001b[K     |████████████████████████████████| 120 kB 51.9 MB/s \n",
            "\u001b[?25hRequirement already satisfied: pyyaml>=5.1 in /usr/local/lib/python3.7/dist-packages (from transformers) (6.0)\n",
            "Collecting tokenizers!=0.11.3,<0.13,>=0.11.1\n",
            "  Downloading tokenizers-0.12.1-cp37-cp37m-manylinux_2_12_x86_64.manylinux2010_x86_64.whl (6.6 MB)\n",
            "\u001b[K     |████████████████████████████████| 6.6 MB 50.2 MB/s \n",
            "\u001b[?25hRequirement already satisfied: typing-extensions>=3.7.4.3 in /usr/local/lib/python3.7/dist-packages (from huggingface-hub<1.0,>=0.1.0->transformers) (4.1.1)\n",
            "Requirement already satisfied: pyparsing!=3.0.5,>=2.0.2 in /usr/local/lib/python3.7/dist-packages (from packaging>=20.0->transformers) (3.0.9)\n",
            "Requirement already satisfied: zipp>=0.5 in /usr/local/lib/python3.7/dist-packages (from importlib-metadata->transformers) (3.8.1)\n",
            "Requirement already satisfied: idna<3,>=2.5 in /usr/local/lib/python3.7/dist-packages (from requests->transformers) (2.10)\n",
            "Requirement already satisfied: chardet<4,>=3.0.2 in /usr/local/lib/python3.7/dist-packages (from requests->transformers) (3.0.4)\n",
            "Requirement already satisfied: certifi>=2017.4.17 in /usr/local/lib/python3.7/dist-packages (from requests->transformers) (2022.6.15)\n",
            "Requirement already satisfied: urllib3!=1.25.0,!=1.25.1,<1.26,>=1.21.1 in /usr/local/lib/python3.7/dist-packages (from requests->transformers) (1.24.3)\n",
            "Installing collected packages: tokenizers, huggingface-hub, transformers\n",
            "Successfully installed huggingface-hub-0.9.1 tokenizers-0.12.1 transformers-4.21.3\n"
          ]
        }
      ],
      "source": [
        "!pip install transformers\n",
        "import numpy as np\n",
        "import transformers\n",
        "from transformers import AutoTokenizer,TFBertModel\n",
        "import tensorflow as tf\n",
        "from tensorflow.keras.optimizers import Adam\n",
        "from tensorflow.keras.callbacks import EarlyStopping\n",
        "from tensorflow.keras.initializers import TruncatedNormal\n",
        "from tensorflow.keras.losses import CategoricalCrossentropy\n",
        "from tensorflow.keras.metrics import CategoricalAccuracy\n",
        "from tensorflow.keras.utils import to_categorical\n",
        "from tensorflow.keras.layers import Input, Dense\n",
        "from sklearn.model_selection import train_test_split\n",
        "from sklearn.metrics import classification_report"
      ]
    },
    {
      "cell_type": "markdown",
      "source": [
        "## Bert Class"
      ],
      "metadata": {
        "id": "kg3z35ZeyJOm"
      }
    },
    {
      "cell_type": "code",
      "source": [
        "class SentimentBert:\n",
        "  \n",
        "  def __init__(self):\n",
        "    # self.limit_len = limit_len\n",
        "    # self.is_limited = is_limited\n",
        "    # if is_limited:\n",
        "    #   self.dataset = dataset[:limit_len]\n",
        "    # else:\n",
        "    #   self.dataset = dataset\n",
        "    # self.input_ids = input_ids\n",
        "    # self.attention_mask = attention_mask\n",
        "    pass\n",
        "  \n",
        "  @classmethod\n",
        "  def tokenizer(self, text):\n",
        "    # Tokenize the input (takes some time) \n",
        "    # here tokenizer using from bert-base-cased\n",
        "    tokenizer = AutoTokenizer.from_pretrained('bert-base-cased')\n",
        "    return tokenizer(\n",
        "      text=text.tolist(),\n",
        "      add_special_tokens=True,\n",
        "      max_length=70,\n",
        "      truncation=True,\n",
        "      padding=True, \n",
        "      return_tensors='tf',\n",
        "      return_token_type_ids = False,\n",
        "      return_attention_mask = True,\n",
        "      verbose = True)\n",
        "\n",
        "  def get_model(self, max_len=70):\n",
        "    self.bert = TFBertModel.from_pretrained('bert-base-cased')\n",
        "    input_ids = Input(shape=(max_len,), dtype=tf.int32, name=\"input_ids\")\n",
        "    input_mask = Input(shape=(max_len,), dtype=tf.int32, name=\"attention_mask\")\n",
        "    # input_ids = self.input_ids\n",
        "    # input_mask = self.attention_mask\n",
        "    embeddings = self.bert(input_ids,attention_mask = input_mask)[0] \n",
        "    out = tf.keras.layers.GlobalMaxPool1D()(embeddings)\n",
        "    out = Dense(128, activation='relu')(out)\n",
        "    out = tf.keras.layers.Dropout(0.1)(out)\n",
        "    out = Dense(32,activation = 'relu')(out)\n",
        "    y = Dense(6,activation = 'sigmoid')(out)\n",
        "    model = tf.keras.Model(inputs=[input_ids, input_mask], outputs=y)\n",
        "    model.layers[2].trainable = True\n",
        "    return model\n",
        "\n",
        "  def get_optimizer(self):\n",
        "    return Adam(\n",
        "    learning_rate=5e-05, # this learning rate is for bert model , taken from huggingface website \n",
        "    epsilon=1e-08,\n",
        "    decay=0.01,\n",
        "    clipnorm=1.0)\n",
        "\n",
        "  def get_loss(self):\n",
        "    return CategoricalCrossentropy(from_logits = True)\n",
        "\n",
        "  def metrics(self):\n",
        "    return CategoricalAccuracy('balanced_accuracy')\n",
        "\n",
        "  def compile(self):\n",
        "    model = self.get_model()\n",
        "    model.compile(\n",
        "      optimizer = self.get_optimizer(),\n",
        "      loss = self.get_loss(), \n",
        "      metrics = self.metrics())\n",
        "    return model\n",
        "\n",
        "  def train(self, x_train, y_train, x_validation, y_validation, epochs=1): # tokenized data\n",
        "    model = self.compile()\n",
        "    train_history = model.fit(\n",
        "        x ={'input_ids':x_train['input_ids'],'attention_mask':x_train['attention_mask']} ,\n",
        "        y = y_train,\n",
        "        validation_data = (\n",
        "        {'input_ids':x_validation['input_ids'],'attention_mask':x_validation['attention_mask']}, y_validation\n",
        "        ),\n",
        "        epochs=epochs,\n",
        "    )\n",
        "    return model, train_history\n",
        "\n",
        "  def test(self, model, test): # tokenized data\n",
        "    return model.predict({'input_ids':test['input_ids'],'attention_mask':test['attention_mask']})\n",
        "\n",
        "  def numerical_test(self, model, test):\n",
        "    test_result = self.test(model, test)\n",
        "    return [np.argmax(item) for item in test_result]\n",
        "\n",
        "  @classmethod\n",
        "  def get_dictionary(self, numerical_prediction):\n",
        "    review_limited_first_df['predicted'] = numerical_prediction\n",
        "    return dict(review_limited_first_df.groupby('business_id')['predicted'].mean())\n",
        "\n",
        "  @classmethod\n",
        "  def save_dictionary(self, dictionary, path='./sentiment_dict.npy'):\n",
        "    np.save(path, dictionary) \n",
        "\n",
        "  @classmethod\n",
        "  def load_dictionary(self, path='./sentiment_dict.npy'):\n",
        "    return np.load(path,allow_pickle='TRUE').item()\n",
        "\n",
        "  @classmethod\n",
        "  def evaluate(self, y_true, y_predicted):\n",
        "    return classification_report(y_true, y_predicted)\n"
      ],
      "metadata": {
        "id": "hdtsLxQYT1jG"
      },
      "execution_count": null,
      "outputs": []
    },
    {
      "cell_type": "markdown",
      "source": [
        "## Bert Facade"
      ],
      "metadata": {
        "id": "Ys8aWERq1CG9"
      }
    },
    {
      "cell_type": "code",
      "source": [
        "class BertFacade:\n",
        "\n",
        "  def __init__(self, train_dataset, test_dataset):\n",
        "    self.train_dataset = train_dataset\n",
        "    self.test_dataset = test_dataset\n",
        "    \n",
        "  # def tokenizer(self):\n",
        "  #   tokenizer = AutoTokenizer.from_pretrained('bert-base-cased')\n",
        "  #   bert = TFBertModel.from_pretrained('bert-base-cased')\n",
        "\n",
        "  #   x_train_sentiment = SentimentBert.tokenizer(x_train_sentiment)\n",
        "  #   x_validation_sentiment = SentimentBert.tokenizer(x_validation_sentiment)\n",
        "  #   x_test_first_token = SentimentBert.tokenizer(x_test_first)\n",
        "\n",
        "\n",
        "  def run(self):\n",
        "\n",
        "    reviews = self.train_dataset[\"text\"]\n",
        "    labels = self.train_dataset[\"stars\"]\n",
        "    x_train, x_validation, y_train, y_validation = train_test_split(reviews, labels, test_size=0.2, random_state=42)\n",
        "    y_train = to_categorical(y_train)\n",
        "    x_train = SentimentBert.tokenizer(x_train)\n",
        "    y_validation = to_categorical(y_validation)\n",
        "    x_validation = SentimentBert.tokenizer(x_validation)\n",
        "\n",
        "    # input_ids = x_train['input_ids']\n",
        "    # attention_mask = x_train['attention_mask']\n",
        "    sentiment_obj = SentimentBert()\n",
        "    model, _ = sentiment_obj.train(x_train, y_train, x_validation, y_validation)\n",
        "\n",
        "\n",
        "    x_test = self.test_dataset['text']\n",
        "    y_test = self.test_dataset['stars']\n",
        "    x_test_token = SentimentBert.tokenizer(x_test)\n",
        "    sentiment_predicted = sentiment_obj.numerical_test(model, x_test_token)\n",
        "    print(sentiment_predicted[0])\n",
        "    print(len(sentiment_predicted))\n",
        "\n",
        "    sentiment_dictionary = SentimentBert.get_dictionary(sentiment_predicted)\n",
        "\n",
        "    print(SentimentBert.evaluate(np.array(y_test), sentiment_predicted))\n",
        "\n",
        "    return sentiment_dictionary, sentiment_predicted, sentiment_obj\n"
      ],
      "metadata": {
        "id": "XWCjdv10u4Ml"
      },
      "execution_count": null,
      "outputs": []
    },
    {
      "cell_type": "markdown",
      "metadata": {
        "id": "QT4v2v5lZBcG"
      },
      "source": [
        "## Run"
      ]
    },
    {
      "cell_type": "code",
      "execution_count": null,
      "metadata": {
        "id": "qS36XneaAJ61",
        "colab": {
          "base_uri": "https://localhost:8080/"
        },
        "outputId": "1ac18a1a-db5d-4779-cbb8-96b6958e912b"
      },
      "outputs": [
        {
          "metadata": {
            "tags": null
          },
          "name": "stderr",
          "output_type": "stream",
          "text": [
            "Some layers from the model checkpoint at bert-base-cased were not used when initializing TFBertModel: ['nsp___cls', 'mlm___cls']\n",
            "- This IS expected if you are initializing TFBertModel from the checkpoint of a model trained on another task or with another architecture (e.g. initializing a BertForSequenceClassification model from a BertForPreTraining model).\n",
            "- This IS NOT expected if you are initializing TFBertModel from the checkpoint of a model that you expect to be exactly identical (initializing a BertForSequenceClassification model from a BertForSequenceClassification model).\n",
            "All the layers of TFBertModel were initialized from the model checkpoint at bert-base-cased.\n",
            "If your task is similar to the task the model of the checkpoint was trained on, you can already use TFBertModel for predictions without further training.\n",
            "/usr/local/lib/python3.7/dist-packages/tensorflow/python/util/dispatch.py:1082: UserWarning: \"`categorical_crossentropy` received `from_logits=True`, but the `output` argument was produced by a sigmoid or softmax activation and thus does not represent logits. Was this intended?\"\n",
            "  return dispatch_target(*args, **kwargs)\n",
            "WARNING:tensorflow:Gradients do not exist for variables ['tf_bert_model_2/bert/pooler/dense/kernel:0', 'tf_bert_model_2/bert/pooler/dense/bias:0'] when minimizing the loss. If you're using `model.compile()`, did you forget to provide a `loss`argument?\n",
            "WARNING:tensorflow:Gradients do not exist for variables ['tf_bert_model_2/bert/pooler/dense/kernel:0', 'tf_bert_model_2/bert/pooler/dense/bias:0'] when minimizing the loss. If you're using `model.compile()`, did you forget to provide a `loss`argument?\n"
          ]
        },
        {
          "output_type": "stream",
          "name": "stdout",
          "text": [
            "3750/3750 [==============================] - 1998s 529ms/step - loss: 0.8375 - balanced_accuracy: 0.6546 - val_loss: 0.7819 - val_balanced_accuracy: 0.6738\n",
            "1\n",
            "150000\n"
          ]
        },
        {
          "output_type": "stream",
          "name": "stderr",
          "text": [
            "/usr/local/lib/python3.7/dist-packages/ipykernel_launcher.py:88: SettingWithCopyWarning: \n",
            "A value is trying to be set on a copy of a slice from a DataFrame.\n",
            "Try using .loc[row_indexer,col_indexer] = value instead\n",
            "\n",
            "See the caveats in the documentation: https://pandas.pydata.org/pandas-docs/stable/user_guide/indexing.html#returning-a-view-versus-a-copy\n"
          ]
        },
        {
          "output_type": "stream",
          "name": "stdout",
          "text": [
            "              precision    recall  f1-score   support\n",
            "\n",
            "         1.0       0.69      0.82      0.75     18330\n",
            "         2.0       0.44      0.31      0.36     10175\n",
            "         3.0       0.47      0.41      0.44     12885\n",
            "         4.0       0.51      0.39      0.44     28641\n",
            "         5.0       0.81      0.90      0.85     79969\n",
            "\n",
            "    accuracy                           0.71    150000\n",
            "   macro avg       0.59      0.57      0.57    150000\n",
            "weighted avg       0.69      0.71      0.69    150000\n",
            "\n"
          ]
        }
      ],
      "source": [
        "bertFacade_obj = BertFacade(review_limited_second_df, review_limited_first_df)\n",
        "sentiment_dictionary, sentiment_predicted, sentiment_obj = bertFacade_obj.run()"
      ]
    },
    {
      "cell_type": "code",
      "source": [
        "# sentiment_obj.test(review_first_df)"
      ],
      "metadata": {
        "id": "kl5bB01IRlQB"
      },
      "execution_count": null,
      "outputs": []
    },
    {
      "cell_type": "code",
      "source": [
        "# sentiment_obj.save_dictionary(sentiment_dictionary)"
      ],
      "metadata": {
        "id": "mQ-vzViMQiW8",
        "colab": {
          "base_uri": "https://localhost:8080/",
          "height": 165
        },
        "outputId": "b2899b27-5215-41e3-e894-3ceede5b3829"
      },
      "execution_count": null,
      "outputs": [
        {
          "output_type": "error",
          "ename": "NameError",
          "evalue": "ignored",
          "traceback": [
            "\u001b[0;31m---------------------------------------------------------------------------\u001b[0m",
            "\u001b[0;31mNameError\u001b[0m                                 Traceback (most recent call last)",
            "\u001b[0;32m<ipython-input-13-014fb453ce3f>\u001b[0m in \u001b[0;36m<module>\u001b[0;34m\u001b[0m\n\u001b[0;32m----> 1\u001b[0;31m \u001b[0msentiment_obj\u001b[0m\u001b[0;34m.\u001b[0m\u001b[0msave_dictionary\u001b[0m\u001b[0;34m(\u001b[0m\u001b[0msentiment_dictionary\u001b[0m\u001b[0;34m)\u001b[0m\u001b[0;34m\u001b[0m\u001b[0;34m\u001b[0m\u001b[0m\n\u001b[0m",
            "\u001b[0;31mNameError\u001b[0m: name 'sentiment_obj' is not defined"
          ]
        }
      ]
    },
    {
      "cell_type": "code",
      "source": [
        "sentiment_dictionary = SentimentBert.load_dictionary('new.npy')"
      ],
      "metadata": {
        "id": "sT-45FLl-mYn"
      },
      "execution_count": null,
      "outputs": []
    },
    {
      "cell_type": "markdown",
      "metadata": {
        "id": "q40-Lbdi6rwF"
      },
      "source": [
        "# Collaborative Recommender"
      ]
    },
    {
      "cell_type": "markdown",
      "metadata": {
        "id": "8t_LUcSNwWxb"
      },
      "source": [
        "## Packages\n"
      ]
    },
    {
      "cell_type": "code",
      "source": [
        "!pip install recommenders"
      ],
      "metadata": {
        "id": "ECO2tDBRaJGA",
        "colab": {
          "base_uri": "https://localhost:8080/"
        },
        "outputId": "7ecb0b18-bfce-40ae-a519-84f31af9cc43"
      },
      "execution_count": null,
      "outputs": [
        {
          "output_type": "stream",
          "name": "stdout",
          "text": [
            "Looking in indexes: https://pypi.org/simple, https://us-python.pkg.dev/colab-wheels/public/simple/\n",
            "Collecting recommenders\n",
            "  Downloading recommenders-1.1.1-py3-none-any.whl (339 kB)\n",
            "\u001b[K     |████████████████████████████████| 339 kB 27.0 MB/s \n",
            "\u001b[?25hCollecting scikit-surprise>=1.0.6\n",
            "  Downloading scikit-surprise-1.1.1.tar.gz (11.8 MB)\n",
            "\u001b[K     |████████████████████████████████| 11.8 MB 28.3 MB/s \n",
            "\u001b[?25hRequirement already satisfied: scikit-learn<1.0.3,>=0.22.1 in /usr/local/lib/python3.7/dist-packages (from recommenders) (1.0.2)\n",
            "Requirement already satisfied: numba<1,>=0.38.1 in /usr/local/lib/python3.7/dist-packages (from recommenders) (0.56.0)\n",
            "Collecting memory-profiler<1,>=0.54.0\n",
            "  Downloading memory_profiler-0.60.0.tar.gz (38 kB)\n",
            "Collecting cornac<2,>=1.1.2\n",
            "  Downloading cornac-1.14.2-cp37-cp37m-manylinux1_x86_64.whl (12.4 MB)\n",
            "\u001b[K     |████████████████████████████████| 12.4 MB 33.3 MB/s \n",
            "\u001b[?25hRequirement already satisfied: tqdm<5,>=4.31.1 in /usr/local/lib/python3.7/dist-packages (from recommenders) (4.64.0)\n",
            "Requirement already satisfied: lightgbm>=2.2.1 in /usr/local/lib/python3.7/dist-packages (from recommenders) (2.2.3)\n",
            "Requirement already satisfied: scipy<2,>=1.0.0 in /usr/local/lib/python3.7/dist-packages (from recommenders) (1.7.3)\n",
            "Collecting retrying>=1.3.3\n",
            "  Downloading retrying-1.3.3.tar.gz (10 kB)\n",
            "Requirement already satisfied: matplotlib<4,>=2.2.2 in /usr/local/lib/python3.7/dist-packages (from recommenders) (3.2.2)\n",
            "Requirement already satisfied: numpy>=1.19 in /usr/local/lib/python3.7/dist-packages (from recommenders) (1.21.6)\n",
            "Requirement already satisfied: pandas<2,>1.0.3 in /usr/local/lib/python3.7/dist-packages (from recommenders) (1.3.5)\n",
            "Requirement already satisfied: nltk<4,>=3.4 in /usr/local/lib/python3.7/dist-packages (from recommenders) (3.7)\n",
            "Requirement already satisfied: transformers<5,>=2.5.0 in /usr/local/lib/python3.7/dist-packages (from recommenders) (4.21.3)\n",
            "Requirement already satisfied: requests<3,>=2.0.0 in /usr/local/lib/python3.7/dist-packages (from recommenders) (2.23.0)\n",
            "Collecting category-encoders<2,>=1.3.0\n",
            "  Downloading category_encoders-1.3.0-py2.py3-none-any.whl (61 kB)\n",
            "\u001b[K     |████████████████████████████████| 61 kB 7.6 MB/s \n",
            "\u001b[?25hCollecting lightfm<2,>=1.15\n",
            "  Downloading lightfm-1.16.tar.gz (310 kB)\n",
            "\u001b[K     |████████████████████████████████| 310 kB 68.1 MB/s \n",
            "\u001b[?25hCollecting bottleneck<2,>=1.2.1\n",
            "  Downloading Bottleneck-1.3.5-cp37-cp37m-manylinux_2_5_x86_64.manylinux1_x86_64.manylinux_2_17_x86_64.manylinux2014_x86_64.whl (355 kB)\n",
            "\u001b[K     |████████████████████████████████| 355 kB 63.1 MB/s \n",
            "\u001b[?25hCollecting pandera[strategies]>=0.6.5\n",
            "  Downloading pandera-0.9.0-py3-none-any.whl (197 kB)\n",
            "\u001b[K     |████████████████████████████████| 197 kB 73.0 MB/s \n",
            "\u001b[?25hRequirement already satisfied: jinja2<3.1,>=2 in /usr/local/lib/python3.7/dist-packages (from recommenders) (2.11.3)\n",
            "Requirement already satisfied: seaborn<1,>=0.8.1 in /usr/local/lib/python3.7/dist-packages (from recommenders) (0.11.2)\n",
            "Collecting pyyaml<6,>=5.4.1\n",
            "  Downloading PyYAML-5.4.1-cp37-cp37m-manylinux1_x86_64.whl (636 kB)\n",
            "\u001b[K     |████████████████████████████████| 636 kB 69.4 MB/s \n",
            "\u001b[?25hRequirement already satisfied: patsy>=0.4.1 in /usr/local/lib/python3.7/dist-packages (from category-encoders<2,>=1.3.0->recommenders) (0.5.2)\n",
            "Requirement already satisfied: statsmodels>=0.6.1 in /usr/local/lib/python3.7/dist-packages (from category-encoders<2,>=1.3.0->recommenders) (0.12.2)\n",
            "Collecting powerlaw\n",
            "  Downloading powerlaw-1.5-py3-none-any.whl (24 kB)\n",
            "Requirement already satisfied: MarkupSafe>=0.23 in /usr/local/lib/python3.7/dist-packages (from jinja2<3.1,>=2->recommenders) (2.0.1)\n",
            "Requirement already satisfied: cycler>=0.10 in /usr/local/lib/python3.7/dist-packages (from matplotlib<4,>=2.2.2->recommenders) (0.11.0)\n",
            "Requirement already satisfied: pyparsing!=2.0.4,!=2.1.2,!=2.1.6,>=2.0.1 in /usr/local/lib/python3.7/dist-packages (from matplotlib<4,>=2.2.2->recommenders) (3.0.9)\n",
            "Requirement already satisfied: python-dateutil>=2.1 in /usr/local/lib/python3.7/dist-packages (from matplotlib<4,>=2.2.2->recommenders) (2.8.2)\n",
            "Requirement already satisfied: kiwisolver>=1.0.1 in /usr/local/lib/python3.7/dist-packages (from matplotlib<4,>=2.2.2->recommenders) (1.4.4)\n",
            "Requirement already satisfied: typing-extensions in /usr/local/lib/python3.7/dist-packages (from kiwisolver>=1.0.1->matplotlib<4,>=2.2.2->recommenders) (4.1.1)\n",
            "Requirement already satisfied: psutil in /usr/local/lib/python3.7/dist-packages (from memory-profiler<1,>=0.54.0->recommenders) (5.4.8)\n",
            "Requirement already satisfied: joblib in /usr/local/lib/python3.7/dist-packages (from nltk<4,>=3.4->recommenders) (1.1.0)\n",
            "Requirement already satisfied: regex>=2021.8.3 in /usr/local/lib/python3.7/dist-packages (from nltk<4,>=3.4->recommenders) (2022.6.2)\n",
            "Requirement already satisfied: click in /usr/local/lib/python3.7/dist-packages (from nltk<4,>=3.4->recommenders) (7.1.2)\n",
            "Requirement already satisfied: setuptools in /usr/local/lib/python3.7/dist-packages (from numba<1,>=0.38.1->recommenders) (57.4.0)\n",
            "Requirement already satisfied: importlib-metadata in /usr/local/lib/python3.7/dist-packages (from numba<1,>=0.38.1->recommenders) (4.12.0)\n",
            "Requirement already satisfied: llvmlite<0.40,>=0.39.0dev0 in /usr/local/lib/python3.7/dist-packages (from numba<1,>=0.38.1->recommenders) (0.39.0)\n",
            "Requirement already satisfied: pytz>=2017.3 in /usr/local/lib/python3.7/dist-packages (from pandas<2,>1.0.3->recommenders) (2022.2.1)\n",
            "Requirement already satisfied: pydantic in /usr/local/lib/python3.7/dist-packages (from pandera[strategies]>=0.6.5->recommenders) (1.9.2)\n",
            "Collecting typing-inspect>=0.6.0\n",
            "  Downloading typing_inspect-0.8.0-py3-none-any.whl (8.7 kB)\n",
            "Requirement already satisfied: packaging>=20.0 in /usr/local/lib/python3.7/dist-packages (from pandera[strategies]>=0.6.5->recommenders) (21.3)\n",
            "Requirement already satisfied: wrapt in /usr/local/lib/python3.7/dist-packages (from pandera[strategies]>=0.6.5->recommenders) (1.14.1)\n",
            "Requirement already satisfied: pyarrow in /usr/local/lib/python3.7/dist-packages (from pandera[strategies]>=0.6.5->recommenders) (6.0.1)\n",
            "Collecting hypothesis>=5.41.1\n",
            "  Downloading hypothesis-6.54.5-py3-none-any.whl (390 kB)\n",
            "\u001b[K     |████████████████████████████████| 390 kB 70.4 MB/s \n",
            "\u001b[?25hCollecting exceptiongroup>=1.0.0rc8\n",
            "  Downloading exceptiongroup-1.0.0rc9-py3-none-any.whl (12 kB)\n",
            "Requirement already satisfied: attrs>=19.2.0 in /usr/local/lib/python3.7/dist-packages (from hypothesis>=5.41.1->pandera[strategies]>=0.6.5->recommenders) (22.1.0)\n",
            "Requirement already satisfied: sortedcontainers<3.0.0,>=2.1.0 in /usr/local/lib/python3.7/dist-packages (from hypothesis>=5.41.1->pandera[strategies]>=0.6.5->recommenders) (2.4.0)\n",
            "Requirement already satisfied: six in /usr/local/lib/python3.7/dist-packages (from patsy>=0.4.1->category-encoders<2,>=1.3.0->recommenders) (1.15.0)\n",
            "Requirement already satisfied: urllib3!=1.25.0,!=1.25.1,<1.26,>=1.21.1 in /usr/local/lib/python3.7/dist-packages (from requests<3,>=2.0.0->recommenders) (1.24.3)\n",
            "Requirement already satisfied: chardet<4,>=3.0.2 in /usr/local/lib/python3.7/dist-packages (from requests<3,>=2.0.0->recommenders) (3.0.4)\n",
            "Requirement already satisfied: certifi>=2017.4.17 in /usr/local/lib/python3.7/dist-packages (from requests<3,>=2.0.0->recommenders) (2022.6.15)\n",
            "Requirement already satisfied: idna<3,>=2.5 in /usr/local/lib/python3.7/dist-packages (from requests<3,>=2.0.0->recommenders) (2.10)\n",
            "Requirement already satisfied: threadpoolctl>=2.0.0 in /usr/local/lib/python3.7/dist-packages (from scikit-learn<1.0.3,>=0.22.1->recommenders) (3.1.0)\n",
            "Requirement already satisfied: tokenizers!=0.11.3,<0.13,>=0.11.1 in /usr/local/lib/python3.7/dist-packages (from transformers<5,>=2.5.0->recommenders) (0.12.1)\n",
            "Requirement already satisfied: filelock in /usr/local/lib/python3.7/dist-packages (from transformers<5,>=2.5.0->recommenders) (3.8.0)\n",
            "Requirement already satisfied: huggingface-hub<1.0,>=0.1.0 in /usr/local/lib/python3.7/dist-packages (from transformers<5,>=2.5.0->recommenders) (0.9.1)\n",
            "Collecting mypy-extensions>=0.3.0\n",
            "  Downloading mypy_extensions-0.4.3-py2.py3-none-any.whl (4.5 kB)\n",
            "Requirement already satisfied: zipp>=0.5 in /usr/local/lib/python3.7/dist-packages (from importlib-metadata->numba<1,>=0.38.1->recommenders) (3.8.1)\n",
            "Requirement already satisfied: mpmath in /usr/local/lib/python3.7/dist-packages (from powerlaw->cornac<2,>=1.1.2->recommenders) (1.2.1)\n",
            "Building wheels for collected packages: lightfm, memory-profiler, retrying, scikit-surprise\n",
            "  Building wheel for lightfm (setup.py) ... \u001b[?25l\u001b[?25hdone\n",
            "  Created wheel for lightfm: filename=lightfm-1.16-cp37-cp37m-linux_x86_64.whl size=705380 sha256=887066e18a59d3ba904333c08ad1a979ab572a1f65a536d09db277c56f79138c\n",
            "  Stored in directory: /root/.cache/pip/wheels/f8/56/28/5772a3bd3413d65f03aa452190b00898b680b10028a1021914\n",
            "  Building wheel for memory-profiler (setup.py) ... \u001b[?25l\u001b[?25hdone\n",
            "  Created wheel for memory-profiler: filename=memory_profiler-0.60.0-py3-none-any.whl size=31284 sha256=fa3943637e4d41ae295da52fa4e958e1f4c7801fa341afad6d41e600c8cd6829\n",
            "  Stored in directory: /root/.cache/pip/wheels/67/2b/fb/326e30d638c538e69a5eb0aa47f4223d979f502bbdb403950f\n",
            "  Building wheel for retrying (setup.py) ... \u001b[?25l\u001b[?25hdone\n",
            "  Created wheel for retrying: filename=retrying-1.3.3-py3-none-any.whl size=11447 sha256=e2acfe8714d52b08d1560b4efa1f86ac76c8a0eff46c391256b99fc6da889974\n",
            "  Stored in directory: /root/.cache/pip/wheels/f9/8d/8d/f6af3f7f9eea3553bc2fe6d53e4b287dad18b06a861ac56ddf\n",
            "  Building wheel for scikit-surprise (setup.py) ... \u001b[?25l\u001b[?25hdone\n",
            "  Created wheel for scikit-surprise: filename=scikit_surprise-1.1.1-cp37-cp37m-linux_x86_64.whl size=1633981 sha256=79b7e051fd9f49e8b33757be4aab98dac5dcdd311b095d1c2be38cce0caa7ec0\n",
            "  Stored in directory: /root/.cache/pip/wheels/76/44/74/b498c42be47b2406bd27994e16c5188e337c657025ab400c1c\n",
            "Successfully built lightfm memory-profiler retrying scikit-surprise\n",
            "Installing collected packages: mypy-extensions, typing-inspect, pyyaml, exceptiongroup, powerlaw, pandera, hypothesis, scikit-surprise, retrying, memory-profiler, lightfm, cornac, category-encoders, bottleneck, recommenders\n",
            "  Attempting uninstall: pyyaml\n",
            "    Found existing installation: PyYAML 6.0\n",
            "    Uninstalling PyYAML-6.0:\n",
            "      Successfully uninstalled PyYAML-6.0\n",
            "Successfully installed bottleneck-1.3.5 category-encoders-1.3.0 cornac-1.14.2 exceptiongroup-1.0.0rc9 hypothesis-6.54.5 lightfm-1.16 memory-profiler-0.60.0 mypy-extensions-0.4.3 pandera-0.9.0 powerlaw-1.5 pyyaml-5.4.1 recommenders-1.1.1 retrying-1.3.3 scikit-surprise-1.1.1 typing-inspect-0.8.0\n"
          ]
        },
        {
          "output_type": "display_data",
          "data": {
            "application/vnd.colab-display-data+json": {
              "pip_warning": {
                "packages": [
                  "yaml"
                ]
              }
            }
          },
          "metadata": {}
        }
      ]
    },
    {
      "cell_type": "code",
      "execution_count": null,
      "metadata": {
        "id": "TyVMBnicksyl"
      },
      "outputs": [],
      "source": [
        "from surprise import Reader, SVD, SVDpp, NMF\n",
        "from surprise import Dataset, accuracy\n",
        "from surprise.model_selection import train_test_split, KFold\n",
        "from surprise.prediction_algorithms.predictions import Prediction\n",
        "from sklearn.linear_model import LinearRegression\n",
        "import numpy as np\n",
        "from collections import defaultdict"
      ]
    },
    {
      "cell_type": "markdown",
      "source": [
        "## Precision functions"
      ],
      "metadata": {
        "id": "NiDDGpweaLJA"
      }
    },
    {
      "cell_type": "code",
      "source": [
        "def precision_recall_at_k(predictions, k=10, threshold=3.5):\n",
        "    \"\"\"Return precision and recall at k metrics for each user\"\"\"\n",
        "\n",
        "    # First map the predictions to each user.\n",
        "    user_est_true = defaultdict(list)\n",
        "    for uid, _, true_r, est, _ in predictions:\n",
        "        user_est_true[uid].append((est, true_r))\n",
        "\n",
        "    precisions = dict()\n",
        "    recalls = dict()\n",
        "    for uid, user_ratings in user_est_true.items():\n",
        "\n",
        "        # Sort user ratings by estimated value\n",
        "        user_ratings.sort(key=lambda x: x[0], reverse=True)\n",
        "\n",
        "        # Number of relevant items\n",
        "        n_rel = sum((true_r >= threshold) for (_, true_r) in user_ratings)\n",
        "\n",
        "        # Number of recommended items in top k\n",
        "        n_rec_k = sum((est >= threshold) for (est, _) in user_ratings[:k])\n",
        "\n",
        "        # Number of relevant and recommended items in top k\n",
        "        n_rel_and_rec_k = sum(((true_r >= threshold) and (est >= threshold))\n",
        "                              for (est, true_r) in user_ratings[:k])\n",
        "\n",
        "        # Precision@K: Proportion of recommended items that are relevant\n",
        "        # When n_rec_k is 0, Precision is undefined. We here set it to 0.\n",
        "\n",
        "        precisions[uid] = n_rel_and_rec_k / n_rec_k if n_rec_k != 0 else 0\n",
        "\n",
        "        # Recall@K: Proportion of relevant items that are recommended\n",
        "        # When n_rel is 0, Recall is undefined. We here set it to 0.\n",
        "\n",
        "        recalls[uid] = n_rel_and_rec_k / n_rel if n_rel != 0 else 0\n",
        "\n",
        "    return precisions, recalls"
      ],
      "metadata": {
        "id": "4pAHSJhEaAFH"
      },
      "execution_count": null,
      "outputs": []
    },
    {
      "cell_type": "markdown",
      "source": [
        "## Collab Class\n"
      ],
      "metadata": {
        "id": "yLnR3ucclWOF"
      }
    },
    {
      "cell_type": "code",
      "source": [
        "class Collab:\n",
        "  def __init__(self, model):\n",
        "    self.model = model\n",
        "\n",
        "  def train(self, data, threshold=3.5):\n",
        "    kf = KFold(n_splits=5)\n",
        "    last_avgprec = 0\n",
        "    last_avgrec = 0\n",
        "    rmse = []\n",
        "    mse = [] \n",
        "    mae = [] \n",
        "    for trainset, testset in kf.split(data):\n",
        "        self.model.fit(trainset)\n",
        "        predictions = self.model.test(testset)\n",
        "        precisions, recalls = precision_recall_at_k(predictions, k=10, threshold=threshold)\n",
        "\n",
        "        last_avgprec = sum(prec for prec in precisions.values()) / len(precisions)\n",
        "        last_avgrec = sum(rec for rec in recalls.values()) / len(recalls)\n",
        "        rmse.append(accuracy.rmse(predictions, verbose=True))\n",
        "        mse.append(accuracy.mse(predictions, verbose=True))\n",
        "        mae.append(accuracy.mae(predictions, verbose=True))\n",
        "        print(last_avgprec)\n",
        "        print(last_avgrec)\n",
        "\n",
        "    return predictions\n",
        "\n",
        "  def test(self, test):\n",
        "    return self.model.test(test)\n",
        "\n",
        "  def report(self, prediction, labels):\n",
        "    return classification_report(labels, prediction)\n",
        "\n",
        "  def evaluate(self, prediction):\n",
        "    precision, recall = precision_recall_at_k(prediction, k=10, threshold=3.5)\n",
        "    accuracy.rmse(prediction, verbose=True)\n",
        "    accuracy.mse(prediction, verbose=True)\n",
        "    accuracy.mae(prediction, verbose=True)\n",
        "    print (\"Precision: \", sum(prec for prec in precision.values()) / len(precision))\n",
        "    print (\"Recall: \", sum(rec for rec in recall.values()) / len(recall))"
      ],
      "metadata": {
        "id": "xbB4oo5gkusv"
      },
      "execution_count": null,
      "outputs": []
    },
    {
      "cell_type": "markdown",
      "source": [
        "## Collab Facade\n",
        "\n",
        "\n"
      ],
      "metadata": {
        "id": "1GcdEDI1lbpd"
      }
    },
    {
      "cell_type": "code",
      "source": [
        "class CollabFacade:\n",
        "  def __init__(self, model, train, test):\n",
        "    self.train = train\n",
        "    self.test = test\n",
        "    self.model = model\n",
        "\n",
        "  def run(self):\n",
        "    reader = Reader()\n",
        "    data = Dataset.load_from_df(self.train[['user_id', 'business_id', 'stars']], reader)\n",
        "    data_test = [list(self.test[['user_id', 'business_id', 'stars']].loc[i]) for i in range(len(self.test))]\n",
        "    collab_obj = Collab(self.model)\n",
        "    collab_obj.train(data)\n",
        "    prediction = collab_obj.test(data_test)\n",
        "    collab_obj.evaluate(prediction)\n",
        "\n",
        "    return prediction, collab_obj"
      ],
      "metadata": {
        "id": "kPUNl7qLk_Ri"
      },
      "execution_count": null,
      "outputs": []
    },
    {
      "cell_type": "markdown",
      "source": [
        "## Collab Run"
      ],
      "metadata": {
        "id": "99B4RRLZlnCv"
      }
    },
    {
      "cell_type": "code",
      "source": [
        "svdFacade_obj = CollabFacade(SVD(), review_first_df, review_limited_first_df)\n",
        "svd_predictions, svd_obj = svdFacade_obj.run()"
      ],
      "metadata": {
        "id": "40MU0ZFBgH7J",
        "colab": {
          "base_uri": "https://localhost:8080/"
        },
        "outputId": "47bd586f-be84-47b9-97f2-52617f5600b3"
      },
      "execution_count": null,
      "outputs": [
        {
          "output_type": "stream",
          "name": "stdout",
          "text": [
            "RMSE: 1.2557\n",
            "MSE: 1.5768\n",
            "MAE:  0.9801\n",
            "0.6691615577821138\n",
            "0.6751406420208587\n",
            "RMSE: 1.2557\n",
            "MSE: 1.5767\n",
            "MAE:  0.9792\n",
            "0.6693518543415024\n",
            "0.6754940938217383\n",
            "RMSE: 1.2625\n",
            "MSE: 1.5938\n",
            "MAE:  0.9855\n",
            "0.6656096523418814\n",
            "0.6721048019907987\n",
            "RMSE: 1.2580\n",
            "MSE: 1.5826\n",
            "MAE:  0.9818\n",
            "0.6688282247190108\n",
            "0.674320798663296\n",
            "RMSE: 1.2594\n",
            "MSE: 1.5860\n",
            "MAE:  0.9835\n",
            "0.6683808988244512\n",
            "0.6741410780358099\n",
            "RMSE: 0.8892\n",
            "MSE: 0.7907\n",
            "MAE:  0.6703\n",
            "Precision:  0.7342507960701741\n",
            "Recall:  0.7380264208545485\n"
          ]
        }
      ]
    },
    {
      "cell_type": "code",
      "source": [
        "svd_predictions_rounded = [round(item.est) for item in svd_predictions]\n",
        "print(svd_obj.report(svd_predictions_rounded, review_limited_first_df['stars']))"
      ],
      "metadata": {
        "colab": {
          "base_uri": "https://localhost:8080/"
        },
        "id": "0MAYg77r5jjB",
        "outputId": "4aef6457-c9d2-4733-e433-8c95982b642b"
      },
      "execution_count": null,
      "outputs": [
        {
          "output_type": "stream",
          "name": "stdout",
          "text": [
            "              precision    recall  f1-score   support\n",
            "\n",
            "         1.0       0.97      0.05      0.10     18330\n",
            "         2.0       0.16      0.16      0.16     10175\n",
            "         3.0       0.25      0.49      0.33     12885\n",
            "         4.0       0.33      0.82      0.47     28641\n",
            "         5.0       0.95      0.50      0.66     79969\n",
            "\n",
            "    accuracy                           0.48    150000\n",
            "   macro avg       0.53      0.41      0.34    150000\n",
            "weighted avg       0.72      0.48      0.49    150000\n",
            "\n"
          ]
        }
      ]
    },
    {
      "cell_type": "markdown",
      "metadata": {
        "id": "8-zr21yw8daN"
      },
      "source": [
        "# Content based Recommendation\n"
      ]
    },
    {
      "cell_type": "markdown",
      "source": [
        "## Packages"
      ],
      "metadata": {
        "id": "-WXvo0p4LAwa"
      }
    },
    {
      "cell_type": "code",
      "source": [
        "import pandas as pd"
      ],
      "metadata": {
        "id": "TDe-qLuKK-zA"
      },
      "execution_count": null,
      "outputs": []
    },
    {
      "cell_type": "markdown",
      "source": [
        "## Content Class"
      ],
      "metadata": {
        "id": "uVt4XeqeLH3r"
      }
    },
    {
      "cell_type": "code",
      "source": [
        "class Content:\n",
        "\n",
        "  def __init__(self, city):\n",
        "    self.ca_df = YelpDataset.get_city_items_df(city)\n",
        "    business_id_unique = set(review_first_df['business_id'])\n",
        "    self.ca_df = self.ca_df[self.ca_df['business_id'].isin(list(business_id_unique))]\n",
        "\n",
        "\n",
        "  def business_unique_categories(self):\n",
        "    s = set()\n",
        "    for item_list in self.ca_df['categories'].tolist():\n",
        "      for item in item_list:\n",
        "        s.add(item)\n",
        "    return len(s)\n",
        "\n",
        "  def create_poi_matrix(self):\n",
        "    self.ca_df.dropna(subset=['categories'], inplace=True)\n",
        "    self.ca_df['categories'] = self.ca_df.categories.str.split(',')\n",
        "    self.ca_df['categories'] = self.ca_df['categories'].apply(lambda categoryList: [item.strip() for item in categoryList])\n",
        "\n",
        "    poi_with_categories = self.ca_df[['business_id', 'categories']].copy()    \n",
        "    for index, row in poi_with_categories.iterrows():\n",
        "      for category in row['categories']:\n",
        "        poi_with_categories.at[index, category] = 1\n",
        "    poi_with_categories = poi_with_categories.fillna(0)\n",
        "\n",
        "    poi_with_categories = poi_with_categories.drop('categories', 1)\n",
        "\n",
        "    return poi_with_categories\n",
        "    \n",
        "  def create_user_profile(self, user_input_list, poi_with_categories):\n",
        "    input_businesses =  pd.DataFrame(user_input_list)\n",
        "    user_businesses = poi_with_categories[poi_with_categories['business_id'].isin(input_businesses['business_id'].tolist())]\n",
        "\n",
        "    user_businesses = user_businesses.reset_index(drop=True)\n",
        "    user_categories = user_businesses.drop('business_id', 1)\n",
        "    return user_categories.transpose().dot(input_businesses['rating'])\n",
        "\n",
        "  def get_user_profile_score(self, user_profile):\n",
        "    userProfileDic = dict(user_profile)\n",
        "    categoryWeight = dict()\n",
        "    for key, value in userProfileDic.items():\n",
        "      if value > 0:\n",
        "        categoryWeight[key] = value\n",
        "    return categoryWeight\n",
        "  \n",
        "  def remove_user_input_businesses(self, user_input_list, poi_with_categories):\n",
        "    input_businesses =  pd.DataFrame(user_input_list)\n",
        "    businesses_except_input = poi_with_categories[~poi_with_categories['business_id'].isin(input_businesses['business_id'].tolist())]\n",
        "    businesses_except_input = businesses_except_input.reset_index(drop=True)\n",
        "\n",
        "    all_businesses = businesses_except_input.drop('business_id', 1)\n",
        "    return all_businesses, businesses_except_input\n",
        "\n",
        "  def recommend(self, all_businesses, user_profile):\n",
        "    recommendation_df = ((all_businesses * user_profile).sum(axis=1)) / (user_profile.sum())\n",
        "    recommendation_df = recommendation_df.sort_values(ascending=False)\n",
        "    sorted_result = recommendation_df.head(TOP_N_RECOMMENDATION)\n",
        "    return sorted_result\n",
        "\n",
        "  def recommendation_details(self, businesses_except_input, sorted_result) :\n",
        "    recommendation_ids = businesses_except_input.iloc[sorted_result.index]['business_id']\n",
        "    details = self.ca_df.merge(recommendation_ids, how = 'right')\n",
        "    return recommendation_ids, details\n",
        "\n"
      ],
      "metadata": {
        "id": "l2fTUcuEzmYd"
      },
      "execution_count": null,
      "outputs": []
    },
    {
      "cell_type": "markdown",
      "source": [
        "## User input"
      ],
      "metadata": {
        "id": "PUw5Hnkhbkks"
      }
    },
    {
      "cell_type": "code",
      "source": [
        "# IL\n",
        "# userInput = [\n",
        "#             {'business_id':'nwN92Uje-xIKE5voPTTvBQ', 'rating':1}, \n",
        "#             {'business_id':'gfQmLdpBzhs_y1sQhIzjBQ', 'rating':5}, # res\n",
        "#             {'business_id':'7P6-It26918v6JDWcYlKSw', 'rating':3}, # res - chinese\n",
        "#             {'business_id':\"wbLXXbI-T6Av71i9AoiZRQ\", 'rating':4}, # res - american\n",
        "#             {'business_id':'tMsQnjwF4T8_a_JbfbaCFw', 'rating':5}, # Food\n",
        "#             {'business_id':'EvBeuDww_OCNQZ-dRy6qzA', 'rating':1}, # korean - res\n",
        "#             {'business_id':'RLaS9hQJXAc7ED2wr9dWeA', 'rating':3}, # res - mexican\n",
        "#             {'business_id':'ZEd_RWWRVGqLlM5DUiXCeA', 'rating':4}, # coffee - mexican\n",
        "#             {'business_id':'NRiBKVQro4594a8_dDgwsg', 'rating':5}, # italian - res\n",
        "#             {'business_id':'2ptjkvLvDmD3zzEXzM3tsQ', 'rating':4}, # mexican - seafood\n",
        "#          ] \n",
        "\n",
        "userInput = [ \n",
        "            {'business_id':'6EizP0XyqITuGZ8GZMI9Lw', 'rating':1}, # Italian \n",
        "            {'business_id':'XyYsl2OyoMi6OMvzsdcVoQ', 'rating':5}, # Italian \n",
        "            {'business_id':'QLHgjBHBoeIUoEvIPvjHnw', 'rating':3}, # burger \n",
        "            {'business_id':\"QaFbv7aLQBcfT4xMF1_WnQ\", 'rating':4}, # burger \n",
        "            {'business_id':'9u79dIXLQzmt9rnOZEnBaQ', 'rating':5}, # burger \n",
        "            {'business_id':'bp482wqF6v80AltDNlPDfw', 'rating':1}, # burger \n",
        "            {'business_id':'1FURjeGJi_LBXcJQg8eskw', 'rating':3}, # burger \n",
        "            {'business_id':'nYPzsOjvida-ne7swSPHpA', 'rating':4}, # bar - mexican \n",
        "            {'business_id':'4kfbEcAMepvkjt3H7INYBg', 'rating':5}, # bar \n",
        "            {'business_id':'EZc2myE2mYk2h9JK9qu8gw', 'rating':4.5}, # bar - burgers\n",
        "]"
      ],
      "metadata": {
        "id": "KaO6ujSRbqR5"
      },
      "execution_count": null,
      "outputs": []
    },
    {
      "cell_type": "markdown",
      "source": [
        "## Content Facade"
      ],
      "metadata": {
        "id": "8GUhCNtFXCGJ"
      }
    },
    {
      "cell_type": "code",
      "source": [
        "class ContentFacade:\n",
        "  def run(self):\n",
        "    obj = Content(\"CA\")\n",
        "    poi_with_categories = obj.create_poi_matrix()\n",
        "    user_profile = obj.create_user_profile(userInput, poi_with_categories)\n",
        "    # obj.get_user_profile_score(user_profile)\n",
        "    all_businesses, businesses_except_input = obj.remove_user_input_businesses(userInput, poi_with_categories)\n",
        "    result = obj.recommend(all_businesses, user_profile)\n",
        "    recommendation_ids, details = obj.recommendation_details(businesses_except_input, result)\n",
        "    return recommendation_ids\n"
      ],
      "metadata": {
        "id": "u8JBAc4YJd9b"
      },
      "execution_count": null,
      "outputs": []
    },
    {
      "cell_type": "code",
      "source": [
        "contentFacade_obj = ContentFacade()\n",
        "content_ids = contentFacade_obj.run()"
      ],
      "metadata": {
        "colab": {
          "base_uri": "https://localhost:8080/",
          "height": 417
        },
        "id": "dgQ1Q04iXdDL",
        "outputId": "19c95696-73d9-44a5-b465-fccea0a2ecbe"
      },
      "execution_count": null,
      "outputs": [
        {
          "output_type": "stream",
          "name": "stderr",
          "text": [
            "/usr/local/lib/python3.7/dist-packages/pandas/core/indexing.py:1684: PerformanceWarning: DataFrame is highly fragmented.  This is usually the result of calling `frame.insert` many times, which has poor performance.  Consider joining all columns at once using pd.concat(axis=1) instead.  To get a de-fragmented frame, use `newframe = frame.copy()`\n",
            "  self.obj[key] = infer_fill_value(value)\n",
            "/usr/local/lib/python3.7/dist-packages/ipykernel_launcher.py:27: FutureWarning: In a future version of pandas all arguments of DataFrame.drop except for the argument 'labels' will be keyword-only\n",
            "/usr/local/lib/python3.7/dist-packages/ipykernel_launcher.py:36: FutureWarning: In a future version of pandas all arguments of DataFrame.drop except for the argument 'labels' will be keyword-only\n"
          ]
        },
        {
          "output_type": "error",
          "ename": "ValueError",
          "evalue": "ignored",
          "traceback": [
            "\u001b[0;31m---------------------------------------------------------------------------\u001b[0m",
            "\u001b[0;31mValueError\u001b[0m                                Traceback (most recent call last)",
            "\u001b[0;32m<ipython-input-109-b1ecbd2d9b29>\u001b[0m in \u001b[0;36m<module>\u001b[0;34m\u001b[0m\n\u001b[1;32m      1\u001b[0m \u001b[0mcontentFacade_obj\u001b[0m \u001b[0;34m=\u001b[0m \u001b[0mContentFacade\u001b[0m\u001b[0;34m(\u001b[0m\u001b[0;34m)\u001b[0m\u001b[0;34m\u001b[0m\u001b[0;34m\u001b[0m\u001b[0m\n\u001b[0;32m----> 2\u001b[0;31m \u001b[0mcontent_ids\u001b[0m \u001b[0;34m=\u001b[0m \u001b[0mcontentFacade_obj\u001b[0m\u001b[0;34m.\u001b[0m\u001b[0mrun\u001b[0m\u001b[0;34m(\u001b[0m\u001b[0;34m)\u001b[0m\u001b[0;34m\u001b[0m\u001b[0;34m\u001b[0m\u001b[0m\n\u001b[0m",
            "\u001b[0;32m<ipython-input-108-96b159d9d77c>\u001b[0m in \u001b[0;36mrun\u001b[0;34m(self)\u001b[0m\n\u001b[1;32m      3\u001b[0m     \u001b[0mobj\u001b[0m \u001b[0;34m=\u001b[0m \u001b[0mContent\u001b[0m\u001b[0;34m(\u001b[0m\u001b[0;34m\"CA\"\u001b[0m\u001b[0;34m)\u001b[0m\u001b[0;34m\u001b[0m\u001b[0;34m\u001b[0m\u001b[0m\n\u001b[1;32m      4\u001b[0m     \u001b[0mpoi_with_categories\u001b[0m \u001b[0;34m=\u001b[0m \u001b[0mobj\u001b[0m\u001b[0;34m.\u001b[0m\u001b[0mcreate_poi_matrix\u001b[0m\u001b[0;34m(\u001b[0m\u001b[0;34m)\u001b[0m\u001b[0;34m\u001b[0m\u001b[0;34m\u001b[0m\u001b[0m\n\u001b[0;32m----> 5\u001b[0;31m     \u001b[0muser_profile\u001b[0m \u001b[0;34m=\u001b[0m \u001b[0mobj\u001b[0m\u001b[0;34m.\u001b[0m\u001b[0mcreate_user_profile\u001b[0m\u001b[0;34m(\u001b[0m\u001b[0muserInput\u001b[0m\u001b[0;34m,\u001b[0m \u001b[0mpoi_with_categories\u001b[0m\u001b[0;34m)\u001b[0m\u001b[0;34m\u001b[0m\u001b[0;34m\u001b[0m\u001b[0m\n\u001b[0m\u001b[1;32m      6\u001b[0m     \u001b[0;31m# obj.get_user_profile_score(user_profile)\u001b[0m\u001b[0;34m\u001b[0m\u001b[0;34m\u001b[0m\u001b[0;34m\u001b[0m\u001b[0m\n\u001b[1;32m      7\u001b[0m     \u001b[0mall_businesses\u001b[0m\u001b[0;34m,\u001b[0m \u001b[0mbusinesses_except_input\u001b[0m \u001b[0;34m=\u001b[0m \u001b[0mobj\u001b[0m\u001b[0;34m.\u001b[0m\u001b[0mremove_user_input_businesses\u001b[0m\u001b[0;34m(\u001b[0m\u001b[0muserInput\u001b[0m\u001b[0;34m,\u001b[0m \u001b[0mpoi_with_categories\u001b[0m\u001b[0;34m)\u001b[0m\u001b[0;34m\u001b[0m\u001b[0;34m\u001b[0m\u001b[0m\n",
            "\u001b[0;32m<ipython-input-106-1b013834e3af>\u001b[0m in \u001b[0;36mcreate_user_profile\u001b[0;34m(self, user_input_list, poi_with_categories)\u001b[0m\n\u001b[1;32m     35\u001b[0m     \u001b[0muser_businesses\u001b[0m \u001b[0;34m=\u001b[0m \u001b[0muser_businesses\u001b[0m\u001b[0;34m.\u001b[0m\u001b[0mreset_index\u001b[0m\u001b[0;34m(\u001b[0m\u001b[0mdrop\u001b[0m\u001b[0;34m=\u001b[0m\u001b[0;32mTrue\u001b[0m\u001b[0;34m)\u001b[0m\u001b[0;34m\u001b[0m\u001b[0;34m\u001b[0m\u001b[0m\n\u001b[1;32m     36\u001b[0m     \u001b[0muser_categories\u001b[0m \u001b[0;34m=\u001b[0m \u001b[0muser_businesses\u001b[0m\u001b[0;34m.\u001b[0m\u001b[0mdrop\u001b[0m\u001b[0;34m(\u001b[0m\u001b[0;34m'business_id'\u001b[0m\u001b[0;34m,\u001b[0m \u001b[0;36m1\u001b[0m\u001b[0;34m)\u001b[0m\u001b[0;34m\u001b[0m\u001b[0;34m\u001b[0m\u001b[0m\n\u001b[0;32m---> 37\u001b[0;31m     \u001b[0;32mreturn\u001b[0m \u001b[0muser_categories\u001b[0m\u001b[0;34m.\u001b[0m\u001b[0mtranspose\u001b[0m\u001b[0;34m(\u001b[0m\u001b[0;34m)\u001b[0m\u001b[0;34m.\u001b[0m\u001b[0mdot\u001b[0m\u001b[0;34m(\u001b[0m\u001b[0minput_businesses\u001b[0m\u001b[0;34m[\u001b[0m\u001b[0;34m'rating'\u001b[0m\u001b[0;34m]\u001b[0m\u001b[0;34m)\u001b[0m\u001b[0;34m\u001b[0m\u001b[0;34m\u001b[0m\u001b[0m\n\u001b[0m\u001b[1;32m     38\u001b[0m \u001b[0;34m\u001b[0m\u001b[0m\n\u001b[1;32m     39\u001b[0m   \u001b[0;32mdef\u001b[0m \u001b[0mget_user_profile_score\u001b[0m\u001b[0;34m(\u001b[0m\u001b[0mself\u001b[0m\u001b[0;34m,\u001b[0m \u001b[0muser_profile\u001b[0m\u001b[0;34m)\u001b[0m\u001b[0;34m:\u001b[0m\u001b[0;34m\u001b[0m\u001b[0;34m\u001b[0m\u001b[0m\n",
            "\u001b[0;32m/usr/local/lib/python3.7/dist-packages/pandas/core/frame.py\u001b[0m in \u001b[0;36mdot\u001b[0;34m(self, other)\u001b[0m\n\u001b[1;32m   1444\u001b[0m             \u001b[0mcommon\u001b[0m \u001b[0;34m=\u001b[0m \u001b[0mself\u001b[0m\u001b[0;34m.\u001b[0m\u001b[0mcolumns\u001b[0m\u001b[0;34m.\u001b[0m\u001b[0munion\u001b[0m\u001b[0;34m(\u001b[0m\u001b[0mother\u001b[0m\u001b[0;34m.\u001b[0m\u001b[0mindex\u001b[0m\u001b[0;34m)\u001b[0m\u001b[0;34m\u001b[0m\u001b[0;34m\u001b[0m\u001b[0m\n\u001b[1;32m   1445\u001b[0m             \u001b[0;32mif\u001b[0m \u001b[0mlen\u001b[0m\u001b[0;34m(\u001b[0m\u001b[0mcommon\u001b[0m\u001b[0;34m)\u001b[0m \u001b[0;34m>\u001b[0m \u001b[0mlen\u001b[0m\u001b[0;34m(\u001b[0m\u001b[0mself\u001b[0m\u001b[0;34m.\u001b[0m\u001b[0mcolumns\u001b[0m\u001b[0;34m)\u001b[0m \u001b[0;32mor\u001b[0m \u001b[0mlen\u001b[0m\u001b[0;34m(\u001b[0m\u001b[0mcommon\u001b[0m\u001b[0;34m)\u001b[0m \u001b[0;34m>\u001b[0m \u001b[0mlen\u001b[0m\u001b[0;34m(\u001b[0m\u001b[0mother\u001b[0m\u001b[0;34m.\u001b[0m\u001b[0mindex\u001b[0m\u001b[0;34m)\u001b[0m\u001b[0;34m:\u001b[0m\u001b[0;34m\u001b[0m\u001b[0;34m\u001b[0m\u001b[0m\n\u001b[0;32m-> 1446\u001b[0;31m                 \u001b[0;32mraise\u001b[0m \u001b[0mValueError\u001b[0m\u001b[0;34m(\u001b[0m\u001b[0;34m\"matrices are not aligned\"\u001b[0m\u001b[0;34m)\u001b[0m\u001b[0;34m\u001b[0m\u001b[0;34m\u001b[0m\u001b[0m\n\u001b[0m\u001b[1;32m   1447\u001b[0m \u001b[0;34m\u001b[0m\u001b[0m\n\u001b[1;32m   1448\u001b[0m             \u001b[0mleft\u001b[0m \u001b[0;34m=\u001b[0m \u001b[0mself\u001b[0m\u001b[0;34m.\u001b[0m\u001b[0mreindex\u001b[0m\u001b[0;34m(\u001b[0m\u001b[0mcolumns\u001b[0m\u001b[0;34m=\u001b[0m\u001b[0mcommon\u001b[0m\u001b[0;34m,\u001b[0m \u001b[0mcopy\u001b[0m\u001b[0;34m=\u001b[0m\u001b[0;32mFalse\u001b[0m\u001b[0;34m)\u001b[0m\u001b[0;34m\u001b[0m\u001b[0;34m\u001b[0m\u001b[0m\n",
            "\u001b[0;31mValueError\u001b[0m: matrices are not aligned"
          ]
        }
      ]
    },
    {
      "cell_type": "markdown",
      "metadata": {
        "id": "cFPZplhyzqYG"
      },
      "source": [
        "# Hybrid recommender using multilinear regression (+ Testing for NNH)"
      ]
    },
    {
      "cell_type": "markdown",
      "source": [
        "## RegHybrid Class"
      ],
      "metadata": {
        "id": "IAC6pVQCl_X2"
      }
    },
    {
      "cell_type": "code",
      "source": [
        "class RegHybrid:\n",
        "  def __init__(self, pred1, pred2):\n",
        "    self.pred1 = pred1\n",
        "    self.pred2 = pred2\n",
        "    self.w1 = None\n",
        "    self.w2 = None\n",
        "    self.interceptor = None\n",
        "\n",
        "  @classmethod\n",
        "  def formatting_input(self, pred1, pred2):\n",
        "    reg_items = []\n",
        "    reg_actual = []\n",
        "    for index in range(len(pred1)):\n",
        "      pred1_item = pred1[index].est\n",
        "      pred2_item = pred2[index].est\n",
        "\n",
        "      reg_items.append([pred1_item, pred2_item])\n",
        "      reg_actual.append(pred1[index].r_ui)\n",
        "    \n",
        "    return np.array(reg_items), np.array(reg_actual)\n",
        "\n",
        "  def train(self):\n",
        "    x_train, y_train = self.formatting_input(self.pred1, self.pred2)\n",
        "    reg = LinearRegression().fit(x_train, y_train)\n",
        "    print('regression score:', reg.score(x_train, y_train))\n",
        "    print('weights:', reg.coef_)\n",
        "    self.w1, self.w2, self.interceptor = reg.coef_[0], reg.coef_[1], reg.intercept_\n",
        "    return reg\n",
        "    \n",
        "  def test(self, model, x_test):\n",
        "    return model.predict(x_test)\n",
        "\n",
        "  @classmethod\n",
        "  def evaluate(self, y_true, y_predicted):\n",
        "    return classification_report(y_true, y_predicted)\n",
        "\n",
        "  def get_predictions(self):\n",
        "    prediction_list = []\n",
        "    for index in range(len(self.pred1)):\n",
        "      weighted_prediction = self.w1*self.pred1[index].est + self.w2*self.pred2[index].est + self.interceptor\n",
        "      pred_obj = self.pred1[index]\n",
        "      item = Prediction(\n",
        "        uid=pred_obj.uid,\n",
        "        iid=pred_obj.iid,\n",
        "        r_ui=pred_obj.r_ui,\n",
        "        est=weighted_prediction,\n",
        "        details=pred_obj.details\n",
        "      )\n",
        "      prediction_list.append(item)\n",
        "\n",
        "    return prediction_list\n",
        "\n",
        "  def metrics(self, threshold=3.5):\n",
        "    prediction_list = self.get_predictions()\n",
        "\n",
        "    precision, recall = precision_recall_at_k(prediction_list, k=10, threshold=threshold)\n",
        "    accuracy.rmse(prediction_list, verbose=True)\n",
        "    accuracy.mse(prediction_list, verbose=True)\n",
        "    accuracy.mae(prediction_list, verbose=True)\n",
        "    print (\"Precision: \", sum(prec for prec in precision.values()) / len(precision))\n",
        "    print (\"Recall: \", sum(rec for rec in recall.values()) / len(recall))\n",
        "    "
      ],
      "metadata": {
        "id": "dKaQueIeeEBh"
      },
      "execution_count": null,
      "outputs": []
    },
    {
      "cell_type": "markdown",
      "source": [
        "## Hybrid Facade"
      ],
      "metadata": {
        "id": "rajWut1MCUX3"
      }
    },
    {
      "cell_type": "code",
      "source": [
        "class RegHybridFacade:\n",
        "  def __init__(self, pred1, pred2, pred_test1, pred_test2):\n",
        "    self.pred1 = pred1\n",
        "    self.pred2 = pred2\n",
        "    self.pred_test1= pred_test1\n",
        "    self.pred_test2 = pred_test2\n",
        "\n",
        "  def run(self):\n",
        "    regHybrid_obj = RegHybrid(self.pred1, self.pred2)\n",
        "    reg = regHybrid_obj.train()\n",
        "\n",
        "    x_test, y_test = regHybrid_obj.formatting_input(self.pred_test1, self.pred_test2)\n",
        "    predicted = regHybrid_obj.test(reg, x_test)\n",
        "    predicted_rounded = [round(item) for item in predicted]\n",
        "    print(regHybrid_obj.evaluate(y_test, predicted_rounded))\n",
        "    return predicted, regHybrid_obj\n"
      ],
      "metadata": {
        "id": "VZRrDHjYqnhr"
      },
      "execution_count": null,
      "outputs": []
    },
    {
      "cell_type": "markdown",
      "source": [
        "## Collabs Run"
      ],
      "metadata": {
        "id": "y-ioLthICQxh"
      }
    },
    {
      "cell_type": "code",
      "source": [
        "svdppFacade_obj = CollabFacade(SVDpp(), review_first_df, review_limited_first_df)\n",
        "svdpp_predictions, svdpp_obj = svdppFacade_obj.run()\n",
        "nmfFacade_obj = CollabFacade(NMF(), review_first_df, review_limited_first_df)\n",
        "nmf_predictions, nmf_obj = nmfFacade_obj.run()"
      ],
      "metadata": {
        "id": "oZ5CazK_CLTE"
      },
      "execution_count": null,
      "outputs": []
    },
    {
      "cell_type": "markdown",
      "source": [
        "## Hybrid Run"
      ],
      "metadata": {
        "id": "Q5prAeBTCV-e"
      }
    },
    {
      "cell_type": "code",
      "source": [
        "hybridFacade_obj = RegHybridFacade(nmf_predictions, svdpp_predictions, nmf_predictions, svdpp_predictions)\n",
        "hybrid_predicted, hybrid_obj = hybridFacade_obj.run()"
      ],
      "metadata": {
        "id": "N1MwZ4TR7kst"
      },
      "execution_count": null,
      "outputs": []
    },
    {
      "cell_type": "code",
      "source": [
        "hybrid_predictions = hybrid_obj.get_predictions()"
      ],
      "metadata": {
        "id": "-gZGDv-ABE3p"
      },
      "execution_count": null,
      "outputs": []
    },
    {
      "cell_type": "markdown",
      "metadata": {
        "id": "Fg62ZcYnmhoC"
      },
      "source": [
        "# Hybrid recommender using multilinear regression with monolethic approach "
      ]
    },
    {
      "cell_type": "markdown",
      "metadata": {
        "id": "RCSq6NPkU2pb"
      },
      "source": [
        "## Packages"
      ]
    },
    {
      "cell_type": "code",
      "execution_count": null,
      "metadata": {
        "id": "ALJms3NAmuF0",
        "colab": {
          "base_uri": "https://localhost:8080/"
        },
        "outputId": "6c0217b7-7124-4e0e-e53c-bfdb3da66058"
      },
      "outputs": [
        {
          "output_type": "stream",
          "name": "stdout",
          "text": [
            "Looking in indexes: https://pypi.org/simple, https://us-python.pkg.dev/colab-wheels/public/simple/\n",
            "Requirement already satisfied: recommenders in /usr/local/lib/python3.7/dist-packages (1.1.1)\n",
            "Requirement already satisfied: nltk<4,>=3.4 in /usr/local/lib/python3.7/dist-packages (from recommenders) (3.7)\n",
            "Requirement already satisfied: numba<1,>=0.38.1 in /usr/local/lib/python3.7/dist-packages (from recommenders) (0.56.0)\n",
            "Requirement already satisfied: pandera[strategies]>=0.6.5 in /usr/local/lib/python3.7/dist-packages (from recommenders) (0.9.0)\n",
            "Requirement already satisfied: bottleneck<2,>=1.2.1 in /usr/local/lib/python3.7/dist-packages (from recommenders) (1.3.5)\n",
            "Requirement already satisfied: lightfm<2,>=1.15 in /usr/local/lib/python3.7/dist-packages (from recommenders) (1.16)\n",
            "Requirement already satisfied: numpy>=1.19 in /usr/local/lib/python3.7/dist-packages (from recommenders) (1.21.6)\n",
            "Requirement already satisfied: lightgbm>=2.2.1 in /usr/local/lib/python3.7/dist-packages (from recommenders) (2.2.3)\n",
            "Requirement already satisfied: memory-profiler<1,>=0.54.0 in /usr/local/lib/python3.7/dist-packages (from recommenders) (0.60.0)\n",
            "Requirement already satisfied: transformers<5,>=2.5.0 in /usr/local/lib/python3.7/dist-packages (from recommenders) (4.21.3)\n",
            "Requirement already satisfied: scikit-learn<1.0.3,>=0.22.1 in /usr/local/lib/python3.7/dist-packages (from recommenders) (1.0.2)\n",
            "Requirement already satisfied: matplotlib<4,>=2.2.2 in /usr/local/lib/python3.7/dist-packages (from recommenders) (3.2.2)\n",
            "Requirement already satisfied: pandas<2,>1.0.3 in /usr/local/lib/python3.7/dist-packages (from recommenders) (1.3.5)\n",
            "Requirement already satisfied: seaborn<1,>=0.8.1 in /usr/local/lib/python3.7/dist-packages (from recommenders) (0.11.2)\n",
            "Requirement already satisfied: cornac<2,>=1.1.2 in /usr/local/lib/python3.7/dist-packages (from recommenders) (1.14.2)\n",
            "Requirement already satisfied: category-encoders<2,>=1.3.0 in /usr/local/lib/python3.7/dist-packages (from recommenders) (1.3.0)\n",
            "Requirement already satisfied: pyyaml<6,>=5.4.1 in /usr/local/lib/python3.7/dist-packages (from recommenders) (5.4.1)\n",
            "Requirement already satisfied: scikit-surprise>=1.0.6 in /usr/local/lib/python3.7/dist-packages (from recommenders) (1.1.1)\n",
            "Requirement already satisfied: scipy<2,>=1.0.0 in /usr/local/lib/python3.7/dist-packages (from recommenders) (1.7.3)\n",
            "Requirement already satisfied: jinja2<3.1,>=2 in /usr/local/lib/python3.7/dist-packages (from recommenders) (2.11.3)\n",
            "Requirement already satisfied: requests<3,>=2.0.0 in /usr/local/lib/python3.7/dist-packages (from recommenders) (2.23.0)\n",
            "Requirement already satisfied: tqdm<5,>=4.31.1 in /usr/local/lib/python3.7/dist-packages (from recommenders) (4.64.0)\n",
            "Requirement already satisfied: retrying>=1.3.3 in /usr/local/lib/python3.7/dist-packages (from recommenders) (1.3.3)\n",
            "Requirement already satisfied: patsy>=0.4.1 in /usr/local/lib/python3.7/dist-packages (from category-encoders<2,>=1.3.0->recommenders) (0.5.2)\n",
            "Requirement already satisfied: statsmodels>=0.6.1 in /usr/local/lib/python3.7/dist-packages (from category-encoders<2,>=1.3.0->recommenders) (0.12.2)\n",
            "Requirement already satisfied: powerlaw in /usr/local/lib/python3.7/dist-packages (from cornac<2,>=1.1.2->recommenders) (1.5)\n",
            "Requirement already satisfied: MarkupSafe>=0.23 in /usr/local/lib/python3.7/dist-packages (from jinja2<3.1,>=2->recommenders) (2.0.1)\n",
            "Requirement already satisfied: cycler>=0.10 in /usr/local/lib/python3.7/dist-packages (from matplotlib<4,>=2.2.2->recommenders) (0.11.0)\n",
            "Requirement already satisfied: pyparsing!=2.0.4,!=2.1.2,!=2.1.6,>=2.0.1 in /usr/local/lib/python3.7/dist-packages (from matplotlib<4,>=2.2.2->recommenders) (3.0.9)\n",
            "Requirement already satisfied: python-dateutil>=2.1 in /usr/local/lib/python3.7/dist-packages (from matplotlib<4,>=2.2.2->recommenders) (2.8.2)\n",
            "Requirement already satisfied: kiwisolver>=1.0.1 in /usr/local/lib/python3.7/dist-packages (from matplotlib<4,>=2.2.2->recommenders) (1.4.4)\n",
            "Requirement already satisfied: typing-extensions in /usr/local/lib/python3.7/dist-packages (from kiwisolver>=1.0.1->matplotlib<4,>=2.2.2->recommenders) (4.1.1)\n",
            "Requirement already satisfied: psutil in /usr/local/lib/python3.7/dist-packages (from memory-profiler<1,>=0.54.0->recommenders) (5.4.8)\n",
            "Requirement already satisfied: regex>=2021.8.3 in /usr/local/lib/python3.7/dist-packages (from nltk<4,>=3.4->recommenders) (2022.6.2)\n",
            "Requirement already satisfied: joblib in /usr/local/lib/python3.7/dist-packages (from nltk<4,>=3.4->recommenders) (1.1.0)\n",
            "Requirement already satisfied: click in /usr/local/lib/python3.7/dist-packages (from nltk<4,>=3.4->recommenders) (7.1.2)\n",
            "Requirement already satisfied: llvmlite<0.40,>=0.39.0dev0 in /usr/local/lib/python3.7/dist-packages (from numba<1,>=0.38.1->recommenders) (0.39.0)\n",
            "Requirement already satisfied: importlib-metadata in /usr/local/lib/python3.7/dist-packages (from numba<1,>=0.38.1->recommenders) (4.12.0)\n",
            "Requirement already satisfied: setuptools in /usr/local/lib/python3.7/dist-packages (from numba<1,>=0.38.1->recommenders) (57.4.0)\n",
            "Requirement already satisfied: pytz>=2017.3 in /usr/local/lib/python3.7/dist-packages (from pandas<2,>1.0.3->recommenders) (2022.2.1)\n",
            "Requirement already satisfied: pyarrow in /usr/local/lib/python3.7/dist-packages (from pandera[strategies]>=0.6.5->recommenders) (6.0.1)\n",
            "Requirement already satisfied: packaging>=20.0 in /usr/local/lib/python3.7/dist-packages (from pandera[strategies]>=0.6.5->recommenders) (21.3)\n",
            "Requirement already satisfied: wrapt in /usr/local/lib/python3.7/dist-packages (from pandera[strategies]>=0.6.5->recommenders) (1.14.1)\n",
            "Requirement already satisfied: pydantic in /usr/local/lib/python3.7/dist-packages (from pandera[strategies]>=0.6.5->recommenders) (1.9.2)\n",
            "Requirement already satisfied: typing-inspect>=0.6.0 in /usr/local/lib/python3.7/dist-packages (from pandera[strategies]>=0.6.5->recommenders) (0.8.0)\n",
            "Requirement already satisfied: hypothesis>=5.41.1 in /usr/local/lib/python3.7/dist-packages (from pandera[strategies]>=0.6.5->recommenders) (6.54.5)\n",
            "Requirement already satisfied: sortedcontainers<3.0.0,>=2.1.0 in /usr/local/lib/python3.7/dist-packages (from hypothesis>=5.41.1->pandera[strategies]>=0.6.5->recommenders) (2.4.0)\n",
            "Requirement already satisfied: attrs>=19.2.0 in /usr/local/lib/python3.7/dist-packages (from hypothesis>=5.41.1->pandera[strategies]>=0.6.5->recommenders) (22.1.0)\n",
            "Requirement already satisfied: exceptiongroup>=1.0.0rc8 in /usr/local/lib/python3.7/dist-packages (from hypothesis>=5.41.1->pandera[strategies]>=0.6.5->recommenders) (1.0.0rc9)\n",
            "Requirement already satisfied: six in /usr/local/lib/python3.7/dist-packages (from patsy>=0.4.1->category-encoders<2,>=1.3.0->recommenders) (1.15.0)\n",
            "Requirement already satisfied: urllib3!=1.25.0,!=1.25.1,<1.26,>=1.21.1 in /usr/local/lib/python3.7/dist-packages (from requests<3,>=2.0.0->recommenders) (1.24.3)\n",
            "Requirement already satisfied: idna<3,>=2.5 in /usr/local/lib/python3.7/dist-packages (from requests<3,>=2.0.0->recommenders) (2.10)\n",
            "Requirement already satisfied: certifi>=2017.4.17 in /usr/local/lib/python3.7/dist-packages (from requests<3,>=2.0.0->recommenders) (2022.6.15)\n",
            "Requirement already satisfied: chardet<4,>=3.0.2 in /usr/local/lib/python3.7/dist-packages (from requests<3,>=2.0.0->recommenders) (3.0.4)\n",
            "Requirement already satisfied: threadpoolctl>=2.0.0 in /usr/local/lib/python3.7/dist-packages (from scikit-learn<1.0.3,>=0.22.1->recommenders) (3.1.0)\n",
            "Requirement already satisfied: filelock in /usr/local/lib/python3.7/dist-packages (from transformers<5,>=2.5.0->recommenders) (3.8.0)\n",
            "Requirement already satisfied: tokenizers!=0.11.3,<0.13,>=0.11.1 in /usr/local/lib/python3.7/dist-packages (from transformers<5,>=2.5.0->recommenders) (0.12.1)\n",
            "Requirement already satisfied: huggingface-hub<1.0,>=0.1.0 in /usr/local/lib/python3.7/dist-packages (from transformers<5,>=2.5.0->recommenders) (0.9.1)\n",
            "Requirement already satisfied: mypy-extensions>=0.3.0 in /usr/local/lib/python3.7/dist-packages (from typing-inspect>=0.6.0->pandera[strategies]>=0.6.5->recommenders) (0.4.3)\n",
            "Requirement already satisfied: zipp>=0.5 in /usr/local/lib/python3.7/dist-packages (from importlib-metadata->numba<1,>=0.38.1->recommenders) (3.8.1)\n",
            "Requirement already satisfied: mpmath in /usr/local/lib/python3.7/dist-packages (from powerlaw->cornac<2,>=1.1.2->recommenders) (1.2.1)\n"
          ]
        }
      ],
      "source": [
        "!pip install recommenders\n",
        "from surprise import Reader, SVDpp, NMF\n",
        "from surprise import Dataset, accuracy\n",
        "from surprise.model_selection import train_test_split\n",
        "from surprise.prediction_algorithms.predictions import Prediction\n",
        "from sklearn.linear_model import LinearRegression\n",
        "import numpy as np"
      ]
    },
    {
      "cell_type": "markdown",
      "metadata": {
        "id": "x58zLfmxU42x"
      },
      "source": [
        "## Constructing monolethic dataframe"
      ]
    },
    {
      "cell_type": "code",
      "execution_count": null,
      "metadata": {
        "colab": {
          "base_uri": "https://localhost:8080/",
          "height": 206
        },
        "id": "elfW-iMD-0yX",
        "outputId": "f9c94cc2-7d98-4cfd-d4cc-f23faec60d4a"
      },
      "outputs": [
        {
          "output_type": "execute_result",
          "data": {
            "text/plain": [
              "  user_id             business_id  stars\n",
              "0     NaN  DOfiulOub9hVPBCtiDl9Fw    NaN\n",
              "1     NaN  sz5SMsTOTAshdfsaK98-TA    NaN\n",
              "2     NaN  kbWKwvLXfJm5sLVfw-Foww    NaN\n",
              "3     NaN  thlyktt2c7v1DyOpSVSibw    NaN\n",
              "4     NaN  -NXRuUsazxXZZ_OHwmtYtw    NaN"
            ],
            "text/html": [
              "\n",
              "  <div id=\"df-772dc58c-3de6-4c04-b39b-7c985e698b7d\">\n",
              "    <div class=\"colab-df-container\">\n",
              "      <div>\n",
              "<style scoped>\n",
              "    .dataframe tbody tr th:only-of-type {\n",
              "        vertical-align: middle;\n",
              "    }\n",
              "\n",
              "    .dataframe tbody tr th {\n",
              "        vertical-align: top;\n",
              "    }\n",
              "\n",
              "    .dataframe thead th {\n",
              "        text-align: right;\n",
              "    }\n",
              "</style>\n",
              "<table border=\"1\" class=\"dataframe\">\n",
              "  <thead>\n",
              "    <tr style=\"text-align: right;\">\n",
              "      <th></th>\n",
              "      <th>user_id</th>\n",
              "      <th>business_id</th>\n",
              "      <th>stars</th>\n",
              "    </tr>\n",
              "  </thead>\n",
              "  <tbody>\n",
              "    <tr>\n",
              "      <th>0</th>\n",
              "      <td>NaN</td>\n",
              "      <td>DOfiulOub9hVPBCtiDl9Fw</td>\n",
              "      <td>NaN</td>\n",
              "    </tr>\n",
              "    <tr>\n",
              "      <th>1</th>\n",
              "      <td>NaN</td>\n",
              "      <td>sz5SMsTOTAshdfsaK98-TA</td>\n",
              "      <td>NaN</td>\n",
              "    </tr>\n",
              "    <tr>\n",
              "      <th>2</th>\n",
              "      <td>NaN</td>\n",
              "      <td>kbWKwvLXfJm5sLVfw-Foww</td>\n",
              "      <td>NaN</td>\n",
              "    </tr>\n",
              "    <tr>\n",
              "      <th>3</th>\n",
              "      <td>NaN</td>\n",
              "      <td>thlyktt2c7v1DyOpSVSibw</td>\n",
              "      <td>NaN</td>\n",
              "    </tr>\n",
              "    <tr>\n",
              "      <th>4</th>\n",
              "      <td>NaN</td>\n",
              "      <td>-NXRuUsazxXZZ_OHwmtYtw</td>\n",
              "      <td>NaN</td>\n",
              "    </tr>\n",
              "  </tbody>\n",
              "</table>\n",
              "</div>\n",
              "      <button class=\"colab-df-convert\" onclick=\"convertToInteractive('df-772dc58c-3de6-4c04-b39b-7c985e698b7d')\"\n",
              "              title=\"Convert this dataframe to an interactive table.\"\n",
              "              style=\"display:none;\">\n",
              "        \n",
              "  <svg xmlns=\"http://www.w3.org/2000/svg\" height=\"24px\"viewBox=\"0 0 24 24\"\n",
              "       width=\"24px\">\n",
              "    <path d=\"M0 0h24v24H0V0z\" fill=\"none\"/>\n",
              "    <path d=\"M18.56 5.44l.94 2.06.94-2.06 2.06-.94-2.06-.94-.94-2.06-.94 2.06-2.06.94zm-11 1L8.5 8.5l.94-2.06 2.06-.94-2.06-.94L8.5 2.5l-.94 2.06-2.06.94zm10 10l.94 2.06.94-2.06 2.06-.94-2.06-.94-.94-2.06-.94 2.06-2.06.94z\"/><path d=\"M17.41 7.96l-1.37-1.37c-.4-.4-.92-.59-1.43-.59-.52 0-1.04.2-1.43.59L10.3 9.45l-7.72 7.72c-.78.78-.78 2.05 0 2.83L4 21.41c.39.39.9.59 1.41.59.51 0 1.02-.2 1.41-.59l7.78-7.78 2.81-2.81c.8-.78.8-2.07 0-2.86zM5.41 20L4 18.59l7.72-7.72 1.47 1.35L5.41 20z\"/>\n",
              "  </svg>\n",
              "      </button>\n",
              "      \n",
              "  <style>\n",
              "    .colab-df-container {\n",
              "      display:flex;\n",
              "      flex-wrap:wrap;\n",
              "      gap: 12px;\n",
              "    }\n",
              "\n",
              "    .colab-df-convert {\n",
              "      background-color: #E8F0FE;\n",
              "      border: none;\n",
              "      border-radius: 50%;\n",
              "      cursor: pointer;\n",
              "      display: none;\n",
              "      fill: #1967D2;\n",
              "      height: 32px;\n",
              "      padding: 0 0 0 0;\n",
              "      width: 32px;\n",
              "    }\n",
              "\n",
              "    .colab-df-convert:hover {\n",
              "      background-color: #E2EBFA;\n",
              "      box-shadow: 0px 1px 2px rgba(60, 64, 67, 0.3), 0px 1px 3px 1px rgba(60, 64, 67, 0.15);\n",
              "      fill: #174EA6;\n",
              "    }\n",
              "\n",
              "    [theme=dark] .colab-df-convert {\n",
              "      background-color: #3B4455;\n",
              "      fill: #D2E3FC;\n",
              "    }\n",
              "\n",
              "    [theme=dark] .colab-df-convert:hover {\n",
              "      background-color: #434B5C;\n",
              "      box-shadow: 0px 1px 3px 1px rgba(0, 0, 0, 0.15);\n",
              "      filter: drop-shadow(0px 1px 2px rgba(0, 0, 0, 0.3));\n",
              "      fill: #FFFFFF;\n",
              "    }\n",
              "  </style>\n",
              "\n",
              "      <script>\n",
              "        const buttonEl =\n",
              "          document.querySelector('#df-772dc58c-3de6-4c04-b39b-7c985e698b7d button.colab-df-convert');\n",
              "        buttonEl.style.display =\n",
              "          google.colab.kernel.accessAllowed ? 'block' : 'none';\n",
              "\n",
              "        async function convertToInteractive(key) {\n",
              "          const element = document.querySelector('#df-772dc58c-3de6-4c04-b39b-7c985e698b7d');\n",
              "          const dataTable =\n",
              "            await google.colab.kernel.invokeFunction('convertToInteractive',\n",
              "                                                     [key], {});\n",
              "          if (!dataTable) return;\n",
              "\n",
              "          const docLinkHtml = 'Like what you see? Visit the ' +\n",
              "            '<a target=\"_blank\" href=https://colab.research.google.com/notebooks/data_table.ipynb>data table notebook</a>'\n",
              "            + ' to learn more about interactive tables.';\n",
              "          element.innerHTML = '';\n",
              "          dataTable['output_type'] = 'display_data';\n",
              "          await google.colab.output.renderOutput(dataTable, element);\n",
              "          const docLink = document.createElement('div');\n",
              "          docLink.innerHTML = docLinkHtml;\n",
              "          element.appendChild(docLink);\n",
              "        }\n",
              "      </script>\n",
              "    </div>\n",
              "  </div>\n",
              "  "
            ]
          },
          "metadata": {},
          "execution_count": 47
        }
      ],
      "source": [
        "contentbased_output = review_first_df.merge(content_ids, how = 'right')\n",
        "monolethic_input = contentbased_output[['user_id', 'business_id', 'stars']]\n",
        "monolethic_input.head()"
      ]
    },
    {
      "cell_type": "code",
      "source": [
        "len(monolethic_input)"
      ],
      "metadata": {
        "colab": {
          "base_uri": "https://localhost:8080/"
        },
        "id": "UXr09g5W-h6W",
        "outputId": "452c57c0-297b-469e-f48c-0ff79b9de4aa"
      },
      "execution_count": null,
      "outputs": [
        {
          "output_type": "execute_result",
          "data": {
            "text/plain": [
              "175"
            ]
          },
          "metadata": {},
          "execution_count": 48
        }
      ]
    },
    {
      "cell_type": "markdown",
      "metadata": {
        "id": "h7XuLrQCU-Vh"
      },
      "source": [
        "## Running collabs for monolethic"
      ]
    },
    {
      "cell_type": "code",
      "source": [
        "svdppFacade_mono_obj = CollabFacade(SVDpp(), review_first_df, monolethic_input)\n",
        "svdpp_mono_predictions, svdpp_mono_obj = svdppFacade_mono_obj.run()\n",
        "nmfFacade_mono_obj = CollabFacade(NMF(), review_first_df, monolethic_input)\n",
        "nmf_mono_predictions, nmf_mono_obj = nmfFacade_mono_obj.run()"
      ],
      "metadata": {
        "id": "qlMacy4_E2UB",
        "colab": {
          "base_uri": "https://localhost:8080/"
        },
        "outputId": "1d2f79e5-b0a1-43c7-fe46-5036dce80169"
      },
      "execution_count": null,
      "outputs": [
        {
          "output_type": "stream",
          "name": "stdout",
          "text": [
            "RMSE: 1.2937\n",
            "MSE: 1.6738\n",
            "MAE:  1.0179\n",
            "0.6721838764315261\n",
            "0.6788387237995323\n",
            "RMSE: 1.2871\n",
            "MSE: 1.6566\n",
            "MAE:  1.0147\n",
            "0.6712341134394572\n",
            "0.6777319704113772\n",
            "RMSE: 1.2908\n",
            "MSE: 1.6661\n",
            "MAE:  1.0158\n",
            "0.6741169980148655\n",
            "0.6809428821939877\n",
            "RMSE: 1.2904\n",
            "MSE: 1.6651\n",
            "MAE:  1.0149\n",
            "0.677059479563948\n",
            "0.6857725968447177\n",
            "RMSE: 1.2798\n",
            "MSE: 1.6378\n",
            "MAE:  1.0059\n",
            "0.6803032054245649\n",
            "0.6879673884042541\n",
            "RMSE: nan\n",
            "MSE: nan\n",
            "MAE:  nan\n",
            "Precision:  0.6595092024539877\n",
            "Recall:  0.6625766871165644\n",
            "RMSE: 1.4517\n",
            "MSE: 2.1076\n",
            "MAE:  1.1464\n",
            "0.6294393876553946\n",
            "0.6315606640547765\n",
            "RMSE: 1.4597\n",
            "MSE: 2.1306\n",
            "MAE:  1.1518\n",
            "0.6233644080231394\n",
            "0.6247460990280417\n",
            "RMSE: 1.4585\n",
            "MSE: 2.1271\n",
            "MAE:  1.1507\n",
            "0.6271398341581188\n",
            "0.6293355161566562\n",
            "RMSE: 1.4481\n",
            "MSE: 2.0970\n",
            "MAE:  1.1397\n",
            "0.6272696070711841\n",
            "0.6290087856292199\n",
            "RMSE: 1.4496\n",
            "MSE: 2.1014\n",
            "MAE:  1.1438\n",
            "0.6291059576131864\n",
            "0.6308568784306855\n",
            "RMSE: nan\n",
            "MSE: nan\n",
            "MAE:  nan\n",
            "Precision:  0.6042944785276073\n",
            "Recall:  0.6073619631901841\n"
          ]
        }
      ]
    },
    {
      "cell_type": "markdown",
      "source": [
        "## Running Hybrid Mono"
      ],
      "metadata": {
        "id": "6xxhBi9NGRTq"
      }
    },
    {
      "cell_type": "code",
      "source": [
        "hybridFacade_mono_obj = RegHybridFacade(nmf_mono_predictions, svdpp_mono_predictions, nmf_mono_predictions, svdpp_mono_predictions)\n",
        "hybrid_mono_predicted, hybrid_mono_obj = hybridFacade_mono_obj.run()"
      ],
      "metadata": {
        "colab": {
          "base_uri": "https://localhost:8080/",
          "height": 328
        },
        "id": "mBr2mOwDFzqQ",
        "outputId": "e6c60ca1-ad9d-497e-d5bb-8af4a7838a28"
      },
      "execution_count": null,
      "outputs": [
        {
          "output_type": "error",
          "ename": "ValueError",
          "evalue": "ignored",
          "traceback": [
            "\u001b[0;31m---------------------------------------------------------------------------\u001b[0m",
            "\u001b[0;31mValueError\u001b[0m                                Traceback (most recent call last)",
            "\u001b[0;32m<ipython-input-67-da1fd09949c4>\u001b[0m in \u001b[0;36m<module>\u001b[0;34m\u001b[0m\n\u001b[1;32m      1\u001b[0m \u001b[0mhybridFacade_mono_obj\u001b[0m \u001b[0;34m=\u001b[0m \u001b[0mRegHybridFacade\u001b[0m\u001b[0;34m(\u001b[0m\u001b[0mnmf_mono_predictions\u001b[0m\u001b[0;34m,\u001b[0m \u001b[0msvdpp_mono_predictions\u001b[0m\u001b[0;34m,\u001b[0m \u001b[0mnmf_mono_predictions\u001b[0m\u001b[0;34m,\u001b[0m \u001b[0msvdpp_mono_predictions\u001b[0m\u001b[0;34m)\u001b[0m\u001b[0;34m\u001b[0m\u001b[0;34m\u001b[0m\u001b[0m\n\u001b[0;32m----> 2\u001b[0;31m \u001b[0mhybrid_mono_predicted\u001b[0m\u001b[0;34m,\u001b[0m \u001b[0mhybrid_mono_obj\u001b[0m \u001b[0;34m=\u001b[0m \u001b[0mhybridFacade_mono_obj\u001b[0m\u001b[0;34m.\u001b[0m\u001b[0mrun\u001b[0m\u001b[0;34m(\u001b[0m\u001b[0;34m)\u001b[0m\u001b[0;34m\u001b[0m\u001b[0;34m\u001b[0m\u001b[0m\n\u001b[0m",
            "\u001b[0;32m<ipython-input-22-0d38ac81e838>\u001b[0m in \u001b[0;36mrun\u001b[0;34m(self)\u001b[0m\n\u001b[1;32m      8\u001b[0m   \u001b[0;32mdef\u001b[0m \u001b[0mrun\u001b[0m\u001b[0;34m(\u001b[0m\u001b[0mself\u001b[0m\u001b[0;34m)\u001b[0m\u001b[0;34m:\u001b[0m\u001b[0;34m\u001b[0m\u001b[0;34m\u001b[0m\u001b[0m\n\u001b[1;32m      9\u001b[0m     \u001b[0mregHybrid_obj\u001b[0m \u001b[0;34m=\u001b[0m \u001b[0mRegHybrid\u001b[0m\u001b[0;34m(\u001b[0m\u001b[0mself\u001b[0m\u001b[0;34m.\u001b[0m\u001b[0mpred1\u001b[0m\u001b[0;34m,\u001b[0m \u001b[0mself\u001b[0m\u001b[0;34m.\u001b[0m\u001b[0mpred2\u001b[0m\u001b[0;34m)\u001b[0m\u001b[0;34m\u001b[0m\u001b[0;34m\u001b[0m\u001b[0m\n\u001b[0;32m---> 10\u001b[0;31m     \u001b[0mreg\u001b[0m \u001b[0;34m=\u001b[0m \u001b[0mregHybrid_obj\u001b[0m\u001b[0;34m.\u001b[0m\u001b[0mtrain\u001b[0m\u001b[0;34m(\u001b[0m\u001b[0;34m)\u001b[0m\u001b[0;34m\u001b[0m\u001b[0;34m\u001b[0m\u001b[0m\n\u001b[0m\u001b[1;32m     11\u001b[0m \u001b[0;34m\u001b[0m\u001b[0m\n\u001b[1;32m     12\u001b[0m     \u001b[0mx_test\u001b[0m\u001b[0;34m,\u001b[0m \u001b[0my_test\u001b[0m \u001b[0;34m=\u001b[0m \u001b[0mregHybrid_obj\u001b[0m\u001b[0;34m.\u001b[0m\u001b[0mformatting_input\u001b[0m\u001b[0;34m(\u001b[0m\u001b[0mself\u001b[0m\u001b[0;34m.\u001b[0m\u001b[0mpred_test1\u001b[0m\u001b[0;34m,\u001b[0m \u001b[0mself\u001b[0m\u001b[0;34m.\u001b[0m\u001b[0mpred_test2\u001b[0m\u001b[0;34m)\u001b[0m\u001b[0;34m\u001b[0m\u001b[0;34m\u001b[0m\u001b[0m\n",
            "\u001b[0;32m<ipython-input-21-8b7fa82dfc35>\u001b[0m in \u001b[0;36mtrain\u001b[0;34m(self)\u001b[0m\n\u001b[1;32m     22\u001b[0m   \u001b[0;32mdef\u001b[0m \u001b[0mtrain\u001b[0m\u001b[0;34m(\u001b[0m\u001b[0mself\u001b[0m\u001b[0;34m)\u001b[0m\u001b[0;34m:\u001b[0m\u001b[0;34m\u001b[0m\u001b[0;34m\u001b[0m\u001b[0m\n\u001b[1;32m     23\u001b[0m     \u001b[0mx_train\u001b[0m\u001b[0;34m,\u001b[0m \u001b[0my_train\u001b[0m \u001b[0;34m=\u001b[0m \u001b[0mself\u001b[0m\u001b[0;34m.\u001b[0m\u001b[0mformatting_input\u001b[0m\u001b[0;34m(\u001b[0m\u001b[0mself\u001b[0m\u001b[0;34m.\u001b[0m\u001b[0mpred1\u001b[0m\u001b[0;34m,\u001b[0m \u001b[0mself\u001b[0m\u001b[0;34m.\u001b[0m\u001b[0mpred2\u001b[0m\u001b[0;34m)\u001b[0m\u001b[0;34m\u001b[0m\u001b[0;34m\u001b[0m\u001b[0m\n\u001b[0;32m---> 24\u001b[0;31m     \u001b[0mreg\u001b[0m \u001b[0;34m=\u001b[0m \u001b[0mLinearRegression\u001b[0m\u001b[0;34m(\u001b[0m\u001b[0;34m)\u001b[0m\u001b[0;34m.\u001b[0m\u001b[0mfit\u001b[0m\u001b[0;34m(\u001b[0m\u001b[0mx_train\u001b[0m\u001b[0;34m,\u001b[0m \u001b[0my_train\u001b[0m\u001b[0;34m)\u001b[0m\u001b[0;34m\u001b[0m\u001b[0;34m\u001b[0m\u001b[0m\n\u001b[0m\u001b[1;32m     25\u001b[0m     \u001b[0mprint\u001b[0m\u001b[0;34m(\u001b[0m\u001b[0;34m'regression score:'\u001b[0m\u001b[0;34m,\u001b[0m \u001b[0mreg\u001b[0m\u001b[0;34m.\u001b[0m\u001b[0mscore\u001b[0m\u001b[0;34m(\u001b[0m\u001b[0mx_train\u001b[0m\u001b[0;34m,\u001b[0m \u001b[0my_train\u001b[0m\u001b[0;34m)\u001b[0m\u001b[0;34m)\u001b[0m\u001b[0;34m\u001b[0m\u001b[0;34m\u001b[0m\u001b[0m\n\u001b[1;32m     26\u001b[0m     \u001b[0mprint\u001b[0m\u001b[0;34m(\u001b[0m\u001b[0;34m'weights:'\u001b[0m\u001b[0;34m,\u001b[0m \u001b[0mreg\u001b[0m\u001b[0;34m.\u001b[0m\u001b[0mcoef_\u001b[0m\u001b[0;34m)\u001b[0m\u001b[0;34m\u001b[0m\u001b[0;34m\u001b[0m\u001b[0m\n",
            "\u001b[0;32m/usr/local/lib/python3.7/dist-packages/sklearn/linear_model/_base.py\u001b[0m in \u001b[0;36mfit\u001b[0;34m(self, X, y, sample_weight)\u001b[0m\n\u001b[1;32m    661\u001b[0m \u001b[0;34m\u001b[0m\u001b[0m\n\u001b[1;32m    662\u001b[0m         X, y = self._validate_data(\n\u001b[0;32m--> 663\u001b[0;31m             \u001b[0mX\u001b[0m\u001b[0;34m,\u001b[0m \u001b[0my\u001b[0m\u001b[0;34m,\u001b[0m \u001b[0maccept_sparse\u001b[0m\u001b[0;34m=\u001b[0m\u001b[0maccept_sparse\u001b[0m\u001b[0;34m,\u001b[0m \u001b[0my_numeric\u001b[0m\u001b[0;34m=\u001b[0m\u001b[0;32mTrue\u001b[0m\u001b[0;34m,\u001b[0m \u001b[0mmulti_output\u001b[0m\u001b[0;34m=\u001b[0m\u001b[0;32mTrue\u001b[0m\u001b[0;34m\u001b[0m\u001b[0;34m\u001b[0m\u001b[0m\n\u001b[0m\u001b[1;32m    664\u001b[0m         )\n\u001b[1;32m    665\u001b[0m \u001b[0;34m\u001b[0m\u001b[0m\n",
            "\u001b[0;32m/usr/local/lib/python3.7/dist-packages/sklearn/base.py\u001b[0m in \u001b[0;36m_validate_data\u001b[0;34m(self, X, y, reset, validate_separately, **check_params)\u001b[0m\n\u001b[1;32m    579\u001b[0m                 \u001b[0my\u001b[0m \u001b[0;34m=\u001b[0m \u001b[0mcheck_array\u001b[0m\u001b[0;34m(\u001b[0m\u001b[0my\u001b[0m\u001b[0;34m,\u001b[0m \u001b[0;34m**\u001b[0m\u001b[0mcheck_y_params\u001b[0m\u001b[0;34m)\u001b[0m\u001b[0;34m\u001b[0m\u001b[0;34m\u001b[0m\u001b[0m\n\u001b[1;32m    580\u001b[0m             \u001b[0;32melse\u001b[0m\u001b[0;34m:\u001b[0m\u001b[0;34m\u001b[0m\u001b[0;34m\u001b[0m\u001b[0m\n\u001b[0;32m--> 581\u001b[0;31m                 \u001b[0mX\u001b[0m\u001b[0;34m,\u001b[0m \u001b[0my\u001b[0m \u001b[0;34m=\u001b[0m \u001b[0mcheck_X_y\u001b[0m\u001b[0;34m(\u001b[0m\u001b[0mX\u001b[0m\u001b[0;34m,\u001b[0m \u001b[0my\u001b[0m\u001b[0;34m,\u001b[0m \u001b[0;34m**\u001b[0m\u001b[0mcheck_params\u001b[0m\u001b[0;34m)\u001b[0m\u001b[0;34m\u001b[0m\u001b[0;34m\u001b[0m\u001b[0m\n\u001b[0m\u001b[1;32m    582\u001b[0m             \u001b[0mout\u001b[0m \u001b[0;34m=\u001b[0m \u001b[0mX\u001b[0m\u001b[0;34m,\u001b[0m \u001b[0my\u001b[0m\u001b[0;34m\u001b[0m\u001b[0;34m\u001b[0m\u001b[0m\n\u001b[1;32m    583\u001b[0m \u001b[0;34m\u001b[0m\u001b[0m\n",
            "\u001b[0;32m/usr/local/lib/python3.7/dist-packages/sklearn/utils/validation.py\u001b[0m in \u001b[0;36mcheck_X_y\u001b[0;34m(X, y, accept_sparse, accept_large_sparse, dtype, order, copy, force_all_finite, ensure_2d, allow_nd, multi_output, ensure_min_samples, ensure_min_features, y_numeric, estimator)\u001b[0m\n\u001b[1;32m    977\u001b[0m     )\n\u001b[1;32m    978\u001b[0m \u001b[0;34m\u001b[0m\u001b[0m\n\u001b[0;32m--> 979\u001b[0;31m     \u001b[0my\u001b[0m \u001b[0;34m=\u001b[0m \u001b[0m_check_y\u001b[0m\u001b[0;34m(\u001b[0m\u001b[0my\u001b[0m\u001b[0;34m,\u001b[0m \u001b[0mmulti_output\u001b[0m\u001b[0;34m=\u001b[0m\u001b[0mmulti_output\u001b[0m\u001b[0;34m,\u001b[0m \u001b[0my_numeric\u001b[0m\u001b[0;34m=\u001b[0m\u001b[0my_numeric\u001b[0m\u001b[0;34m)\u001b[0m\u001b[0;34m\u001b[0m\u001b[0;34m\u001b[0m\u001b[0m\n\u001b[0m\u001b[1;32m    980\u001b[0m \u001b[0;34m\u001b[0m\u001b[0m\n\u001b[1;32m    981\u001b[0m     \u001b[0mcheck_consistent_length\u001b[0m\u001b[0;34m(\u001b[0m\u001b[0mX\u001b[0m\u001b[0;34m,\u001b[0m \u001b[0my\u001b[0m\u001b[0;34m)\u001b[0m\u001b[0;34m\u001b[0m\u001b[0;34m\u001b[0m\u001b[0m\n",
            "\u001b[0;32m/usr/local/lib/python3.7/dist-packages/sklearn/utils/validation.py\u001b[0m in \u001b[0;36m_check_y\u001b[0;34m(y, multi_output, y_numeric)\u001b[0m\n\u001b[1;32m    988\u001b[0m     \u001b[0;32mif\u001b[0m \u001b[0mmulti_output\u001b[0m\u001b[0;34m:\u001b[0m\u001b[0;34m\u001b[0m\u001b[0;34m\u001b[0m\u001b[0m\n\u001b[1;32m    989\u001b[0m         y = check_array(\n\u001b[0;32m--> 990\u001b[0;31m             \u001b[0my\u001b[0m\u001b[0;34m,\u001b[0m \u001b[0maccept_sparse\u001b[0m\u001b[0;34m=\u001b[0m\u001b[0;34m\"csr\"\u001b[0m\u001b[0;34m,\u001b[0m \u001b[0mforce_all_finite\u001b[0m\u001b[0;34m=\u001b[0m\u001b[0;32mTrue\u001b[0m\u001b[0;34m,\u001b[0m \u001b[0mensure_2d\u001b[0m\u001b[0;34m=\u001b[0m\u001b[0;32mFalse\u001b[0m\u001b[0;34m,\u001b[0m \u001b[0mdtype\u001b[0m\u001b[0;34m=\u001b[0m\u001b[0;32mNone\u001b[0m\u001b[0;34m\u001b[0m\u001b[0;34m\u001b[0m\u001b[0m\n\u001b[0m\u001b[1;32m    991\u001b[0m         )\n\u001b[1;32m    992\u001b[0m     \u001b[0;32melse\u001b[0m\u001b[0;34m:\u001b[0m\u001b[0;34m\u001b[0m\u001b[0;34m\u001b[0m\u001b[0m\n",
            "\u001b[0;32m/usr/local/lib/python3.7/dist-packages/sklearn/utils/validation.py\u001b[0m in \u001b[0;36mcheck_array\u001b[0;34m(array, accept_sparse, accept_large_sparse, dtype, order, copy, force_all_finite, ensure_2d, allow_nd, ensure_min_samples, ensure_min_features, estimator)\u001b[0m\n\u001b[1;32m    798\u001b[0m \u001b[0;34m\u001b[0m\u001b[0m\n\u001b[1;32m    799\u001b[0m         \u001b[0;32mif\u001b[0m \u001b[0mforce_all_finite\u001b[0m\u001b[0;34m:\u001b[0m\u001b[0;34m\u001b[0m\u001b[0;34m\u001b[0m\u001b[0m\n\u001b[0;32m--> 800\u001b[0;31m             \u001b[0m_assert_all_finite\u001b[0m\u001b[0;34m(\u001b[0m\u001b[0marray\u001b[0m\u001b[0;34m,\u001b[0m \u001b[0mallow_nan\u001b[0m\u001b[0;34m=\u001b[0m\u001b[0mforce_all_finite\u001b[0m \u001b[0;34m==\u001b[0m \u001b[0;34m\"allow-nan\"\u001b[0m\u001b[0;34m)\u001b[0m\u001b[0;34m\u001b[0m\u001b[0;34m\u001b[0m\u001b[0m\n\u001b[0m\u001b[1;32m    801\u001b[0m \u001b[0;34m\u001b[0m\u001b[0m\n\u001b[1;32m    802\u001b[0m     \u001b[0;32mif\u001b[0m \u001b[0mensure_min_samples\u001b[0m \u001b[0;34m>\u001b[0m \u001b[0;36m0\u001b[0m\u001b[0;34m:\u001b[0m\u001b[0;34m\u001b[0m\u001b[0;34m\u001b[0m\u001b[0m\n",
            "\u001b[0;32m/usr/local/lib/python3.7/dist-packages/sklearn/utils/validation.py\u001b[0m in \u001b[0;36m_assert_all_finite\u001b[0;34m(X, allow_nan, msg_dtype)\u001b[0m\n\u001b[1;32m    114\u001b[0m             raise ValueError(\n\u001b[1;32m    115\u001b[0m                 msg_err.format(\n\u001b[0;32m--> 116\u001b[0;31m                     \u001b[0mtype_err\u001b[0m\u001b[0;34m,\u001b[0m \u001b[0mmsg_dtype\u001b[0m \u001b[0;32mif\u001b[0m \u001b[0mmsg_dtype\u001b[0m \u001b[0;32mis\u001b[0m \u001b[0;32mnot\u001b[0m \u001b[0;32mNone\u001b[0m \u001b[0;32melse\u001b[0m \u001b[0mX\u001b[0m\u001b[0;34m.\u001b[0m\u001b[0mdtype\u001b[0m\u001b[0;34m\u001b[0m\u001b[0;34m\u001b[0m\u001b[0m\n\u001b[0m\u001b[1;32m    117\u001b[0m                 )\n\u001b[1;32m    118\u001b[0m             )\n",
            "\u001b[0;31mValueError\u001b[0m: Input contains NaN, infinity or a value too large for dtype('float64')."
          ]
        }
      ]
    },
    {
      "cell_type": "code",
      "source": [
        "hybrid_mono_predictions = hybrid_mono_obj.get_predictions()"
      ],
      "metadata": {
        "id": "7HnJO-27GvsQ",
        "colab": {
          "base_uri": "https://localhost:8080/",
          "height": 165
        },
        "outputId": "c535b7b8-77da-46a0-fddd-ea57f2ddd10f"
      },
      "execution_count": null,
      "outputs": [
        {
          "output_type": "error",
          "ename": "NameError",
          "evalue": "ignored",
          "traceback": [
            "\u001b[0;31m---------------------------------------------------------------------------\u001b[0m",
            "\u001b[0;31mNameError\u001b[0m                                 Traceback (most recent call last)",
            "\u001b[0;32m<ipython-input-68-90dc1c3fcddd>\u001b[0m in \u001b[0;36m<module>\u001b[0;34m\u001b[0m\n\u001b[0;32m----> 1\u001b[0;31m \u001b[0mhybrid_mono_predictions\u001b[0m \u001b[0;34m=\u001b[0m \u001b[0mhybrid_mono_obj\u001b[0m\u001b[0;34m.\u001b[0m\u001b[0mget_predictions\u001b[0m\u001b[0;34m(\u001b[0m\u001b[0;34m)\u001b[0m\u001b[0;34m\u001b[0m\u001b[0;34m\u001b[0m\u001b[0m\n\u001b[0m",
            "\u001b[0;31mNameError\u001b[0m: name 'hybrid_mono_obj' is not defined"
          ]
        }
      ]
    },
    {
      "cell_type": "markdown",
      "metadata": {
        "id": "pTeSWsSLEYrj"
      },
      "source": [
        "# Training for NNH"
      ]
    },
    {
      "cell_type": "code",
      "source": [
        "svdppFacade_train_obj = CollabFacade(SVDpp(), review_second_df, review_limitedNNH_second_df)\n",
        "svdpp_train_predictions, svdpp_train_obj = svdppFacade_train_obj.run()\n",
        "nmfFacade_train_obj = CollabFacade(NMF(), review_second_df, review_limitedNNH_second_df)\n",
        "nmf_train_predictions, nmf_train_obj = nmfFacade_train_obj.run()"
      ],
      "metadata": {
        "id": "sPAQ300MYoHD"
      },
      "execution_count": null,
      "outputs": []
    },
    {
      "cell_type": "code",
      "source": [
        "hybridFacade_train_obj = RegHybridFacade(nmf_train_predictions, svdpp_train_predictions, nmf_train_predictions, svdpp_train_predictions)\n",
        "hybrid_train_predicted, hybrid_train_obj = hybridFacade_train_obj.run()"
      ],
      "metadata": {
        "id": "5djnjNGUZg78"
      },
      "execution_count": null,
      "outputs": []
    },
    {
      "cell_type": "code",
      "source": [
        "hybrid_trains_predictions = hybrid_train_obj.get_predictions()"
      ],
      "metadata": {
        "id": "-8rwodEKSUHq"
      },
      "execution_count": null,
      "outputs": []
    },
    {
      "cell_type": "markdown",
      "metadata": {
        "id": "xT3XYbzB8TdH"
      },
      "source": [
        "# Hybrid With NNH"
      ]
    },
    {
      "cell_type": "markdown",
      "source": [
        "## Packages"
      ],
      "metadata": {
        "id": "VaTz2isUmKkC"
      }
    },
    {
      "cell_type": "code",
      "execution_count": null,
      "metadata": {
        "id": "PptnebxC8cGu"
      },
      "outputs": [],
      "source": [
        "import math\n",
        "import pandas as pd\n",
        "import tensorflow as tf\n",
        "import matplotlib.pyplot as plt\n",
        "from tensorflow.keras import Model\n",
        "from tensorflow.keras import Sequential\n",
        "from tensorflow.keras.optimizers import Adam\n",
        "from sklearn.preprocessing import StandardScaler\n",
        "from tensorflow.keras.layers import Dense, Dropout\n",
        "from sklearn.model_selection import train_test_split\n",
        "from tensorflow.keras.losses import MeanSquaredLogarithmicError\n",
        "from sklearn.metrics import classification_report"
      ]
    },
    {
      "cell_type": "markdown",
      "source": [
        "## NN4Hybrid Class"
      ],
      "metadata": {
        "id": "diePFxQJpSDa"
      }
    },
    {
      "cell_type": "code",
      "source": [
        "class NN4Hybrid:\n",
        "  \n",
        "  def __init__(self):\n",
        "    self.train_history = None\n",
        "  \n",
        "\n",
        "  def get_model(self):\n",
        "    hidden_units1 = 160\n",
        "    hidden_units2 = 480\n",
        "    hidden_units3 = 256\n",
        "    model = Sequential([\n",
        "      Dense(hidden_units1, kernel_initializer='normal', activation='relu'),\n",
        "      Dropout(0.2),\n",
        "      Dense(hidden_units2, kernel_initializer='normal', activation='relu'),\n",
        "      Dropout(0.2),\n",
        "      Dense(hidden_units3, kernel_initializer='normal', activation='relu'),\n",
        "      Dense(1, kernel_initializer='normal', activation='linear')\n",
        "    ])\n",
        "    return model\n",
        "\n",
        "  def get_optimizer(self, learning_rate=0.01):\n",
        "    return Adam(learning_rate=learning_rate)\n",
        "\n",
        "  def get_loss(self):\n",
        "    return MeanSquaredLogarithmicError()\n",
        "\n",
        "  def metrics(self):\n",
        "    return [self.get_loss()]\n",
        "\n",
        "  def compile(self):\n",
        "    model = self.get_model()\n",
        "    model.compile(\n",
        "      optimizer = self.get_optimizer(),\n",
        "      loss = self.get_loss(), \n",
        "      metrics = self.metrics())\n",
        "    return model\n",
        "\n",
        "  def train(self, x_train, y_train, epochs=1):\n",
        "    model = self.compile()\n",
        "    train_history = history = model.fit(\n",
        "        x_train, \n",
        "        y_train, \n",
        "        epochs=10, \n",
        "        batch_size=100,\n",
        "        validation_split=0.2\n",
        "    )\n",
        "    self.train_history = train_history\n",
        "    return model, train_history\n",
        "\n",
        "  def test(self, model, test):\n",
        "    return model.predict(test)\n",
        "\n",
        "  def plot_history(self, key='mean_squared_logarithmic_error'):\n",
        "    plt.plot(self.train_history.history[key])\n",
        "    plt.plot(self.train_history.history['val_'+key])\n",
        "    plt.xlabel(\"Epochs\")\n",
        "    plt.ylabel(key)\n",
        "    plt.legend([key, 'val_'+key])\n",
        "    plt.show()\n",
        "\n",
        "  def get_predictions(self, predicted, pred1):\n",
        "    prediction_list = []\n",
        "    for index in range(len(predicted)):\n",
        "      weighted_prediction = predicted[index]\n",
        "      pred_obj = pred1[index]\n",
        "      item = Prediction(\n",
        "        uid=pred_obj.uid,\n",
        "        iid=pred_obj.iid,\n",
        "        r_ui=pred_obj.r_ui,\n",
        "        est=weighted_prediction,\n",
        "        details=pred_obj.details\n",
        "      )\n",
        "      prediction_list.append(item)\n",
        "\n",
        "    return prediction_list\n",
        "\n",
        "  @classmethod\n",
        "  def evaluate(self, y_true, y_predicted):\n",
        "    return classification_report(y_true, y_predicted)\n"
      ],
      "metadata": {
        "id": "yVqywKmYmS89"
      },
      "execution_count": null,
      "outputs": []
    },
    {
      "cell_type": "markdown",
      "source": [
        "## NN4Hybrid Facade"
      ],
      "metadata": {
        "id": "9_yhNhS3zkdC"
      }
    },
    {
      "cell_type": "code",
      "source": [
        "class NN4HybridFacade:\n",
        "  def __init__(self, pred1, pred2, x_test, y_test):\n",
        "    self.pred1 = pred1\n",
        "    self.pred2 = pred2\n",
        "    self.x_test = x_test\n",
        "    self.y_test = y_test\n",
        "\n",
        "  def run(self):\n",
        "    x_train, y_train = RegHybrid.formatting_input(self.pred1, self.pred2)\n",
        "    nnh_obj = NN4Hybrid()\n",
        "    model, train_history = nnh_obj.train(x_train, y_train)\n",
        "    nnh_obj.plot_history()\n",
        "    x_test, y_test = RegHybrid.formatting_input(self.x_test, self.y_test)\n",
        "    predicted = nnh_obj.test(model, x_test)\n",
        "    predicted_rounded = [round(item[0]) for item in predicted]\n",
        "    print(nnh_obj.evaluate(y_test, predicted_rounded))\n",
        "\n",
        "    return predicted_rounded, nnh_obj\n"
      ],
      "metadata": {
        "id": "AD0kZ-skpdcP"
      },
      "execution_count": null,
      "outputs": []
    },
    {
      "cell_type": "markdown",
      "source": [
        "## Run"
      ],
      "metadata": {
        "id": "yRaNJ6r7d_gT"
      }
    },
    {
      "cell_type": "code",
      "source": [
        "NN4HybridFacade_obj = NN4HybridFacade(svdpp_train_predictions, nmf_train_predictions, svdpp_predictions, nmf_predictions)\n",
        "nnh_predicted, nnh_obj = NN4HybridFacade_obj.run()"
      ],
      "metadata": {
        "colab": {
          "base_uri": "https://localhost:8080/",
          "height": 838
        },
        "id": "OlPGeiclcDF6",
        "outputId": "04349baa-0e5f-4d9c-8372-a1226142c3dd"
      },
      "execution_count": null,
      "outputs": [
        {
          "output_type": "stream",
          "name": "stdout",
          "text": [
            "Epoch 1/10\n",
            "400/400 [==============================] - 6s 4ms/step - loss: 0.0493 - mean_squared_logarithmic_error: 0.0493 - val_loss: 0.0458 - val_mean_squared_logarithmic_error: 0.0458\n",
            "Epoch 2/10\n",
            "400/400 [==============================] - 2s 4ms/step - loss: 0.0391 - mean_squared_logarithmic_error: 0.0391 - val_loss: 0.0383 - val_mean_squared_logarithmic_error: 0.0383\n",
            "Epoch 3/10\n",
            "400/400 [==============================] - 2s 4ms/step - loss: 0.0385 - mean_squared_logarithmic_error: 0.0385 - val_loss: 0.0383 - val_mean_squared_logarithmic_error: 0.0383\n",
            "Epoch 4/10\n",
            "400/400 [==============================] - 2s 4ms/step - loss: 0.0387 - mean_squared_logarithmic_error: 0.0387 - val_loss: 0.0361 - val_mean_squared_logarithmic_error: 0.0361\n",
            "Epoch 5/10\n",
            "400/400 [==============================] - 1s 3ms/step - loss: 0.0378 - mean_squared_logarithmic_error: 0.0378 - val_loss: 0.0348 - val_mean_squared_logarithmic_error: 0.0348\n",
            "Epoch 6/10\n",
            "400/400 [==============================] - 1s 3ms/step - loss: 0.0378 - mean_squared_logarithmic_error: 0.0378 - val_loss: 0.0349 - val_mean_squared_logarithmic_error: 0.0349\n",
            "Epoch 7/10\n",
            "400/400 [==============================] - 1s 3ms/step - loss: 0.0367 - mean_squared_logarithmic_error: 0.0367 - val_loss: 0.0348 - val_mean_squared_logarithmic_error: 0.0348\n",
            "Epoch 8/10\n",
            "400/400 [==============================] - 1s 3ms/step - loss: 0.0362 - mean_squared_logarithmic_error: 0.0362 - val_loss: 0.0352 - val_mean_squared_logarithmic_error: 0.0352\n",
            "Epoch 9/10\n",
            "400/400 [==============================] - 1s 3ms/step - loss: 0.0360 - mean_squared_logarithmic_error: 0.0360 - val_loss: 0.0352 - val_mean_squared_logarithmic_error: 0.0352\n",
            "Epoch 10/10\n",
            "400/400 [==============================] - 1s 3ms/step - loss: 0.0356 - mean_squared_logarithmic_error: 0.0356 - val_loss: 0.0336 - val_mean_squared_logarithmic_error: 0.0336\n"
          ]
        },
        {
          "output_type": "display_data",
          "data": {
            "text/plain": [
              "<Figure size 432x288 with 1 Axes>"
            ],
            "image/png": "[encoded data removed]"
          },
          "metadata": {
            "needs_background": "light"
          }
        },
        {
          "output_type": "stream",
          "name": "stdout",
          "text": [
            "              precision    recall  f1-score   support\n",
            "\n",
            "         1.0       0.96      0.76      0.85      5965\n",
            "         2.0       0.65      0.64      0.64      3354\n",
            "         3.0       0.59      0.69      0.63      4327\n",
            "         4.0       0.56      0.90      0.69      9828\n",
            "         5.0       0.98      0.79      0.88     26526\n",
            "\n",
            "    accuracy                           0.79     50000\n",
            "   macro avg       0.75      0.75      0.74     50000\n",
            "weighted avg       0.84      0.79      0.80     50000\n",
            "\n"
          ]
        }
      ]
    },
    {
      "cell_type": "code",
      "source": [
        "nnh_predictions = nnh_obj.get_predictions(nnh_predicted, svdpp_predictions)"
      ],
      "metadata": {
        "id": "ERTMRTLUhmxX"
      },
      "execution_count": null,
      "outputs": []
    },
    {
      "cell_type": "code",
      "execution_count": null,
      "metadata": {
        "id": "YSgFkWWVXU6E",
        "colab": {
          "base_uri": "https://localhost:8080/",
          "height": 206
        },
        "outputId": "26a1787a-5488-4647-ea39-9fcb6318b00c"
      },
      "outputs": [
        {
          "output_type": "execute_result",
          "data": {
            "text/plain": [
              "   Sentiment  NNH  Actual\n",
              "0   4.515152    5     5.0\n",
              "1   3.729167    4     4.0\n",
              "2   3.588235    3     3.0\n",
              "3   1.923077    1     1.0\n",
              "4   4.642857    4     5.0"
            ],
            "text/html": [
              "\n",
              "  <div id=\"df-09ada773-21e4-4576-b044-9c8bf02ecf79\">\n",
              "    <div class=\"colab-df-container\">\n",
              "      <div>\n",
              "<style scoped>\n",
              "    .dataframe tbody tr th:only-of-type {\n",
              "        vertical-align: middle;\n",
              "    }\n",
              "\n",
              "    .dataframe tbody tr th {\n",
              "        vertical-align: top;\n",
              "    }\n",
              "\n",
              "    .dataframe thead th {\n",
              "        text-align: right;\n",
              "    }\n",
              "</style>\n",
              "<table border=\"1\" class=\"dataframe\">\n",
              "  <thead>\n",
              "    <tr style=\"text-align: right;\">\n",
              "      <th></th>\n",
              "      <th>Sentiment</th>\n",
              "      <th>NNH</th>\n",
              "      <th>Actual</th>\n",
              "    </tr>\n",
              "  </thead>\n",
              "  <tbody>\n",
              "    <tr>\n",
              "      <th>0</th>\n",
              "      <td>4.515152</td>\n",
              "      <td>5</td>\n",
              "      <td>5.0</td>\n",
              "    </tr>\n",
              "    <tr>\n",
              "      <th>1</th>\n",
              "      <td>3.729167</td>\n",
              "      <td>4</td>\n",
              "      <td>4.0</td>\n",
              "    </tr>\n",
              "    <tr>\n",
              "      <th>2</th>\n",
              "      <td>3.588235</td>\n",
              "      <td>3</td>\n",
              "      <td>3.0</td>\n",
              "    </tr>\n",
              "    <tr>\n",
              "      <th>3</th>\n",
              "      <td>1.923077</td>\n",
              "      <td>1</td>\n",
              "      <td>1.0</td>\n",
              "    </tr>\n",
              "    <tr>\n",
              "      <th>4</th>\n",
              "      <td>4.642857</td>\n",
              "      <td>4</td>\n",
              "      <td>5.0</td>\n",
              "    </tr>\n",
              "  </tbody>\n",
              "</table>\n",
              "</div>\n",
              "      <button class=\"colab-df-convert\" onclick=\"convertToInteractive('df-09ada773-21e4-4576-b044-9c8bf02ecf79')\"\n",
              "              title=\"Convert this dataframe to an interactive table.\"\n",
              "              style=\"display:none;\">\n",
              "        \n",
              "  <svg xmlns=\"http://www.w3.org/2000/svg\" height=\"24px\"viewBox=\"0 0 24 24\"\n",
              "       width=\"24px\">\n",
              "    <path d=\"M0 0h24v24H0V0z\" fill=\"none\"/>\n",
              "    <path d=\"M18.56 5.44l.94 2.06.94-2.06 2.06-.94-2.06-.94-.94-2.06-.94 2.06-2.06.94zm-11 1L8.5 8.5l.94-2.06 2.06-.94-2.06-.94L8.5 2.5l-.94 2.06-2.06.94zm10 10l.94 2.06.94-2.06 2.06-.94-2.06-.94-.94-2.06-.94 2.06-2.06.94z\"/><path d=\"M17.41 7.96l-1.37-1.37c-.4-.4-.92-.59-1.43-.59-.52 0-1.04.2-1.43.59L10.3 9.45l-7.72 7.72c-.78.78-.78 2.05 0 2.83L4 21.41c.39.39.9.59 1.41.59.51 0 1.02-.2 1.41-.59l7.78-7.78 2.81-2.81c.8-.78.8-2.07 0-2.86zM5.41 20L4 18.59l7.72-7.72 1.47 1.35L5.41 20z\"/>\n",
              "  </svg>\n",
              "      </button>\n",
              "      \n",
              "  <style>\n",
              "    .colab-df-container {\n",
              "      display:flex;\n",
              "      flex-wrap:wrap;\n",
              "      gap: 12px;\n",
              "    }\n",
              "\n",
              "    .colab-df-convert {\n",
              "      background-color: #E8F0FE;\n",
              "      border: none;\n",
              "      border-radius: 50%;\n",
              "      cursor: pointer;\n",
              "      display: none;\n",
              "      fill: #1967D2;\n",
              "      height: 32px;\n",
              "      padding: 0 0 0 0;\n",
              "      width: 32px;\n",
              "    }\n",
              "\n",
              "    .colab-df-convert:hover {\n",
              "      background-color: #E2EBFA;\n",
              "      box-shadow: 0px 1px 2px rgba(60, 64, 67, 0.3), 0px 1px 3px 1px rgba(60, 64, 67, 0.15);\n",
              "      fill: #174EA6;\n",
              "    }\n",
              "\n",
              "    [theme=dark] .colab-df-convert {\n",
              "      background-color: #3B4455;\n",
              "      fill: #D2E3FC;\n",
              "    }\n",
              "\n",
              "    [theme=dark] .colab-df-convert:hover {\n",
              "      background-color: #434B5C;\n",
              "      box-shadow: 0px 1px 3px 1px rgba(0, 0, 0, 0.15);\n",
              "      filter: drop-shadow(0px 1px 2px rgba(0, 0, 0, 0.3));\n",
              "      fill: #FFFFFF;\n",
              "    }\n",
              "  </style>\n",
              "\n",
              "      <script>\n",
              "        const buttonEl =\n",
              "          document.querySelector('#df-09ada773-21e4-4576-b044-9c8bf02ecf79 button.colab-df-convert');\n",
              "        buttonEl.style.display =\n",
              "          google.colab.kernel.accessAllowed ? 'block' : 'none';\n",
              "\n",
              "        async function convertToInteractive(key) {\n",
              "          const element = document.querySelector('#df-09ada773-21e4-4576-b044-9c8bf02ecf79');\n",
              "          const dataTable =\n",
              "            await google.colab.kernel.invokeFunction('convertToInteractive',\n",
              "                                                     [key], {});\n",
              "          if (!dataTable) return;\n",
              "\n",
              "          const docLinkHtml = 'Like what you see? Visit the ' +\n",
              "            '<a target=\"_blank\" href=https://colab.research.google.com/notebooks/data_table.ipynb>data table notebook</a>'\n",
              "            + ' to learn more about interactive tables.';\n",
              "          element.innerHTML = '';\n",
              "          dataTable['output_type'] = 'display_data';\n",
              "          await google.colab.output.renderOutput(dataTable, element);\n",
              "          const docLink = document.createElement('div');\n",
              "          docLink.innerHTML = docLinkHtml;\n",
              "          element.appendChild(docLink);\n",
              "        }\n",
              "      </script>\n",
              "    </div>\n",
              "  </div>\n",
              "  "
            ]
          },
          "metadata": {},
          "execution_count": 232
        }
      ],
      "source": [
        "regression_sen_nnh_df = pd.DataFrame([[business_dict_mean[svd_predicted[i].iid], round(nnh_predicted_item[i]), review_limited_ca_df.iloc[i]['stars']] for i in range(len(review_limited_ca_df))]\n",
        "                  , columns=['Sentiment', 'NNH', 'Actual'])\n",
        "regression_sen_nnh_df.head(5)"
      ]
    },
    {
      "cell_type": "code",
      "source": [
        "regression_sen_nnh_df.shape"
      ],
      "metadata": {
        "colab": {
          "base_uri": "https://localhost:8080/"
        },
        "id": "etIEJQCOhORl",
        "outputId": "a2e8b036-7a2d-45fd-d019-0f315e5f5842"
      },
      "execution_count": null,
      "outputs": [
        {
          "output_type": "execute_result",
          "data": {
            "text/plain": [
              "(15550, 3)"
            ]
          },
          "metadata": {},
          "execution_count": 233
        }
      ]
    },
    {
      "cell_type": "markdown",
      "source": [
        "# Fusion class"
      ],
      "metadata": {
        "id": "sjfFtuqiCpDv"
      }
    },
    {
      "cell_type": "markdown",
      "source": [
        "## Packages"
      ],
      "metadata": {
        "id": "3GzQ4fJNBi7K"
      }
    },
    {
      "cell_type": "code",
      "source": [
        "from surprise.prediction_algorithms.predictions import Prediction\n",
        "from sklearn.linear_model import LinearRegression\n",
        "from transformers.models.auto import modeling_tf_auto\n",
        "import pandas as pd"
      ],
      "metadata": {
        "id": "JrgRKcqRCowR"
      },
      "execution_count": null,
      "outputs": []
    },
    {
      "cell_type": "markdown",
      "source": [
        "## Fusion class"
      ],
      "metadata": {
        "id": "yb9vahgMBk5o"
      }
    },
    {
      "cell_type": "code",
      "source": [
        "class Fusion:\n",
        "  def __init__(self, sentiment_dict, recommender, actual):\n",
        "    self.sentiment_dict = sentiment_dict\n",
        "    self.recommender = recommender\n",
        "    self.actual = actual\n",
        "    \n",
        "  @staticmethod\n",
        "  def constructing_df(sentiment_dict, recommender, actual):\n",
        "    return pd.DataFrame([[sentiment_dict[recommender[i].iid], round(recommender[i].est), round(actual.iloc[i]['stars'])] for i in range(len(actual)) if recommender[i].iid in sentiment_dict]\n",
        "            , columns=['Sentiment', 'Recommender', 'Actual'])\n",
        "      \n",
        "\n",
        "  def formatting_input(self, df):\n",
        "    items = []\n",
        "    actuals = []\n",
        "    for index in range(len(df)):\n",
        "      sentiment = df.iloc[index]['Sentiment']\n",
        "      hybrid = df.iloc[index]['Recommender']\n",
        "      actual = df.iloc[index]['Actual']\n",
        "\n",
        "      recommender = hybrid\n",
        "      items.append([sentiment, recommender])\n",
        "      actuals.append(actual)\n",
        "    \n",
        "    return items, actuals\n",
        "\n",
        "  def train(self):\n",
        "    df = self.constructing_df(self.sentiment_dict, self.recommender, self.actual)\n",
        "    items, actual = self.formatting_input(df)\n",
        "    reg = LinearRegression().fit(items, actual)\n",
        "\n",
        "    return reg\n",
        "\n",
        "  def test(self, model, x_test):\n",
        "    return model.predict(x_test)\n",
        "\n",
        "  def get_predictions(self, predicted, pred1):\n",
        "    prediction_list = []\n",
        "    for index in range(len(predicted)):\n",
        "      weighted_prediction = predicted[index]\n",
        "      pred_obj = pred1[index]\n",
        "      item = Prediction(\n",
        "        uid=pred_obj.uid,\n",
        "        iid=pred_obj.iid,\n",
        "        r_ui=pred_obj.r_ui,\n",
        "        est=weighted_prediction,\n",
        "        details=pred_obj.details\n",
        "      )\n",
        "      prediction_list.append(item)\n",
        "\n",
        "    return prediction_list\n",
        "\n",
        "  def evaluate(self, y_true, y_predicted):\n",
        "    return classification_report(y_true, y_predicted)"
      ],
      "metadata": {
        "id": "252WG2cwCuwr"
      },
      "execution_count": null,
      "outputs": []
    },
    {
      "cell_type": "markdown",
      "source": [
        "## Fusion Facade"
      ],
      "metadata": {
        "id": "NKP3HEyKBmZY"
      }
    },
    {
      "cell_type": "code",
      "source": [
        "class FusionFacade:\n",
        "\n",
        "  def __init__(self, sentiment_dict, recommender, actual, x_test, y_test):\n",
        "    self.sentiment_dict = sentiment_dict\n",
        "    self.recommender = recommender\n",
        "    self.actual = actual\n",
        "    self.x_test = x_test\n",
        "    self.y_test = y_test\n",
        "\n",
        "  def run(self):\n",
        "    fusion_obj = Fusion(self.sentiment_dict, self.recommender, self.actual)\n",
        "    model = fusion_obj.train()\n",
        "    predicted = fusion_obj.test(model, self.x_test)\n",
        "    predicted_rounded = [round(item) for item in predicted]\n",
        "    print(fusion_obj.evaluate(self.y_test, predicted_rounded))\n",
        "    return predicted, fusion_obj"
      ],
      "metadata": {
        "id": "Z0evLHfaH6cU"
      },
      "execution_count": null,
      "outputs": []
    },
    {
      "cell_type": "markdown",
      "source": [
        "## Sentiment + SVD"
      ],
      "metadata": {
        "id": "1Nofn-TkBeDY"
      }
    },
    {
      "cell_type": "code",
      "source": [
        "sen_svd_df = Fusion.constructing_df(sentiment_dictionary, svd_predictions, review_limited_first_df)\n",
        "sen_svd_fusionFacade_obj = FusionFacade(sentiment_dictionary, svd_predictions, review_limited_first_df, sen_svd_df.iloc[:5000][['Sentiment', 'Recommender']], sen_svd_df.iloc[:5000]['Actual'])\n",
        "sen_svd_fusion_predictions, sen_svd_fusion_obj = sen_svd_fusionFacade_obj.run()"
      ],
      "metadata": {
        "colab": {
          "base_uri": "https://localhost:8080/"
        },
        "id": "jmkO5jkh5s5m",
        "outputId": "c9871de1-cb25-4811-a17b-18be60551f44"
      },
      "execution_count": null,
      "outputs": [
        {
          "output_type": "stream",
          "name": "stdout",
          "text": [
            "              precision    recall  f1-score   support\n",
            "\n",
            "         0.0       0.00      0.00      0.00         0\n",
            "         1.0       0.83      0.12      0.21      1176\n",
            "         2.0       0.14      0.19      0.16       479\n",
            "         3.0       0.23      0.69      0.35       528\n",
            "         4.0       0.26      0.61      0.37       892\n",
            "         5.0       0.92      0.20      0.32      1925\n",
            "         6.0       0.00      0.00      0.00         0\n",
            "\n",
            "    accuracy                           0.30      5000\n",
            "   macro avg       0.34      0.26      0.20      5000\n",
            "weighted avg       0.63      0.30      0.29      5000\n",
            "\n"
          ]
        },
        {
          "output_type": "stream",
          "name": "stderr",
          "text": [
            "/usr/local/lib/python3.7/dist-packages/sklearn/base.py:444: UserWarning: X has feature names, but LinearRegression was fitted without feature names\n",
            "  f\"X has feature names, but {self.__class__.__name__} was fitted without\"\n",
            "/usr/local/lib/python3.7/dist-packages/sklearn/metrics/_classification.py:1318: UndefinedMetricWarning: Recall and F-score are ill-defined and being set to 0.0 in labels with no true samples. Use `zero_division` parameter to control this behavior.\n",
            "  _warn_prf(average, modifier, msg_start, len(result))\n",
            "/usr/local/lib/python3.7/dist-packages/sklearn/metrics/_classification.py:1318: UndefinedMetricWarning: Recall and F-score are ill-defined and being set to 0.0 in labels with no true samples. Use `zero_division` parameter to control this behavior.\n",
            "  _warn_prf(average, modifier, msg_start, len(result))\n",
            "/usr/local/lib/python3.7/dist-packages/sklearn/metrics/_classification.py:1318: UndefinedMetricWarning: Recall and F-score are ill-defined and being set to 0.0 in labels with no true samples. Use `zero_division` parameter to control this behavior.\n",
            "  _warn_prf(average, modifier, msg_start, len(result))\n"
          ]
        }
      ]
    },
    {
      "cell_type": "markdown",
      "source": [
        "## Sentiment + Hybrid"
      ],
      "metadata": {
        "id": "DtY8s1BIBqPg"
      }
    },
    {
      "cell_type": "code",
      "source": [
        "len (hybrid_trains_predictions)"
      ],
      "metadata": {
        "colab": {
          "base_uri": "https://localhost:8080/"
        },
        "id": "mRid3aQsS4Db",
        "outputId": "78513477-b818-497b-b188-70f5b6d22f02"
      },
      "execution_count": null,
      "outputs": [
        {
          "output_type": "execute_result",
          "data": {
            "text/plain": [
              "50000"
            ]
          },
          "metadata": {},
          "execution_count": 93
        }
      ]
    },
    {
      "cell_type": "code",
      "source": [
        "#test\n",
        "sen_hybrid_df = Fusion.constructing_df(sentiment_dictionary, hybrid_predictions, review_limited_first_df)\n",
        "\n",
        "#train\n",
        "sen_hybrid_fusionFacade_obj = FusionFacade(sentiment_dictionary, hybrid_trains_predictions, review_limited_second_df, sen_hybrid_df[['Sentiment', 'Recommender']], sen_hybrid_df['Actual'])\n",
        "sen_hybrid_fusion_predictions, sen_hybrid_fusion_obj = sen_hybrid_fusionFacade_obj.run()"
      ],
      "metadata": {
        "id": "eD4O8WMwJ6kV",
        "colab": {
          "base_uri": "https://localhost:8080/",
          "height": 762
        },
        "outputId": "24b821e0-3133-4093-dde5-0e76c40be9b7"
      },
      "execution_count": null,
      "outputs": [
        {
          "output_type": "error",
          "ename": "IndexError",
          "evalue": "ignored",
          "traceback": [
            "\u001b[0;31m---------------------------------------------------------------------------\u001b[0m",
            "\u001b[0;31mIndexError\u001b[0m                                Traceback (most recent call last)",
            "\u001b[0;32m<ipython-input-91-031899e3ae17>\u001b[0m in \u001b[0;36m<module>\u001b[0;34m\u001b[0m\n\u001b[1;32m      4\u001b[0m \u001b[0;31m#train\u001b[0m\u001b[0;34m\u001b[0m\u001b[0;34m\u001b[0m\u001b[0;34m\u001b[0m\u001b[0m\n\u001b[1;32m      5\u001b[0m \u001b[0msen_hybrid_fusionFacade_obj\u001b[0m \u001b[0;34m=\u001b[0m \u001b[0mFusionFacade\u001b[0m\u001b[0;34m(\u001b[0m\u001b[0msentiment_dictionary\u001b[0m\u001b[0;34m,\u001b[0m \u001b[0mhybrid_trains_predictions\u001b[0m\u001b[0;34m,\u001b[0m \u001b[0mreview_limited_second_df\u001b[0m\u001b[0;34m,\u001b[0m \u001b[0msen_hybrid_df\u001b[0m\u001b[0;34m[\u001b[0m\u001b[0;34m[\u001b[0m\u001b[0;34m'Sentiment'\u001b[0m\u001b[0;34m,\u001b[0m \u001b[0;34m'Recommender'\u001b[0m\u001b[0;34m]\u001b[0m\u001b[0;34m]\u001b[0m\u001b[0;34m,\u001b[0m \u001b[0msen_hybrid_df\u001b[0m\u001b[0;34m[\u001b[0m\u001b[0;34m'Actual'\u001b[0m\u001b[0;34m]\u001b[0m\u001b[0;34m)\u001b[0m\u001b[0;34m\u001b[0m\u001b[0;34m\u001b[0m\u001b[0m\n\u001b[0;32m----> 6\u001b[0;31m \u001b[0msen_hybrid_fusion_predictions\u001b[0m\u001b[0;34m,\u001b[0m \u001b[0msen_hybrid_fusion_obj\u001b[0m \u001b[0;34m=\u001b[0m \u001b[0msen_hybrid_fusionFacade_obj\u001b[0m\u001b[0;34m.\u001b[0m\u001b[0mrun\u001b[0m\u001b[0;34m(\u001b[0m\u001b[0;34m)\u001b[0m\u001b[0;34m\u001b[0m\u001b[0;34m\u001b[0m\u001b[0m\n\u001b[0m",
            "\u001b[0;32m<ipython-input-87-7d89958d314a>\u001b[0m in \u001b[0;36mrun\u001b[0;34m(self)\u001b[0m\n\u001b[1;32m     10\u001b[0m   \u001b[0;32mdef\u001b[0m \u001b[0mrun\u001b[0m\u001b[0;34m(\u001b[0m\u001b[0mself\u001b[0m\u001b[0;34m)\u001b[0m\u001b[0;34m:\u001b[0m\u001b[0;34m\u001b[0m\u001b[0;34m\u001b[0m\u001b[0m\n\u001b[1;32m     11\u001b[0m     \u001b[0mfusion_obj\u001b[0m \u001b[0;34m=\u001b[0m \u001b[0mFusion\u001b[0m\u001b[0;34m(\u001b[0m\u001b[0mself\u001b[0m\u001b[0;34m.\u001b[0m\u001b[0msentiment_dict\u001b[0m\u001b[0;34m,\u001b[0m \u001b[0mself\u001b[0m\u001b[0;34m.\u001b[0m\u001b[0mrecommender\u001b[0m\u001b[0;34m,\u001b[0m \u001b[0mself\u001b[0m\u001b[0;34m.\u001b[0m\u001b[0mactual\u001b[0m\u001b[0;34m)\u001b[0m\u001b[0;34m\u001b[0m\u001b[0;34m\u001b[0m\u001b[0m\n\u001b[0;32m---> 12\u001b[0;31m     \u001b[0mmodel\u001b[0m \u001b[0;34m=\u001b[0m \u001b[0mfusion_obj\u001b[0m\u001b[0;34m.\u001b[0m\u001b[0mtrain\u001b[0m\u001b[0;34m(\u001b[0m\u001b[0;34m)\u001b[0m\u001b[0;34m\u001b[0m\u001b[0;34m\u001b[0m\u001b[0m\n\u001b[0m\u001b[1;32m     13\u001b[0m     \u001b[0mpredicted\u001b[0m \u001b[0;34m=\u001b[0m \u001b[0mfusion_obj\u001b[0m\u001b[0;34m.\u001b[0m\u001b[0mtest\u001b[0m\u001b[0;34m(\u001b[0m\u001b[0mmodel\u001b[0m\u001b[0;34m,\u001b[0m \u001b[0mself\u001b[0m\u001b[0;34m.\u001b[0m\u001b[0mx_test\u001b[0m\u001b[0;34m)\u001b[0m\u001b[0;34m\u001b[0m\u001b[0;34m\u001b[0m\u001b[0m\n\u001b[1;32m     14\u001b[0m     \u001b[0mpredicted_rounded\u001b[0m \u001b[0;34m=\u001b[0m \u001b[0;34m[\u001b[0m\u001b[0mround\u001b[0m\u001b[0;34m(\u001b[0m\u001b[0mitem\u001b[0m\u001b[0;34m)\u001b[0m \u001b[0;32mfor\u001b[0m \u001b[0mitem\u001b[0m \u001b[0;32min\u001b[0m \u001b[0mpredicted\u001b[0m\u001b[0;34m]\u001b[0m\u001b[0;34m\u001b[0m\u001b[0;34m\u001b[0m\u001b[0m\n",
            "\u001b[0;32m<ipython-input-86-f71059c021b2>\u001b[0m in \u001b[0;36mtrain\u001b[0;34m(self)\u001b[0m\n\u001b[1;32m     26\u001b[0m \u001b[0;34m\u001b[0m\u001b[0m\n\u001b[1;32m     27\u001b[0m   \u001b[0;32mdef\u001b[0m \u001b[0mtrain\u001b[0m\u001b[0;34m(\u001b[0m\u001b[0mself\u001b[0m\u001b[0;34m)\u001b[0m\u001b[0;34m:\u001b[0m\u001b[0;34m\u001b[0m\u001b[0;34m\u001b[0m\u001b[0m\n\u001b[0;32m---> 28\u001b[0;31m     \u001b[0mdf\u001b[0m \u001b[0;34m=\u001b[0m \u001b[0mself\u001b[0m\u001b[0;34m.\u001b[0m\u001b[0mconstructing_df\u001b[0m\u001b[0;34m(\u001b[0m\u001b[0mself\u001b[0m\u001b[0;34m.\u001b[0m\u001b[0msentiment_dict\u001b[0m\u001b[0;34m,\u001b[0m \u001b[0mself\u001b[0m\u001b[0;34m.\u001b[0m\u001b[0mrecommender\u001b[0m\u001b[0;34m,\u001b[0m \u001b[0mself\u001b[0m\u001b[0;34m.\u001b[0m\u001b[0mactual\u001b[0m\u001b[0;34m)\u001b[0m\u001b[0;34m\u001b[0m\u001b[0;34m\u001b[0m\u001b[0m\n\u001b[0m\u001b[1;32m     29\u001b[0m     \u001b[0mitems\u001b[0m\u001b[0;34m,\u001b[0m \u001b[0mactual\u001b[0m \u001b[0;34m=\u001b[0m \u001b[0mself\u001b[0m\u001b[0;34m.\u001b[0m\u001b[0mformatting_input\u001b[0m\u001b[0;34m(\u001b[0m\u001b[0mdf\u001b[0m\u001b[0;34m)\u001b[0m\u001b[0;34m\u001b[0m\u001b[0;34m\u001b[0m\u001b[0m\n\u001b[1;32m     30\u001b[0m     \u001b[0mreg\u001b[0m \u001b[0;34m=\u001b[0m \u001b[0mLinearRegression\u001b[0m\u001b[0;34m(\u001b[0m\u001b[0;34m)\u001b[0m\u001b[0;34m.\u001b[0m\u001b[0mfit\u001b[0m\u001b[0;34m(\u001b[0m\u001b[0mitems\u001b[0m\u001b[0;34m,\u001b[0m \u001b[0mactual\u001b[0m\u001b[0;34m)\u001b[0m\u001b[0;34m\u001b[0m\u001b[0;34m\u001b[0m\u001b[0m\n",
            "\u001b[0;32m<ipython-input-86-f71059c021b2>\u001b[0m in \u001b[0;36mconstructing_df\u001b[0;34m(sentiment_dict, recommender, actual)\u001b[0m\n\u001b[1;32m      7\u001b[0m   \u001b[0;34m@\u001b[0m\u001b[0mstaticmethod\u001b[0m\u001b[0;34m\u001b[0m\u001b[0;34m\u001b[0m\u001b[0m\n\u001b[1;32m      8\u001b[0m   \u001b[0;32mdef\u001b[0m \u001b[0mconstructing_df\u001b[0m\u001b[0;34m(\u001b[0m\u001b[0msentiment_dict\u001b[0m\u001b[0;34m,\u001b[0m \u001b[0mrecommender\u001b[0m\u001b[0;34m,\u001b[0m \u001b[0mactual\u001b[0m\u001b[0;34m)\u001b[0m\u001b[0;34m:\u001b[0m\u001b[0;34m\u001b[0m\u001b[0;34m\u001b[0m\u001b[0m\n\u001b[0;32m----> 9\u001b[0;31m     return pd.DataFrame([[sentiment_dict[recommender[i].iid], round(recommender[i].est), round(actual.iloc[i]['stars'])] for i in range(len(actual)) if recommender[i].iid in sentiment_dict]\n\u001b[0m\u001b[1;32m     10\u001b[0m             , columns=['Sentiment', 'Recommender', 'Actual'])\n\u001b[1;32m     11\u001b[0m \u001b[0;34m\u001b[0m\u001b[0m\n",
            "\u001b[0;32m<ipython-input-86-f71059c021b2>\u001b[0m in \u001b[0;36m<listcomp>\u001b[0;34m(.0)\u001b[0m\n\u001b[1;32m      7\u001b[0m   \u001b[0;34m@\u001b[0m\u001b[0mstaticmethod\u001b[0m\u001b[0;34m\u001b[0m\u001b[0;34m\u001b[0m\u001b[0m\n\u001b[1;32m      8\u001b[0m   \u001b[0;32mdef\u001b[0m \u001b[0mconstructing_df\u001b[0m\u001b[0;34m(\u001b[0m\u001b[0msentiment_dict\u001b[0m\u001b[0;34m,\u001b[0m \u001b[0mrecommender\u001b[0m\u001b[0;34m,\u001b[0m \u001b[0mactual\u001b[0m\u001b[0;34m)\u001b[0m\u001b[0;34m:\u001b[0m\u001b[0;34m\u001b[0m\u001b[0;34m\u001b[0m\u001b[0m\n\u001b[0;32m----> 9\u001b[0;31m     return pd.DataFrame([[sentiment_dict[recommender[i].iid], round(recommender[i].est), round(actual.iloc[i]['stars'])] for i in range(len(actual)) if recommender[i].iid in sentiment_dict]\n\u001b[0m\u001b[1;32m     10\u001b[0m             , columns=['Sentiment', 'Recommender', 'Actual'])\n\u001b[1;32m     11\u001b[0m \u001b[0;34m\u001b[0m\u001b[0m\n",
            "\u001b[0;31mIndexError\u001b[0m: list index out of range"
          ]
        }
      ]
    },
    {
      "cell_type": "markdown",
      "source": [
        "## Sentiment + Monolethic"
      ],
      "metadata": {
        "id": "N96DAkCGBtKX"
      }
    },
    {
      "cell_type": "code",
      "source": [
        "sen_mono_df = Fusion.constructing_df(sentiment_dictionary, hybrid_mono_predictions, review_limited_first_df)\n",
        "sen_hybrid_fusionFacade_obj = FusionFacade(sentiment_dictionary, hybrid_mono_predictions, review_limited_first_df, sen_mono_df.iloc[:5000][['Sentiment', 'Recommender']], sen_mono_df.iloc[:5000]['Actual'])\n",
        "sen_hybrid_fusion_predictions, sen_hybrid_fusion_obj = sen_hybrid_fusionFacade_obj.run()\n"
      ],
      "metadata": {
        "colab": {
          "base_uri": "https://localhost:8080/",
          "height": 363
        },
        "id": "xpZJF1FnGgzI",
        "outputId": "5b9d4861-d7a8-4457-a416-a5bbb38063d2"
      },
      "execution_count": null,
      "outputs": [
        {
          "output_type": "error",
          "ename": "IndexError",
          "evalue": "ignored",
          "traceback": [
            "\u001b[0;31m---------------------------------------------------------------------------\u001b[0m",
            "\u001b[0;31mIndexError\u001b[0m                                Traceback (most recent call last)",
            "\u001b[0;32m<ipython-input-72-7da6c84de828>\u001b[0m in \u001b[0;36m<module>\u001b[0;34m\u001b[0m\n\u001b[0;32m----> 1\u001b[0;31m \u001b[0msen_mono_df\u001b[0m \u001b[0;34m=\u001b[0m \u001b[0mFusion\u001b[0m\u001b[0;34m.\u001b[0m\u001b[0mconstructing_df\u001b[0m\u001b[0;34m(\u001b[0m\u001b[0msentiment_dictionary\u001b[0m\u001b[0;34m,\u001b[0m \u001b[0mhybrid_mono_predictions\u001b[0m\u001b[0;34m,\u001b[0m \u001b[0mreview_limited_first_df\u001b[0m\u001b[0;34m)\u001b[0m\u001b[0;34m\u001b[0m\u001b[0;34m\u001b[0m\u001b[0m\n\u001b[0m\u001b[1;32m      2\u001b[0m \u001b[0msen_hybrid_fusionFacade_obj\u001b[0m \u001b[0;34m=\u001b[0m \u001b[0mFusionFacade\u001b[0m\u001b[0;34m(\u001b[0m\u001b[0msentiment_dictionary\u001b[0m\u001b[0;34m,\u001b[0m \u001b[0mhybrid_mono_predictions\u001b[0m\u001b[0;34m,\u001b[0m \u001b[0mreview_limited_first_df\u001b[0m\u001b[0;34m,\u001b[0m \u001b[0msen_mono_df\u001b[0m\u001b[0;34m.\u001b[0m\u001b[0miloc\u001b[0m\u001b[0;34m[\u001b[0m\u001b[0;34m:\u001b[0m\u001b[0;36m5000\u001b[0m\u001b[0;34m]\u001b[0m\u001b[0;34m[\u001b[0m\u001b[0;34m[\u001b[0m\u001b[0;34m'Sentiment'\u001b[0m\u001b[0;34m,\u001b[0m \u001b[0;34m'Recommender'\u001b[0m\u001b[0;34m]\u001b[0m\u001b[0;34m]\u001b[0m\u001b[0;34m,\u001b[0m \u001b[0msen_mono_df\u001b[0m\u001b[0;34m.\u001b[0m\u001b[0miloc\u001b[0m\u001b[0;34m[\u001b[0m\u001b[0;34m:\u001b[0m\u001b[0;36m5000\u001b[0m\u001b[0;34m]\u001b[0m\u001b[0;34m[\u001b[0m\u001b[0;34m'Actual'\u001b[0m\u001b[0;34m]\u001b[0m\u001b[0;34m)\u001b[0m\u001b[0;34m\u001b[0m\u001b[0;34m\u001b[0m\u001b[0m\n\u001b[1;32m      3\u001b[0m \u001b[0msen_hybrid_fusion_predictions\u001b[0m\u001b[0;34m,\u001b[0m \u001b[0msen_hybrid_fusion_obj\u001b[0m \u001b[0;34m=\u001b[0m \u001b[0msen_hybrid_fusionFacade_obj\u001b[0m\u001b[0;34m.\u001b[0m\u001b[0mrun\u001b[0m\u001b[0;34m(\u001b[0m\u001b[0;34m)\u001b[0m\u001b[0;34m\u001b[0m\u001b[0;34m\u001b[0m\u001b[0m\n",
            "\u001b[0;32m<ipython-input-71-a70404bb8fad>\u001b[0m in \u001b[0;36mconstructing_df\u001b[0;34m(sentiment_dict, recommender, actual)\u001b[0m\n\u001b[1;32m      7\u001b[0m   \u001b[0;34m@\u001b[0m\u001b[0mstaticmethod\u001b[0m\u001b[0;34m\u001b[0m\u001b[0;34m\u001b[0m\u001b[0m\n\u001b[1;32m      8\u001b[0m   \u001b[0;32mdef\u001b[0m \u001b[0mconstructing_df\u001b[0m\u001b[0;34m(\u001b[0m\u001b[0msentiment_dict\u001b[0m\u001b[0;34m,\u001b[0m \u001b[0mrecommender\u001b[0m\u001b[0;34m,\u001b[0m \u001b[0mactual\u001b[0m\u001b[0;34m)\u001b[0m\u001b[0;34m:\u001b[0m\u001b[0;34m\u001b[0m\u001b[0;34m\u001b[0m\u001b[0m\n\u001b[0;32m----> 9\u001b[0;31m     return pd.DataFrame([[sentiment_dict[recommender[i].iid], round(recommender[i].est), actual.iloc[i]['stars']] for i in range(len(actual)) if recommender[i].iid in sentiment_dict]\n\u001b[0m\u001b[1;32m     10\u001b[0m                   , columns=['Sentiment', 'Recommender', 'Actual'])\n\u001b[1;32m     11\u001b[0m \u001b[0;34m\u001b[0m\u001b[0m\n",
            "\u001b[0;32m<ipython-input-71-a70404bb8fad>\u001b[0m in \u001b[0;36m<listcomp>\u001b[0;34m(.0)\u001b[0m\n\u001b[1;32m      7\u001b[0m   \u001b[0;34m@\u001b[0m\u001b[0mstaticmethod\u001b[0m\u001b[0;34m\u001b[0m\u001b[0;34m\u001b[0m\u001b[0m\n\u001b[1;32m      8\u001b[0m   \u001b[0;32mdef\u001b[0m \u001b[0mconstructing_df\u001b[0m\u001b[0;34m(\u001b[0m\u001b[0msentiment_dict\u001b[0m\u001b[0;34m,\u001b[0m \u001b[0mrecommender\u001b[0m\u001b[0;34m,\u001b[0m \u001b[0mactual\u001b[0m\u001b[0;34m)\u001b[0m\u001b[0;34m:\u001b[0m\u001b[0;34m\u001b[0m\u001b[0;34m\u001b[0m\u001b[0m\n\u001b[0;32m----> 9\u001b[0;31m     return pd.DataFrame([[sentiment_dict[recommender[i].iid], round(recommender[i].est), actual.iloc[i]['stars']] for i in range(len(actual)) if recommender[i].iid in sentiment_dict]\n\u001b[0m\u001b[1;32m     10\u001b[0m                   , columns=['Sentiment', 'Recommender', 'Actual'])\n\u001b[1;32m     11\u001b[0m \u001b[0;34m\u001b[0m\u001b[0m\n",
            "\u001b[0;31mIndexError\u001b[0m: list index out of range"
          ]
        }
      ]
    },
    {
      "cell_type": "markdown",
      "source": [
        "## Sentiment + NNH"
      ],
      "metadata": {
        "id": "40zLMkmSBtD-"
      }
    },
    {
      "cell_type": "code",
      "source": [
        "type (round(sen_nnh_df['Actual'][0]))"
      ],
      "metadata": {
        "colab": {
          "base_uri": "https://localhost:8080/"
        },
        "id": "DMDXtD96lqOr",
        "outputId": "077c6112-5a49-4b64-e64d-e847628f9cd2"
      },
      "execution_count": null,
      "outputs": [
        {
          "output_type": "execute_result",
          "data": {
            "text/plain": [
              "int"
            ]
          },
          "metadata": {},
          "execution_count": 161
        }
      ]
    },
    {
      "cell_type": "code",
      "source": [
        "sen_nnh_df = Fusion.constructing_df(sentiment_dictionary, nnh_predictions, review_limited_first_df)\n",
        "sen_nnh_fusionFacade_obj = FusionFacade(sentiment_dictionary, nnh_predictions, review_limited_first_df, sen_nnh_df.iloc[:5000][['Sentiment', 'Recommender']], sen_nnh_df.iloc[:5000]['Actual'])\n",
        "sen_nnh_fusion_predictions, sen_nnh_fusion_obj = sen_nnh_fusionFacade_obj.run()"
      ],
      "metadata": {
        "colab": {
          "base_uri": "https://localhost:8080/"
        },
        "id": "kwz9wsyPiauo",
        "outputId": "83663da3-4c17-4666-b867-0ef83f15b21e"
      },
      "execution_count": null,
      "outputs": [
        {
          "output_type": "stream",
          "name": "stdout",
          "text": [
            "              precision    recall  f1-score   support\n",
            "\n",
            "           1       0.95      0.81      0.88      1176\n",
            "           2       0.48      0.74      0.58       479\n",
            "           3       0.35      0.61      0.44       528\n",
            "           4       0.27      0.35      0.30       892\n",
            "           5       0.78      0.35      0.48      1925\n",
            "           6       0.00      0.00      0.00         0\n",
            "\n",
            "    accuracy                           0.52      5000\n",
            "   macro avg       0.47      0.48      0.45      5000\n",
            "weighted avg       0.65      0.52      0.55      5000\n",
            "\n"
          ]
        },
        {
          "output_type": "stream",
          "name": "stderr",
          "text": [
            "/usr/local/lib/python3.7/dist-packages/sklearn/base.py:444: UserWarning: X has feature names, but LinearRegression was fitted without feature names\n",
            "  f\"X has feature names, but {self.__class__.__name__} was fitted without\"\n",
            "/usr/local/lib/python3.7/dist-packages/sklearn/metrics/_classification.py:1318: UndefinedMetricWarning: Recall and F-score are ill-defined and being set to 0.0 in labels with no true samples. Use `zero_division` parameter to control this behavior.\n",
            "  _warn_prf(average, modifier, msg_start, len(result))\n",
            "/usr/local/lib/python3.7/dist-packages/sklearn/metrics/_classification.py:1318: UndefinedMetricWarning: Recall and F-score are ill-defined and being set to 0.0 in labels with no true samples. Use `zero_division` parameter to control this behavior.\n",
            "  _warn_prf(average, modifier, msg_start, len(result))\n",
            "/usr/local/lib/python3.7/dist-packages/sklearn/metrics/_classification.py:1318: UndefinedMetricWarning: Recall and F-score are ill-defined and being set to 0.0 in labels with no true samples. Use `zero_division` parameter to control this behavior.\n",
            "  _warn_prf(average, modifier, msg_start, len(result))\n"
          ]
        }
      ]
    },
    {
      "cell_type": "code",
      "source": [
        "sen_nnh_fusion_predictions"
      ],
      "metadata": {
        "colab": {
          "base_uri": "https://localhost:8080/"
        },
        "id": "JNvGZB10nF-4",
        "outputId": "1dd2059a-25f0-48b0-f5ef-0e12def6e2e2"
      },
      "execution_count": null,
      "outputs": [
        {
          "output_type": "execute_result",
          "data": {
            "text/plain": [
              "array([4.44072734, 4.50055731, 3.37467753, ..., 5.55011125, 3.37467753,\n",
              "       4.48386611])"
            ]
          },
          "metadata": {},
          "execution_count": 165
        }
      ]
    },
    {
      "cell_type": "markdown",
      "source": [
        "## Sentiment + NNH (Fusion With Neural Network)"
      ],
      "metadata": {
        "id": "AYlINteOBz3D"
      }
    },
    {
      "cell_type": "markdown",
      "source": [
        "# Fusion hybrid and sentiment using Neural Network"
      ],
      "metadata": {
        "id": "fNxdozynf6CG"
      }
    },
    {
      "cell_type": "code",
      "source": [
        "sen_nnh_nnhFusion_df = Fusion.constructing_df(sentiment_dictionary, nnh_predictions, review_limited_first_df)"
      ],
      "metadata": {
        "id": "F8JYPAlFgJR0"
      },
      "execution_count": null,
      "outputs": []
    },
    {
      "cell_type": "code",
      "source": [
        "hybrid_reg_items = []\n",
        "actual_reg_items = []\n",
        "for index, row in sen_nnh_nnhFusion_df.iterrows():\n",
        "    hybrid_reg_items.append([row['Sentiment'], row['Recommender']])\n",
        "    actual_reg_items.append(row['Actual'])\n",
        "\n",
        "X_reg_rec =  np.array(hybrid_reg_items)\n",
        "Y_reg_act =  np.array(actual_reg_items)"
      ],
      "metadata": {
        "id": "Z7ah7r4BghAy"
      },
      "execution_count": null,
      "outputs": []
    },
    {
      "cell_type": "code",
      "source": [
        "x_nnhs_df = pd.DataFrame(X_reg_rec, columns=['Hybrid', 'Sentiment'])\n",
        "y_nnhs_df = pd.DataFrame(Y_reg_act, columns=['Actual'])\n",
        "x_nnhs_df.head()"
      ],
      "metadata": {
        "colab": {
          "base_uri": "https://localhost:8080/",
          "height": 206
        },
        "id": "zhKCQQS0giOW",
        "outputId": "89445266-3ee2-452a-bf6d-51a49bde1a3e"
      },
      "execution_count": null,
      "outputs": [
        {
          "output_type": "execute_result",
          "data": {
            "text/plain": [
              "     Hybrid  Sentiment\n",
              "0  4.424242        4.0\n",
              "1  3.729167        4.0\n",
              "2  3.735294        3.0\n",
              "3  2.230769        2.0\n",
              "4  4.714286        4.0"
            ],
            "text/html": [
              "\n",
              "  <div id=\"df-770fd783-610b-4b69-883c-bfeefa732975\">\n",
              "    <div class=\"colab-df-container\">\n",
              "      <div>\n",
              "<style scoped>\n",
              "    .dataframe tbody tr th:only-of-type {\n",
              "        vertical-align: middle;\n",
              "    }\n",
              "\n",
              "    .dataframe tbody tr th {\n",
              "        vertical-align: top;\n",
              "    }\n",
              "\n",
              "    .dataframe thead th {\n",
              "        text-align: right;\n",
              "    }\n",
              "</style>\n",
              "<table border=\"1\" class=\"dataframe\">\n",
              "  <thead>\n",
              "    <tr style=\"text-align: right;\">\n",
              "      <th></th>\n",
              "      <th>Hybrid</th>\n",
              "      <th>Sentiment</th>\n",
              "    </tr>\n",
              "  </thead>\n",
              "  <tbody>\n",
              "    <tr>\n",
              "      <th>0</th>\n",
              "      <td>4.424242</td>\n",
              "      <td>4.0</td>\n",
              "    </tr>\n",
              "    <tr>\n",
              "      <th>1</th>\n",
              "      <td>3.729167</td>\n",
              "      <td>4.0</td>\n",
              "    </tr>\n",
              "    <tr>\n",
              "      <th>2</th>\n",
              "      <td>3.735294</td>\n",
              "      <td>3.0</td>\n",
              "    </tr>\n",
              "    <tr>\n",
              "      <th>3</th>\n",
              "      <td>2.230769</td>\n",
              "      <td>2.0</td>\n",
              "    </tr>\n",
              "    <tr>\n",
              "      <th>4</th>\n",
              "      <td>4.714286</td>\n",
              "      <td>4.0</td>\n",
              "    </tr>\n",
              "  </tbody>\n",
              "</table>\n",
              "</div>\n",
              "      <button class=\"colab-df-convert\" onclick=\"convertToInteractive('df-770fd783-610b-4b69-883c-bfeefa732975')\"\n",
              "              title=\"Convert this dataframe to an interactive table.\"\n",
              "              style=\"display:none;\">\n",
              "        \n",
              "  <svg xmlns=\"http://www.w3.org/2000/svg\" height=\"24px\"viewBox=\"0 0 24 24\"\n",
              "       width=\"24px\">\n",
              "    <path d=\"M0 0h24v24H0V0z\" fill=\"none\"/>\n",
              "    <path d=\"M18.56 5.44l.94 2.06.94-2.06 2.06-.94-2.06-.94-.94-2.06-.94 2.06-2.06.94zm-11 1L8.5 8.5l.94-2.06 2.06-.94-2.06-.94L8.5 2.5l-.94 2.06-2.06.94zm10 10l.94 2.06.94-2.06 2.06-.94-2.06-.94-.94-2.06-.94 2.06-2.06.94z\"/><path d=\"M17.41 7.96l-1.37-1.37c-.4-.4-.92-.59-1.43-.59-.52 0-1.04.2-1.43.59L10.3 9.45l-7.72 7.72c-.78.78-.78 2.05 0 2.83L4 21.41c.39.39.9.59 1.41.59.51 0 1.02-.2 1.41-.59l7.78-7.78 2.81-2.81c.8-.78.8-2.07 0-2.86zM5.41 20L4 18.59l7.72-7.72 1.47 1.35L5.41 20z\"/>\n",
              "  </svg>\n",
              "      </button>\n",
              "      \n",
              "  <style>\n",
              "    .colab-df-container {\n",
              "      display:flex;\n",
              "      flex-wrap:wrap;\n",
              "      gap: 12px;\n",
              "    }\n",
              "\n",
              "    .colab-df-convert {\n",
              "      background-color: #E8F0FE;\n",
              "      border: none;\n",
              "      border-radius: 50%;\n",
              "      cursor: pointer;\n",
              "      display: none;\n",
              "      fill: #1967D2;\n",
              "      height: 32px;\n",
              "      padding: 0 0 0 0;\n",
              "      width: 32px;\n",
              "    }\n",
              "\n",
              "    .colab-df-convert:hover {\n",
              "      background-color: #E2EBFA;\n",
              "      box-shadow: 0px 1px 2px rgba(60, 64, 67, 0.3), 0px 1px 3px 1px rgba(60, 64, 67, 0.15);\n",
              "      fill: #174EA6;\n",
              "    }\n",
              "\n",
              "    [theme=dark] .colab-df-convert {\n",
              "      background-color: #3B4455;\n",
              "      fill: #D2E3FC;\n",
              "    }\n",
              "\n",
              "    [theme=dark] .colab-df-convert:hover {\n",
              "      background-color: #434B5C;\n",
              "      box-shadow: 0px 1px 3px 1px rgba(0, 0, 0, 0.15);\n",
              "      filter: drop-shadow(0px 1px 2px rgba(0, 0, 0, 0.3));\n",
              "      fill: #FFFFFF;\n",
              "    }\n",
              "  </style>\n",
              "\n",
              "      <script>\n",
              "        const buttonEl =\n",
              "          document.querySelector('#df-770fd783-610b-4b69-883c-bfeefa732975 button.colab-df-convert');\n",
              "        buttonEl.style.display =\n",
              "          google.colab.kernel.accessAllowed ? 'block' : 'none';\n",
              "\n",
              "        async function convertToInteractive(key) {\n",
              "          const element = document.querySelector('#df-770fd783-610b-4b69-883c-bfeefa732975');\n",
              "          const dataTable =\n",
              "            await google.colab.kernel.invokeFunction('convertToInteractive',\n",
              "                                                     [key], {});\n",
              "          if (!dataTable) return;\n",
              "\n",
              "          const docLinkHtml = 'Like what you see? Visit the ' +\n",
              "            '<a target=\"_blank\" href=https://colab.research.google.com/notebooks/data_table.ipynb>data table notebook</a>'\n",
              "            + ' to learn more about interactive tables.';\n",
              "          element.innerHTML = '';\n",
              "          dataTable['output_type'] = 'display_data';\n",
              "          await google.colab.output.renderOutput(dataTable, element);\n",
              "          const docLink = document.createElement('div');\n",
              "          docLink.innerHTML = docLinkHtml;\n",
              "          element.appendChild(docLink);\n",
              "        }\n",
              "      </script>\n",
              "    </div>\n",
              "  </div>\n",
              "  "
            ]
          },
          "metadata": {},
          "execution_count": 170
        }
      ]
    },
    {
      "cell_type": "code",
      "source": [
        "len(x_nnhs_df)"
      ],
      "metadata": {
        "colab": {
          "base_uri": "https://localhost:8080/"
        },
        "id": "jFZhhNKWhSfe",
        "outputId": "9dd80416-e753-4964-b93c-8dc8c1176c48"
      },
      "execution_count": null,
      "outputs": [
        {
          "output_type": "execute_result",
          "data": {
            "text/plain": [
              "15550"
            ]
          },
          "metadata": {},
          "execution_count": 350
        }
      ]
    },
    {
      "cell_type": "code",
      "source": [
        "x_train_nnhs, x_test_nnhs, y_train_nnhs, y_test_nnhs = train_test_split(x_nnhs_df, y_nnhs_df, test_size=0.2, random_state=42)"
      ],
      "metadata": {
        "id": "PC3hopkUgjqn"
      },
      "execution_count": null,
      "outputs": []
    },
    {
      "cell_type": "code",
      "source": [
        "hidden_units1 = 160\n",
        "hidden_units2 = 480\n",
        "hidden_units3 = 256\n",
        "learning_rate = 0.01\n",
        "# Creating model using the Sequential in tensorflow\n",
        "def build_model_using_sequential():\n",
        "  model = Sequential([\n",
        "    Dense(hidden_units1, kernel_initializer='normal', activation='relu'),\n",
        "    Dropout(0.2),\n",
        "    Dense(hidden_units2, kernel_initializer='normal', activation='relu'),\n",
        "    Dropout(0.2),\n",
        "    Dense(hidden_units3, kernel_initializer='normal', activation='relu'),\n",
        "    Dense(1, kernel_initializer='normal', activation='linear')\n",
        "  ])\n",
        "  return model\n",
        "# build the model\n",
        "nnhs_model = build_model_using_sequential()"
      ],
      "metadata": {
        "id": "paGSwQNNgs5Z"
      },
      "execution_count": null,
      "outputs": []
    },
    {
      "cell_type": "code",
      "source": [
        "# loss function\n",
        "msle = MeanSquaredLogarithmicError()\n",
        "nnhs_model.compile(\n",
        "    loss=msle, \n",
        "    optimizer=Adam(learning_rate=learning_rate), \n",
        "    metrics=[msle]\n",
        ")\n",
        "# train the model\n",
        "history = nnhs_model.fit(\n",
        "    x_train_nnhs.values, \n",
        "    y_train_nnhs.values, \n",
        "    epochs=10, \n",
        "    batch_size=100,\n",
        "    validation_split=0.2\n",
        ")"
      ],
      "metadata": {
        "colab": {
          "base_uri": "https://localhost:8080/"
        },
        "id": "ETa9lFYCguT-",
        "outputId": "566de2f3-143d-45a8-ffbd-bba82c98fc47"
      },
      "execution_count": null,
      "outputs": [
        {
          "output_type": "stream",
          "name": "stdout",
          "text": [
            "Epoch 1/10\n",
            "100/100 [==============================] - 1s 5ms/step - loss: 0.1045 - mean_squared_logarithmic_error: 0.1043 - val_loss: 0.0424 - val_mean_squared_logarithmic_error: 0.0424\n",
            "Epoch 2/10\n",
            "100/100 [==============================] - 0s 4ms/step - loss: 0.0434 - mean_squared_logarithmic_error: 0.0435 - val_loss: 0.0407 - val_mean_squared_logarithmic_error: 0.0407\n",
            "Epoch 3/10\n",
            "100/100 [==============================] - 0s 4ms/step - loss: 0.0433 - mean_squared_logarithmic_error: 0.0434 - val_loss: 0.0404 - val_mean_squared_logarithmic_error: 0.0404\n",
            "Epoch 4/10\n",
            "100/100 [==============================] - 0s 4ms/step - loss: 0.0429 - mean_squared_logarithmic_error: 0.0430 - val_loss: 0.0415 - val_mean_squared_logarithmic_error: 0.0414\n",
            "Epoch 5/10\n",
            "100/100 [==============================] - 0s 4ms/step - loss: 0.0436 - mean_squared_logarithmic_error: 0.0438 - val_loss: 0.0539 - val_mean_squared_logarithmic_error: 0.0539\n",
            "Epoch 6/10\n",
            "100/100 [==============================] - 0s 4ms/step - loss: 0.0443 - mean_squared_logarithmic_error: 0.0443 - val_loss: 0.0419 - val_mean_squared_logarithmic_error: 0.0418\n",
            "Epoch 7/10\n",
            "100/100 [==============================] - 0s 4ms/step - loss: 0.0430 - mean_squared_logarithmic_error: 0.0428 - val_loss: 0.0407 - val_mean_squared_logarithmic_error: 0.0406\n",
            "Epoch 8/10\n",
            "100/100 [==============================] - 0s 4ms/step - loss: 0.0431 - mean_squared_logarithmic_error: 0.0431 - val_loss: 0.0454 - val_mean_squared_logarithmic_error: 0.0454\n",
            "Epoch 9/10\n",
            "100/100 [==============================] - 0s 4ms/step - loss: 0.0440 - mean_squared_logarithmic_error: 0.0440 - val_loss: 0.0420 - val_mean_squared_logarithmic_error: 0.0419\n",
            "Epoch 10/10\n",
            "100/100 [==============================] - 0s 4ms/step - loss: 0.0426 - mean_squared_logarithmic_error: 0.0425 - val_loss: 0.0412 - val_mean_squared_logarithmic_error: 0.0411\n"
          ]
        }
      ]
    },
    {
      "cell_type": "code",
      "source": [
        "def plot_history(history, key):\n",
        "  plt.plot(history.history[key])\n",
        "  plt.plot(history.history['val_'+key])\n",
        "  plt.xlabel(\"Epochs\")\n",
        "  plt.ylabel(key)\n",
        "  plt.legend([key, 'val_'+key])\n",
        "  plt.show()\n",
        "# Plot the history\n",
        "plot_history(history, 'mean_squared_logarithmic_error')"
      ],
      "metadata": {
        "colab": {
          "base_uri": "https://localhost:8080/",
          "height": 279
        },
        "id": "TAyhErYbgv4y",
        "outputId": "b5e0b190-693b-414c-890f-9f8e12fde4ef"
      },
      "execution_count": null,
      "outputs": [
        {
          "output_type": "display_data",
          "data": {
            "text/plain": [
              "<Figure size 432x288 with 1 Axes>"
            ],
            "image/png": "[encoded data removed]"
          },
          "metadata": {
            "needs_background": "light"
          }
        }
      ]
    },
    {
      "cell_type": "code",
      "source": [
        "print (x_test_nnhs, Y_reg_act)"
      ],
      "metadata": {
        "id": "wjzeVrR-gxan"
      },
      "execution_count": null,
      "outputs": []
    },
    {
      "cell_type": "code",
      "source": [
        "nnhs_predicted = nnhs_model.predict(x_test_nnhs)"
      ],
      "metadata": {
        "id": "sTJQhLpxgyrv"
      },
      "execution_count": null,
      "outputs": []
    },
    {
      "cell_type": "code",
      "source": [
        "nnhs_predicted = [round(item[0]) for item in nnhs_predicted]"
      ],
      "metadata": {
        "id": "qm4Z14ZEgz5d"
      },
      "execution_count": null,
      "outputs": []
    },
    {
      "cell_type": "code",
      "source": [
        "print (nnhs_predicted[10:20])\n",
        "print (y_test_nnhs.iloc[10:20])"
      ],
      "metadata": {
        "colab": {
          "base_uri": "https://localhost:8080/"
        },
        "id": "er88h6sdiWvx",
        "outputId": "4c58be5f-d0d3-4985-9fa3-4b048cec325a"
      },
      "execution_count": null,
      "outputs": [
        {
          "output_type": "stream",
          "name": "stdout",
          "text": [
            "[5, 5, 5, 4, 5, 4, 1, 4, 3, 5]\n",
            "       Actual\n",
            "15014     5.0\n",
            "10690     5.0\n",
            "3479      5.0\n",
            "5890      4.0\n",
            "9553      5.0\n",
            "6134      4.0\n",
            "3550      1.0\n",
            "2559      4.0\n",
            "5743      1.0\n",
            "13625     5.0\n"
          ]
        }
      ]
    },
    {
      "cell_type": "code",
      "source": [
        "x_test_nnhs"
      ],
      "metadata": {
        "colab": {
          "base_uri": "https://localhost:8080/",
          "height": 424
        },
        "id": "L1Zy_CkSor97",
        "outputId": "da60432c-caa6-4b93-da8f-5dc733e74719"
      },
      "execution_count": null,
      "outputs": [
        {
          "output_type": "execute_result",
          "data": {
            "text/plain": [
              "         Hybrid  Sentiment\n",
              "8524   3.809524        4.0\n",
              "8777   4.343348        4.0\n",
              "3025   2.652174        1.0\n",
              "8677   3.466667        4.0\n",
              "2848   3.909091        5.0\n",
              "...         ...        ...\n",
              "6194   3.219178        4.0\n",
              "12708  4.115942        4.0\n",
              "10235  3.680851        4.0\n",
              "9354   3.680851        4.0\n",
              "13176  3.584615        3.0\n",
              "\n",
              "[3110 rows x 2 columns]"
            ],
            "text/html": [
              "\n",
              "  <div id=\"df-bb804097-4969-4f26-a1a1-7f4b6ec35fa2\">\n",
              "    <div class=\"colab-df-container\">\n",
              "      <div>\n",
              "<style scoped>\n",
              "    .dataframe tbody tr th:only-of-type {\n",
              "        vertical-align: middle;\n",
              "    }\n",
              "\n",
              "    .dataframe tbody tr th {\n",
              "        vertical-align: top;\n",
              "    }\n",
              "\n",
              "    .dataframe thead th {\n",
              "        text-align: right;\n",
              "    }\n",
              "</style>\n",
              "<table border=\"1\" class=\"dataframe\">\n",
              "  <thead>\n",
              "    <tr style=\"text-align: right;\">\n",
              "      <th></th>\n",
              "      <th>Hybrid</th>\n",
              "      <th>Sentiment</th>\n",
              "    </tr>\n",
              "  </thead>\n",
              "  <tbody>\n",
              "    <tr>\n",
              "      <th>8524</th>\n",
              "      <td>3.809524</td>\n",
              "      <td>4.0</td>\n",
              "    </tr>\n",
              "    <tr>\n",
              "      <th>8777</th>\n",
              "      <td>4.343348</td>\n",
              "      <td>4.0</td>\n",
              "    </tr>\n",
              "    <tr>\n",
              "      <th>3025</th>\n",
              "      <td>2.652174</td>\n",
              "      <td>1.0</td>\n",
              "    </tr>\n",
              "    <tr>\n",
              "      <th>8677</th>\n",
              "      <td>3.466667</td>\n",
              "      <td>4.0</td>\n",
              "    </tr>\n",
              "    <tr>\n",
              "      <th>2848</th>\n",
              "      <td>3.909091</td>\n",
              "      <td>5.0</td>\n",
              "    </tr>\n",
              "    <tr>\n",
              "      <th>...</th>\n",
              "      <td>...</td>\n",
              "      <td>...</td>\n",
              "    </tr>\n",
              "    <tr>\n",
              "      <th>6194</th>\n",
              "      <td>3.219178</td>\n",
              "      <td>4.0</td>\n",
              "    </tr>\n",
              "    <tr>\n",
              "      <th>12708</th>\n",
              "      <td>4.115942</td>\n",
              "      <td>4.0</td>\n",
              "    </tr>\n",
              "    <tr>\n",
              "      <th>10235</th>\n",
              "      <td>3.680851</td>\n",
              "      <td>4.0</td>\n",
              "    </tr>\n",
              "    <tr>\n",
              "      <th>9354</th>\n",
              "      <td>3.680851</td>\n",
              "      <td>4.0</td>\n",
              "    </tr>\n",
              "    <tr>\n",
              "      <th>13176</th>\n",
              "      <td>3.584615</td>\n",
              "      <td>3.0</td>\n",
              "    </tr>\n",
              "  </tbody>\n",
              "</table>\n",
              "<p>3110 rows × 2 columns</p>\n",
              "</div>\n",
              "      <button class=\"colab-df-convert\" onclick=\"convertToInteractive('df-bb804097-4969-4f26-a1a1-7f4b6ec35fa2')\"\n",
              "              title=\"Convert this dataframe to an interactive table.\"\n",
              "              style=\"display:none;\">\n",
              "        \n",
              "  <svg xmlns=\"http://www.w3.org/2000/svg\" height=\"24px\"viewBox=\"0 0 24 24\"\n",
              "       width=\"24px\">\n",
              "    <path d=\"M0 0h24v24H0V0z\" fill=\"none\"/>\n",
              "    <path d=\"M18.56 5.44l.94 2.06.94-2.06 2.06-.94-2.06-.94-.94-2.06-.94 2.06-2.06.94zm-11 1L8.5 8.5l.94-2.06 2.06-.94-2.06-.94L8.5 2.5l-.94 2.06-2.06.94zm10 10l.94 2.06.94-2.06 2.06-.94-2.06-.94-.94-2.06-.94 2.06-2.06.94z\"/><path d=\"M17.41 7.96l-1.37-1.37c-.4-.4-.92-.59-1.43-.59-.52 0-1.04.2-1.43.59L10.3 9.45l-7.72 7.72c-.78.78-.78 2.05 0 2.83L4 21.41c.39.39.9.59 1.41.59.51 0 1.02-.2 1.41-.59l7.78-7.78 2.81-2.81c.8-.78.8-2.07 0-2.86zM5.41 20L4 18.59l7.72-7.72 1.47 1.35L5.41 20z\"/>\n",
              "  </svg>\n",
              "      </button>\n",
              "      \n",
              "  <style>\n",
              "    .colab-df-container {\n",
              "      display:flex;\n",
              "      flex-wrap:wrap;\n",
              "      gap: 12px;\n",
              "    }\n",
              "\n",
              "    .colab-df-convert {\n",
              "      background-color: #E8F0FE;\n",
              "      border: none;\n",
              "      border-radius: 50%;\n",
              "      cursor: pointer;\n",
              "      display: none;\n",
              "      fill: #1967D2;\n",
              "      height: 32px;\n",
              "      padding: 0 0 0 0;\n",
              "      width: 32px;\n",
              "    }\n",
              "\n",
              "    .colab-df-convert:hover {\n",
              "      background-color: #E2EBFA;\n",
              "      box-shadow: 0px 1px 2px rgba(60, 64, 67, 0.3), 0px 1px 3px 1px rgba(60, 64, 67, 0.15);\n",
              "      fill: #174EA6;\n",
              "    }\n",
              "\n",
              "    [theme=dark] .colab-df-convert {\n",
              "      background-color: #3B4455;\n",
              "      fill: #D2E3FC;\n",
              "    }\n",
              "\n",
              "    [theme=dark] .colab-df-convert:hover {\n",
              "      background-color: #434B5C;\n",
              "      box-shadow: 0px 1px 3px 1px rgba(0, 0, 0, 0.15);\n",
              "      filter: drop-shadow(0px 1px 2px rgba(0, 0, 0, 0.3));\n",
              "      fill: #FFFFFF;\n",
              "    }\n",
              "  </style>\n",
              "\n",
              "      <script>\n",
              "        const buttonEl =\n",
              "          document.querySelector('#df-bb804097-4969-4f26-a1a1-7f4b6ec35fa2 button.colab-df-convert');\n",
              "        buttonEl.style.display =\n",
              "          google.colab.kernel.accessAllowed ? 'block' : 'none';\n",
              "\n",
              "        async function convertToInteractive(key) {\n",
              "          const element = document.querySelector('#df-bb804097-4969-4f26-a1a1-7f4b6ec35fa2');\n",
              "          const dataTable =\n",
              "            await google.colab.kernel.invokeFunction('convertToInteractive',\n",
              "                                                     [key], {});\n",
              "          if (!dataTable) return;\n",
              "\n",
              "          const docLinkHtml = 'Like what you see? Visit the ' +\n",
              "            '<a target=\"_blank\" href=https://colab.research.google.com/notebooks/data_table.ipynb>data table notebook</a>'\n",
              "            + ' to learn more about interactive tables.';\n",
              "          element.innerHTML = '';\n",
              "          dataTable['output_type'] = 'display_data';\n",
              "          await google.colab.output.renderOutput(dataTable, element);\n",
              "          const docLink = document.createElement('div');\n",
              "          docLink.innerHTML = docLinkHtml;\n",
              "          element.appendChild(docLink);\n",
              "        }\n",
              "      </script>\n",
              "    </div>\n",
              "  </div>\n",
              "  "
            ]
          },
          "metadata": {},
          "execution_count": 178
        }
      ]
    },
    {
      "cell_type": "code",
      "source": [
        "print(classification_report(y_test_nnhs, nnhs_predicted))"
      ],
      "metadata": {
        "colab": {
          "base_uri": "https://localhost:8080/"
        },
        "id": "kgFOz2HOg1zI",
        "outputId": "e55c4ebf-e346-4bbe-e8ea-e26e4a5fbb55"
      },
      "execution_count": null,
      "outputs": [
        {
          "output_type": "stream",
          "name": "stdout",
          "text": [
            "              precision    recall  f1-score   support\n",
            "\n",
            "         1.0       0.95      0.79      0.86       606\n",
            "         2.0       0.51      0.71      0.59       265\n",
            "         3.0       0.37      0.46      0.41       302\n",
            "         4.0       0.52      0.18      0.26       594\n",
            "         5.0       0.70      0.71      0.70      1343\n",
            "         6.0       0.00      0.00      0.00         0\n",
            "\n",
            "    accuracy                           0.60      3110\n",
            "   macro avg       0.51      0.47      0.47      3110\n",
            "weighted avg       0.67      0.60      0.61      3110\n",
            "\n"
          ]
        },
        {
          "output_type": "stream",
          "name": "stderr",
          "text": [
            "/usr/local/lib/python3.7/dist-packages/sklearn/metrics/_classification.py:1318: UndefinedMetricWarning: Recall and F-score are ill-defined and being set to 0.0 in labels with no true samples. Use `zero_division` parameter to control this behavior.\n",
            "  _warn_prf(average, modifier, msg_start, len(result))\n",
            "/usr/local/lib/python3.7/dist-packages/sklearn/metrics/_classification.py:1318: UndefinedMetricWarning: Recall and F-score are ill-defined and being set to 0.0 in labels with no true samples. Use `zero_division` parameter to control this behavior.\n",
            "  _warn_prf(average, modifier, msg_start, len(result))\n",
            "/usr/local/lib/python3.7/dist-packages/sklearn/metrics/_classification.py:1318: UndefinedMetricWarning: Recall and F-score are ill-defined and being set to 0.0 in labels with no true samples. Use `zero_division` parameter to control this behavior.\n",
            "  _warn_prf(average, modifier, msg_start, len(result))\n"
          ]
        }
      ]
    }
  ],
  "metadata": {
    "accelerator": "GPU",
    "colab": {
      "collapsed_sections": [
        "nppECuW-jWVH",
        "eGB7fGS11qIV",
        "Ptrz6Bez1tFE",
        "LgZMSBbujcj9",
        "vXidIR7pO2ZQ",
        "uTh-fTIqi9Pg",
        "kg3z35ZeyJOm",
        "Ys8aWERq1CG9",
        "8t_LUcSNwWxb",
        "NiDDGpweaLJA",
        "yLnR3ucclWOF",
        "1GcdEDI1lbpd",
        "8-zr21yw8daN",
        "-WXvo0p4LAwa",
        "uVt4XeqeLH3r",
        "PUw5Hnkhbkks",
        "8GUhCNtFXCGJ",
        "cFPZplhyzqYG",
        "IAC6pVQCl_X2",
        "rajWut1MCUX3",
        "y-ioLthICQxh",
        "Q5prAeBTCV-e",
        "Fg62ZcYnmhoC",
        "RCSq6NPkU2pb",
        "x58zLfmxU42x",
        "h7XuLrQCU-Vh",
        "6xxhBi9NGRTq",
        "pTeSWsSLEYrj",
        "xT3XYbzB8TdH",
        "VaTz2isUmKkC",
        "diePFxQJpSDa",
        "9_yhNhS3zkdC",
        "yRaNJ6r7d_gT",
        "sjfFtuqiCpDv",
        "3GzQ4fJNBi7K",
        "yb9vahgMBk5o",
        "NKP3HEyKBmZY",
        "1Nofn-TkBeDY",
        "DtY8s1BIBqPg",
        "N96DAkCGBtKX",
        "40zLMkmSBtD-",
        "fNxdozynf6CG"
      ],
      "provenance": []
    },
    "gpuClass": "standard",
    "kernelspec": {
      "display_name": "Python 3",
      "name": "python3"
    },
    "language_info": {
      "name": "python"
    }
  },
  "nbformat": 4,
  "nbformat_minor": 0
}